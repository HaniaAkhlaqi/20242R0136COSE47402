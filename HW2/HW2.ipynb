{
  "nbformat": 4,
  "nbformat_minor": 0,
  "metadata": {
    "colab": {
      "provenance": [],
      "gpuType": "T4"
    },
    "kernelspec": {
      "name": "python3",
      "display_name": "Python 3"
    },
    "language_info": {
      "name": "python"
    },
    "accelerator": "GPU"
  },
  "cells": [
    {
      "cell_type": "code",
      "source": [
        "pip install d2l==1.0.3"
      ],
      "metadata": {
        "colab": {
          "base_uri": "https://localhost:8080/"
        },
        "id": "JsH7yHguAOCr",
        "outputId": "2f56d660-e936-4dd3-efdb-0531eeae4ba0"
      },
      "execution_count": 1,
      "outputs": [
        {
          "output_type": "stream",
          "name": "stdout",
          "text": [
            "Requirement already satisfied: d2l==1.0.3 in /usr/local/lib/python3.10/dist-packages (1.0.3)\n",
            "Requirement already satisfied: jupyter==1.0.0 in /usr/local/lib/python3.10/dist-packages (from d2l==1.0.3) (1.0.0)\n",
            "Requirement already satisfied: numpy==1.23.5 in /usr/local/lib/python3.10/dist-packages (from d2l==1.0.3) (1.23.5)\n",
            "Requirement already satisfied: matplotlib==3.7.2 in /usr/local/lib/python3.10/dist-packages (from d2l==1.0.3) (3.7.2)\n",
            "Requirement already satisfied: matplotlib-inline==0.1.6 in /usr/local/lib/python3.10/dist-packages (from d2l==1.0.3) (0.1.6)\n",
            "Requirement already satisfied: requests==2.31.0 in /usr/local/lib/python3.10/dist-packages (from d2l==1.0.3) (2.31.0)\n",
            "Requirement already satisfied: pandas==2.0.3 in /usr/local/lib/python3.10/dist-packages (from d2l==1.0.3) (2.0.3)\n",
            "Requirement already satisfied: scipy==1.10.1 in /usr/local/lib/python3.10/dist-packages (from d2l==1.0.3) (1.10.1)\n",
            "Requirement already satisfied: notebook in /usr/local/lib/python3.10/dist-packages (from jupyter==1.0.0->d2l==1.0.3) (6.5.5)\n",
            "Requirement already satisfied: qtconsole in /usr/local/lib/python3.10/dist-packages (from jupyter==1.0.0->d2l==1.0.3) (5.6.0)\n",
            "Requirement already satisfied: jupyter-console in /usr/local/lib/python3.10/dist-packages (from jupyter==1.0.0->d2l==1.0.3) (6.1.0)\n",
            "Requirement already satisfied: nbconvert in /usr/local/lib/python3.10/dist-packages (from jupyter==1.0.0->d2l==1.0.3) (6.5.4)\n",
            "Requirement already satisfied: ipykernel in /usr/local/lib/python3.10/dist-packages (from jupyter==1.0.0->d2l==1.0.3) (5.5.6)\n",
            "Requirement already satisfied: ipywidgets in /usr/local/lib/python3.10/dist-packages (from jupyter==1.0.0->d2l==1.0.3) (7.7.1)\n",
            "Requirement already satisfied: contourpy>=1.0.1 in /usr/local/lib/python3.10/dist-packages (from matplotlib==3.7.2->d2l==1.0.3) (1.3.0)\n",
            "Requirement already satisfied: cycler>=0.10 in /usr/local/lib/python3.10/dist-packages (from matplotlib==3.7.2->d2l==1.0.3) (0.12.1)\n",
            "Requirement already satisfied: fonttools>=4.22.0 in /usr/local/lib/python3.10/dist-packages (from matplotlib==3.7.2->d2l==1.0.3) (4.54.1)\n",
            "Requirement already satisfied: kiwisolver>=1.0.1 in /usr/local/lib/python3.10/dist-packages (from matplotlib==3.7.2->d2l==1.0.3) (1.4.7)\n",
            "Requirement already satisfied: packaging>=20.0 in /usr/local/lib/python3.10/dist-packages (from matplotlib==3.7.2->d2l==1.0.3) (24.1)\n",
            "Requirement already satisfied: pillow>=6.2.0 in /usr/local/lib/python3.10/dist-packages (from matplotlib==3.7.2->d2l==1.0.3) (10.4.0)\n",
            "Requirement already satisfied: pyparsing<3.1,>=2.3.1 in /usr/local/lib/python3.10/dist-packages (from matplotlib==3.7.2->d2l==1.0.3) (3.0.9)\n",
            "Requirement already satisfied: python-dateutil>=2.7 in /usr/local/lib/python3.10/dist-packages (from matplotlib==3.7.2->d2l==1.0.3) (2.8.2)\n",
            "Requirement already satisfied: traitlets in /usr/local/lib/python3.10/dist-packages (from matplotlib-inline==0.1.6->d2l==1.0.3) (5.7.1)\n",
            "Requirement already satisfied: pytz>=2020.1 in /usr/local/lib/python3.10/dist-packages (from pandas==2.0.3->d2l==1.0.3) (2024.2)\n",
            "Requirement already satisfied: tzdata>=2022.1 in /usr/local/lib/python3.10/dist-packages (from pandas==2.0.3->d2l==1.0.3) (2024.2)\n",
            "Requirement already satisfied: charset-normalizer<4,>=2 in /usr/local/lib/python3.10/dist-packages (from requests==2.31.0->d2l==1.0.3) (3.3.2)\n",
            "Requirement already satisfied: idna<4,>=2.5 in /usr/local/lib/python3.10/dist-packages (from requests==2.31.0->d2l==1.0.3) (3.10)\n",
            "Requirement already satisfied: urllib3<3,>=1.21.1 in /usr/local/lib/python3.10/dist-packages (from requests==2.31.0->d2l==1.0.3) (2.2.3)\n",
            "Requirement already satisfied: certifi>=2017.4.17 in /usr/local/lib/python3.10/dist-packages (from requests==2.31.0->d2l==1.0.3) (2024.8.30)\n",
            "Requirement already satisfied: six>=1.5 in /usr/local/lib/python3.10/dist-packages (from python-dateutil>=2.7->matplotlib==3.7.2->d2l==1.0.3) (1.16.0)\n",
            "Requirement already satisfied: ipython-genutils in /usr/local/lib/python3.10/dist-packages (from ipykernel->jupyter==1.0.0->d2l==1.0.3) (0.2.0)\n",
            "Requirement already satisfied: ipython>=5.0.0 in /usr/local/lib/python3.10/dist-packages (from ipykernel->jupyter==1.0.0->d2l==1.0.3) (7.34.0)\n",
            "Requirement already satisfied: jupyter-client in /usr/local/lib/python3.10/dist-packages (from ipykernel->jupyter==1.0.0->d2l==1.0.3) (6.1.12)\n",
            "Requirement already satisfied: tornado>=4.2 in /usr/local/lib/python3.10/dist-packages (from ipykernel->jupyter==1.0.0->d2l==1.0.3) (6.3.3)\n",
            "Requirement already satisfied: widgetsnbextension~=3.6.0 in /usr/local/lib/python3.10/dist-packages (from ipywidgets->jupyter==1.0.0->d2l==1.0.3) (3.6.9)\n",
            "Requirement already satisfied: jupyterlab-widgets>=1.0.0 in /usr/local/lib/python3.10/dist-packages (from ipywidgets->jupyter==1.0.0->d2l==1.0.3) (3.0.13)\n",
            "Requirement already satisfied: prompt-toolkit!=3.0.0,!=3.0.1,<3.1.0,>=2.0.0 in /usr/local/lib/python3.10/dist-packages (from jupyter-console->jupyter==1.0.0->d2l==1.0.3) (3.0.48)\n",
            "Requirement already satisfied: pygments in /usr/local/lib/python3.10/dist-packages (from jupyter-console->jupyter==1.0.0->d2l==1.0.3) (2.18.0)\n",
            "Requirement already satisfied: lxml in /usr/local/lib/python3.10/dist-packages (from nbconvert->jupyter==1.0.0->d2l==1.0.3) (4.9.4)\n",
            "Requirement already satisfied: beautifulsoup4 in /usr/local/lib/python3.10/dist-packages (from nbconvert->jupyter==1.0.0->d2l==1.0.3) (4.12.3)\n",
            "Requirement already satisfied: bleach in /usr/local/lib/python3.10/dist-packages (from nbconvert->jupyter==1.0.0->d2l==1.0.3) (6.1.0)\n",
            "Requirement already satisfied: defusedxml in /usr/local/lib/python3.10/dist-packages (from nbconvert->jupyter==1.0.0->d2l==1.0.3) (0.7.1)\n",
            "Requirement already satisfied: entrypoints>=0.2.2 in /usr/local/lib/python3.10/dist-packages (from nbconvert->jupyter==1.0.0->d2l==1.0.3) (0.4)\n",
            "Requirement already satisfied: jinja2>=3.0 in /usr/local/lib/python3.10/dist-packages (from nbconvert->jupyter==1.0.0->d2l==1.0.3) (3.1.4)\n",
            "Requirement already satisfied: jupyter-core>=4.7 in /usr/local/lib/python3.10/dist-packages (from nbconvert->jupyter==1.0.0->d2l==1.0.3) (5.7.2)\n",
            "Requirement already satisfied: jupyterlab-pygments in /usr/local/lib/python3.10/dist-packages (from nbconvert->jupyter==1.0.0->d2l==1.0.3) (0.3.0)\n",
            "Requirement already satisfied: MarkupSafe>=2.0 in /usr/local/lib/python3.10/dist-packages (from nbconvert->jupyter==1.0.0->d2l==1.0.3) (2.1.5)\n",
            "Requirement already satisfied: mistune<2,>=0.8.1 in /usr/local/lib/python3.10/dist-packages (from nbconvert->jupyter==1.0.0->d2l==1.0.3) (0.8.4)\n",
            "Requirement already satisfied: nbclient>=0.5.0 in /usr/local/lib/python3.10/dist-packages (from nbconvert->jupyter==1.0.0->d2l==1.0.3) (0.10.0)\n",
            "Requirement already satisfied: nbformat>=5.1 in /usr/local/lib/python3.10/dist-packages (from nbconvert->jupyter==1.0.0->d2l==1.0.3) (5.10.4)\n",
            "Requirement already satisfied: pandocfilters>=1.4.1 in /usr/local/lib/python3.10/dist-packages (from nbconvert->jupyter==1.0.0->d2l==1.0.3) (1.5.1)\n",
            "Requirement already satisfied: tinycss2 in /usr/local/lib/python3.10/dist-packages (from nbconvert->jupyter==1.0.0->d2l==1.0.3) (1.3.0)\n",
            "Requirement already satisfied: pyzmq<25,>=17 in /usr/local/lib/python3.10/dist-packages (from notebook->jupyter==1.0.0->d2l==1.0.3) (24.0.1)\n",
            "Requirement already satisfied: argon2-cffi in /usr/local/lib/python3.10/dist-packages (from notebook->jupyter==1.0.0->d2l==1.0.3) (23.1.0)\n",
            "Requirement already satisfied: nest-asyncio>=1.5 in /usr/local/lib/python3.10/dist-packages (from notebook->jupyter==1.0.0->d2l==1.0.3) (1.6.0)\n",
            "Requirement already satisfied: Send2Trash>=1.8.0 in /usr/local/lib/python3.10/dist-packages (from notebook->jupyter==1.0.0->d2l==1.0.3) (1.8.3)\n",
            "Requirement already satisfied: terminado>=0.8.3 in /usr/local/lib/python3.10/dist-packages (from notebook->jupyter==1.0.0->d2l==1.0.3) (0.18.1)\n",
            "Requirement already satisfied: prometheus-client in /usr/local/lib/python3.10/dist-packages (from notebook->jupyter==1.0.0->d2l==1.0.3) (0.21.0)\n",
            "Requirement already satisfied: nbclassic>=0.4.7 in /usr/local/lib/python3.10/dist-packages (from notebook->jupyter==1.0.0->d2l==1.0.3) (1.1.0)\n",
            "Requirement already satisfied: qtpy>=2.4.0 in /usr/local/lib/python3.10/dist-packages (from qtconsole->jupyter==1.0.0->d2l==1.0.3) (2.4.1)\n",
            "Requirement already satisfied: setuptools>=18.5 in /usr/local/lib/python3.10/dist-packages (from ipython>=5.0.0->ipykernel->jupyter==1.0.0->d2l==1.0.3) (71.0.4)\n",
            "Requirement already satisfied: jedi>=0.16 in /usr/local/lib/python3.10/dist-packages (from ipython>=5.0.0->ipykernel->jupyter==1.0.0->d2l==1.0.3) (0.19.1)\n",
            "Requirement already satisfied: decorator in /usr/local/lib/python3.10/dist-packages (from ipython>=5.0.0->ipykernel->jupyter==1.0.0->d2l==1.0.3) (4.4.2)\n",
            "Requirement already satisfied: pickleshare in /usr/local/lib/python3.10/dist-packages (from ipython>=5.0.0->ipykernel->jupyter==1.0.0->d2l==1.0.3) (0.7.5)\n",
            "Requirement already satisfied: backcall in /usr/local/lib/python3.10/dist-packages (from ipython>=5.0.0->ipykernel->jupyter==1.0.0->d2l==1.0.3) (0.2.0)\n",
            "Requirement already satisfied: pexpect>4.3 in /usr/local/lib/python3.10/dist-packages (from ipython>=5.0.0->ipykernel->jupyter==1.0.0->d2l==1.0.3) (4.9.0)\n",
            "Requirement already satisfied: platformdirs>=2.5 in /usr/local/lib/python3.10/dist-packages (from jupyter-core>=4.7->nbconvert->jupyter==1.0.0->d2l==1.0.3) (4.3.6)\n",
            "Requirement already satisfied: notebook-shim>=0.2.3 in /usr/local/lib/python3.10/dist-packages (from nbclassic>=0.4.7->notebook->jupyter==1.0.0->d2l==1.0.3) (0.2.4)\n",
            "Requirement already satisfied: fastjsonschema>=2.15 in /usr/local/lib/python3.10/dist-packages (from nbformat>=5.1->nbconvert->jupyter==1.0.0->d2l==1.0.3) (2.20.0)\n",
            "Requirement already satisfied: jsonschema>=2.6 in /usr/local/lib/python3.10/dist-packages (from nbformat>=5.1->nbconvert->jupyter==1.0.0->d2l==1.0.3) (4.23.0)\n",
            "Requirement already satisfied: wcwidth in /usr/local/lib/python3.10/dist-packages (from prompt-toolkit!=3.0.0,!=3.0.1,<3.1.0,>=2.0.0->jupyter-console->jupyter==1.0.0->d2l==1.0.3) (0.2.13)\n",
            "Requirement already satisfied: ptyprocess in /usr/local/lib/python3.10/dist-packages (from terminado>=0.8.3->notebook->jupyter==1.0.0->d2l==1.0.3) (0.7.0)\n",
            "Requirement already satisfied: argon2-cffi-bindings in /usr/local/lib/python3.10/dist-packages (from argon2-cffi->notebook->jupyter==1.0.0->d2l==1.0.3) (21.2.0)\n",
            "Requirement already satisfied: soupsieve>1.2 in /usr/local/lib/python3.10/dist-packages (from beautifulsoup4->nbconvert->jupyter==1.0.0->d2l==1.0.3) (2.6)\n",
            "Requirement already satisfied: webencodings in /usr/local/lib/python3.10/dist-packages (from bleach->nbconvert->jupyter==1.0.0->d2l==1.0.3) (0.5.1)\n",
            "Requirement already satisfied: parso<0.9.0,>=0.8.3 in /usr/local/lib/python3.10/dist-packages (from jedi>=0.16->ipython>=5.0.0->ipykernel->jupyter==1.0.0->d2l==1.0.3) (0.8.4)\n",
            "Requirement already satisfied: attrs>=22.2.0 in /usr/local/lib/python3.10/dist-packages (from jsonschema>=2.6->nbformat>=5.1->nbconvert->jupyter==1.0.0->d2l==1.0.3) (24.2.0)\n",
            "Requirement already satisfied: jsonschema-specifications>=2023.03.6 in /usr/local/lib/python3.10/dist-packages (from jsonschema>=2.6->nbformat>=5.1->nbconvert->jupyter==1.0.0->d2l==1.0.3) (2023.12.1)\n",
            "Requirement already satisfied: referencing>=0.28.4 in /usr/local/lib/python3.10/dist-packages (from jsonschema>=2.6->nbformat>=5.1->nbconvert->jupyter==1.0.0->d2l==1.0.3) (0.35.1)\n",
            "Requirement already satisfied: rpds-py>=0.7.1 in /usr/local/lib/python3.10/dist-packages (from jsonschema>=2.6->nbformat>=5.1->nbconvert->jupyter==1.0.0->d2l==1.0.3) (0.20.0)\n",
            "Requirement already satisfied: jupyter-server<3,>=1.8 in /usr/local/lib/python3.10/dist-packages (from notebook-shim>=0.2.3->nbclassic>=0.4.7->notebook->jupyter==1.0.0->d2l==1.0.3) (1.24.0)\n",
            "Requirement already satisfied: cffi>=1.0.1 in /usr/local/lib/python3.10/dist-packages (from argon2-cffi-bindings->argon2-cffi->notebook->jupyter==1.0.0->d2l==1.0.3) (1.17.1)\n",
            "Requirement already satisfied: pycparser in /usr/local/lib/python3.10/dist-packages (from cffi>=1.0.1->argon2-cffi-bindings->argon2-cffi->notebook->jupyter==1.0.0->d2l==1.0.3) (2.22)\n",
            "Requirement already satisfied: anyio<4,>=3.1.0 in /usr/local/lib/python3.10/dist-packages (from jupyter-server<3,>=1.8->notebook-shim>=0.2.3->nbclassic>=0.4.7->notebook->jupyter==1.0.0->d2l==1.0.3) (3.7.1)\n",
            "Requirement already satisfied: websocket-client in /usr/local/lib/python3.10/dist-packages (from jupyter-server<3,>=1.8->notebook-shim>=0.2.3->nbclassic>=0.4.7->notebook->jupyter==1.0.0->d2l==1.0.3) (1.8.0)\n",
            "Requirement already satisfied: sniffio>=1.1 in /usr/local/lib/python3.10/dist-packages (from anyio<4,>=3.1.0->jupyter-server<3,>=1.8->notebook-shim>=0.2.3->nbclassic>=0.4.7->notebook->jupyter==1.0.0->d2l==1.0.3) (1.3.1)\n",
            "Requirement already satisfied: exceptiongroup in /usr/local/lib/python3.10/dist-packages (from anyio<4,>=3.1.0->jupyter-server<3,>=1.8->notebook-shim>=0.2.3->nbclassic>=0.4.7->notebook->jupyter==1.0.0->d2l==1.0.3) (1.2.2)\n"
          ]
        }
      ]
    },
    {
      "cell_type": "markdown",
      "source": [
        "**7.1. From Fully Connected Layers to Convolutions**"
      ],
      "metadata": {
        "id": "p7sIee2PBNsA"
      }
    },
    {
      "cell_type": "markdown",
      "source": [
        "**7.1 key takeaways**\n",
        "\n",
        "\n",
        "*  Convolutional Neural Networks (CNNs) are a specialized type of neural network architecture designed for processing high-dimensional perceptual data, such as images.\n",
        "\n",
        "*   CNNs exploit the inherent structure of images by incorporating principles of translation invariance and locality.\n",
        "\n",
        "*  Convolutional layers are the core building blocks of CNNs, applying filters to local regions of the input data to extract features that are invariant to spatial shifts. In contrast s fully connected layer connects every neuron in one layer to every neuron in the next layer.\n",
        "\n",
        "*   Spatial invariance is a prpperty of a system or process and means they remain unchanged when their position is shifted. CNNs use filters that are applied to different parts of an image. The same filter is used regardless of its position on the image, making it spatially invariant (shift along one axis, scaling or roatations) or more specific translation invariant(only shift along one axis). This allows CNNs to detect features like edges or shapes anywhere in an image.\n",
        "\n",
        "*   The utput from the earliest layer of network should depend primarily on the inputs from a small region of the previous layer. The idea is that nearby pixels in an image are more likely to be related than distant pixels. In this way CNN avoids processing entire image and leads to better computation performance.\n",
        "\n",
        "*   Channels in CNNs allow for processing multi-dimensional data, such as color images. Each channel represents a different aspect of the data, and the network can learn to extract features from each channel separately.\n",
        "\n",
        "*   CNNs offer significant computational advantages over traditional fully connected networks, making them suitable for large-scale image processing tasks. Because they reduce the number of parameters and computations required. This is achieved by sharing weights across different regions of the input data.\n",
        "\n",
        "\n",
        "\n",
        "\n",
        "\n",
        "\n",
        "\n",
        "\n",
        "\n"
      ],
      "metadata": {
        "id": "H4d2ojRCBQ0p"
      }
    },
    {
      "cell_type": "markdown",
      "source": [
        "**7.2. Convolutions for Images**"
      ],
      "metadata": {
        "id": "A4_YKzGIBWvb"
      }
    },
    {
      "cell_type": "code",
      "execution_count": 2,
      "metadata": {
        "id": "Y5Z6IM1vwEaj"
      },
      "outputs": [],
      "source": [
        "import torch\n",
        "from torch import nn\n",
        "from d2l import torch as d2l"
      ]
    },
    {
      "cell_type": "code",
      "source": [
        "def corr2d(X, K):\n",
        "    # Compute 2D cross-correlation\n",
        "    h, w = K.shape\n",
        "    Y = torch.zeros((X.shape[0] - h + 1, X.shape[1] - w + 1))\n",
        "    for i in range(Y.shape[0]):\n",
        "        for j in range(Y.shape[1]):\n",
        "            Y[i, j] = (X[i:i + h, j:j + w] * K).sum()\n",
        "    return Y"
      ],
      "metadata": {
        "id": "BS_hL9aXAtne"
      },
      "execution_count": 3,
      "outputs": []
    },
    {
      "cell_type": "code",
      "source": [
        "X = torch.tensor([[0.0, 1.0, 2.0], [3.0, 4.0, 5.0], [6.0, 7.0, 8.0]])\n",
        "K = torch.tensor([[0.0, 1.0], [2.0, 3.0]])\n",
        "corr2d(X, K)"
      ],
      "metadata": {
        "colab": {
          "base_uri": "https://localhost:8080/"
        },
        "id": "mrPjGuhxBCGC",
        "outputId": "5fbd1b48-751e-4f82-af0a-c42d745bac7a"
      },
      "execution_count": 4,
      "outputs": [
        {
          "output_type": "execute_result",
          "data": {
            "text/plain": [
              "tensor([[19., 25.],\n",
              "        [37., 43.]])"
            ]
          },
          "metadata": {},
          "execution_count": 4
        }
      ]
    },
    {
      "cell_type": "code",
      "source": [
        "class Conv2D(nn.Module): # two-dimensional convolutional layer based on the corr2d\n",
        "    def __init__(self, kernel_size):\n",
        "        super().__init__()\n",
        "        self.weight = nn.Parameter(torch.rand(kernel_size))\n",
        "        self.bias = nn.Parameter(torch.zeros(1))\n",
        "\n",
        "    def forward(self, x):\n",
        "        return corr2d(x, self.weight) + self.bias"
      ],
      "metadata": {
        "id": "8dqCeungBGox"
      },
      "execution_count": 5,
      "outputs": []
    },
    {
      "cell_type": "code",
      "source": [
        "X = torch.ones((6, 8)) # 1 white 0 black\n",
        "X[:, 2:6] = 0\n",
        "X"
      ],
      "metadata": {
        "colab": {
          "base_uri": "https://localhost:8080/"
        },
        "id": "8pfBmt0NBnOp",
        "outputId": "5155e2ba-04bb-4884-8ac9-bcf294af2326"
      },
      "execution_count": 6,
      "outputs": [
        {
          "output_type": "execute_result",
          "data": {
            "text/plain": [
              "tensor([[1., 1., 0., 0., 0., 0., 1., 1.],\n",
              "        [1., 1., 0., 0., 0., 0., 1., 1.],\n",
              "        [1., 1., 0., 0., 0., 0., 1., 1.],\n",
              "        [1., 1., 0., 0., 0., 0., 1., 1.],\n",
              "        [1., 1., 0., 0., 0., 0., 1., 1.],\n",
              "        [1., 1., 0., 0., 0., 0., 1., 1.]])"
            ]
          },
          "metadata": {},
          "execution_count": 6
        }
      ]
    },
    {
      "cell_type": "code",
      "source": [
        "K = torch.tensor([[1.0, -1.0]]) #edges: white to black, black to white"
      ],
      "metadata": {
        "id": "qq4xLWmrBoea"
      },
      "execution_count": 7,
      "outputs": []
    },
    {
      "cell_type": "code",
      "source": [
        "Y = corr2d(X, K)\n",
        "Y"
      ],
      "metadata": {
        "colab": {
          "base_uri": "https://localhost:8080/"
        },
        "id": "PqMXIlKsBwhx",
        "outputId": "b091076a-6f1c-4b9b-f33c-86a12efb427a"
      },
      "execution_count": 8,
      "outputs": [
        {
          "output_type": "execute_result",
          "data": {
            "text/plain": [
              "tensor([[ 0.,  1.,  0.,  0.,  0., -1.,  0.],\n",
              "        [ 0.,  1.,  0.,  0.,  0., -1.,  0.],\n",
              "        [ 0.,  1.,  0.,  0.,  0., -1.,  0.],\n",
              "        [ 0.,  1.,  0.,  0.,  0., -1.,  0.],\n",
              "        [ 0.,  1.,  0.,  0.,  0., -1.,  0.],\n",
              "        [ 0.,  1.,  0.,  0.,  0., -1.,  0.]])"
            ]
          },
          "metadata": {},
          "execution_count": 8
        }
      ]
    },
    {
      "cell_type": "code",
      "source": [
        "corr2d(X.t(), K) #cross-correlation with transposed image, vertical detection not possible"
      ],
      "metadata": {
        "colab": {
          "base_uri": "https://localhost:8080/"
        },
        "id": "wSU2SBwKB5YP",
        "outputId": "ecf4f815-f4cd-4202-cb84-8c720a987153"
      },
      "execution_count": 9,
      "outputs": [
        {
          "output_type": "execute_result",
          "data": {
            "text/plain": [
              "tensor([[0., 0., 0., 0., 0.],\n",
              "        [0., 0., 0., 0., 0.],\n",
              "        [0., 0., 0., 0., 0.],\n",
              "        [0., 0., 0., 0., 0.],\n",
              "        [0., 0., 0., 0., 0.],\n",
              "        [0., 0., 0., 0., 0.],\n",
              "        [0., 0., 0., 0., 0.],\n",
              "        [0., 0., 0., 0., 0.]])"
            ]
          },
          "metadata": {},
          "execution_count": 9
        }
      ]
    },
    {
      "cell_type": "code",
      "source": [
        "# Construct a two-dimensional convolutional layer with 1 output channel and a\n",
        "# kernel of shape (1, 2). For the sake of simplicity, we ignore the bias here\n",
        "conv2d = nn.LazyConv2d(1, kernel_size=(1, 2), bias=False)\n",
        "\n",
        "# The two-dimensional convolutional layer uses four-dimensional input and\n",
        "# output in the format of (example, channel, height, width), where the batch\n",
        "# size (number of examples in the batch) and the number of channels are both 1\n",
        "X = X.reshape((1, 1, 6, 8))\n",
        "Y = Y.reshape((1, 1, 6, 7))\n",
        "lr = 3e-2  # Learning rate\n",
        "\n",
        "for i in range(10):\n",
        "    Y_hat = conv2d(X)\n",
        "    l = (Y_hat - Y) ** 2\n",
        "    conv2d.zero_grad()\n",
        "    l.sum().backward()\n",
        "    # Update the kernel\n",
        "    conv2d.weight.data[:] -= lr * conv2d.weight.grad\n",
        "    if (i + 1) % 2 == 0:\n",
        "        print(f'epoch {i + 1}, loss {l.sum():.3f}')"
      ],
      "metadata": {
        "colab": {
          "base_uri": "https://localhost:8080/"
        },
        "id": "6VG3LIpBCBFR",
        "outputId": "64a28b76-841d-41fe-956e-b2c1c1f72bd8"
      },
      "execution_count": 10,
      "outputs": [
        {
          "output_type": "stream",
          "name": "stdout",
          "text": [
            "epoch 2, loss 9.213\n",
            "epoch 4, loss 2.604\n",
            "epoch 6, loss 0.871\n",
            "epoch 8, loss 0.324\n",
            "epoch 10, loss 0.127\n"
          ]
        }
      ]
    },
    {
      "cell_type": "code",
      "source": [
        "conv2d.weight.data.reshape((1, 2)) #learned kernel tensor close to defined k"
      ],
      "metadata": {
        "colab": {
          "base_uri": "https://localhost:8080/"
        },
        "id": "BElCO81-CDvU",
        "outputId": "706ee0ea-0b8d-4281-d60f-e1c20110f0fb"
      },
      "execution_count": 11,
      "outputs": [
        {
          "output_type": "execute_result",
          "data": {
            "text/plain": [
              "tensor([[ 1.0248, -0.9523]])"
            ]
          },
          "metadata": {},
          "execution_count": 11
        }
      ]
    },
    {
      "cell_type": "markdown",
      "source": [
        "**7.2 key takeaways**\n",
        "\n",
        "\n",
        "*   Convolutional layers in CNNs perform cross-correlation operations, not strict convolutions, but the difference is negligible when learning kernels from data.\n",
        "* convolutional layers are efficient for image processing because they\n",
        "perform localized computations, allowing for hardware optimization.\n",
        "*   We can learn filters (kernels) from data, replacing feature engineering with data-driven learning.\n",
        "*   We talked about this during lecture too;  the pupose of oadding in convolutional layer is to adds zeros around the borders of the input image. This allows the kernel to \"see\" the entire image without reducing the output size. Padding is especially useful when using large kernels or when you want to preserve the spatial dimensions of the data.\n",
        "*   We saw learning a very simple edge detection kernel but what's the affect of larger kernels and more channels in convolutional layers?\n",
        "\n",
        "  Larger kernels allow the convolutional layer to consider a wider region of the input image when computing the output feature. This enables the network to capture more complex spatial patterns and relationships between pixels. Also having more channels in a convolutional layer can extract a variety of features, such as different orientations, colors, or textures. Each channel can learn to focus on specific aspects of the input, allowing the network to represent the data in a more comprehensive way.\n",
        "\n",
        "\n"
      ],
      "metadata": {
        "id": "G3dQpTziCIOl"
      }
    },
    {
      "cell_type": "markdown",
      "source": [
        "**7.3. Padding and Stride**"
      ],
      "metadata": {
        "id": "OC5RHxwAztTc"
      }
    },
    {
      "cell_type": "code",
      "source": [
        "# We define a helper function to calculate convolutions. It initializes the\n",
        "# convolutional layer weights and performs corresponding dimensionality\n",
        "# elevations and reductions on the input and output\n",
        "def comp_conv2d(conv2d, X):\n",
        "    # (1, 1) indicates that batch size and the number of channels are both 1\n",
        "    X = X.reshape((1, 1) + X.shape)\n",
        "    Y = conv2d(X)\n",
        "    # Strip the first two dimensions: examples and channels\n",
        "    return Y.reshape(Y.shape[2:])\n",
        "\n",
        "# 1 row and column is padded on either side, so a total of 2 rows or columns\n",
        "# are added\n",
        "conv2d = nn.LazyConv2d(1, kernel_size=3, padding=1)\n",
        "X = torch.rand(size=(8, 8))\n",
        "comp_conv2d(conv2d, X).shape"
      ],
      "metadata": {
        "colab": {
          "base_uri": "https://localhost:8080/"
        },
        "id": "hGDzCbf4zkNb",
        "outputId": "66f89e04-aad0-4bd8-af59-85fa7ba68344"
      },
      "execution_count": 12,
      "outputs": [
        {
          "output_type": "execute_result",
          "data": {
            "text/plain": [
              "torch.Size([8, 8])"
            ]
          },
          "metadata": {},
          "execution_count": 12
        }
      ]
    },
    {
      "cell_type": "code",
      "source": [
        "# We use a convolution kernel with height 5 and width 3. The padding on either\n",
        "# side of the height and width are 2 and 1, respectively\n",
        "conv2d = nn.LazyConv2d(1, kernel_size=(5, 3), padding=(2, 1))\n",
        "comp_conv2d(conv2d, X).shape"
      ],
      "metadata": {
        "colab": {
          "base_uri": "https://localhost:8080/"
        },
        "id": "5-62Cfusz2ed",
        "outputId": "cd7c87ce-50cf-4a35-acbc-5ce2d76b2f3f"
      },
      "execution_count": 13,
      "outputs": [
        {
          "output_type": "execute_result",
          "data": {
            "text/plain": [
              "torch.Size([8, 8])"
            ]
          },
          "metadata": {},
          "execution_count": 13
        }
      ]
    },
    {
      "cell_type": "code",
      "source": [
        "conv2d = nn.LazyConv2d(1, kernel_size=3, padding=1, stride=2)\n",
        "comp_conv2d(conv2d, X).shape"
      ],
      "metadata": {
        "id": "tF7xLBLsz6Un",
        "outputId": "d4590274-f45c-45b5-9cbe-54aa7dca807c",
        "colab": {
          "base_uri": "https://localhost:8080/"
        }
      },
      "execution_count": 14,
      "outputs": [
        {
          "output_type": "execute_result",
          "data": {
            "text/plain": [
              "torch.Size([4, 4])"
            ]
          },
          "metadata": {},
          "execution_count": 14
        }
      ]
    },
    {
      "cell_type": "code",
      "source": [
        "conv2d = nn.LazyConv2d(1, kernel_size=(3, 5), padding=(0, 1), stride=(3, 4))\n",
        "comp_conv2d(conv2d, X).shape"
      ],
      "metadata": {
        "id": "kaJkqxHkz8zw",
        "outputId": "7c16c163-9450-4dd7-9eb6-30fd102b2cc3",
        "colab": {
          "base_uri": "https://localhost:8080/"
        }
      },
      "execution_count": 15,
      "outputs": [
        {
          "output_type": "execute_result",
          "data": {
            "text/plain": [
              "torch.Size([2, 2])"
            ]
          },
          "metadata": {},
          "execution_count": 15
        }
      ]
    },
    {
      "cell_type": "markdown",
      "source": [
        "**7.3 key takeaways**\n",
        "\n",
        "\n",
        "*  Padding can be described as a technique to add extra pixels around the boundary of an input image to control the output size. we wnat to use it to prevent excessive information loss from the boundaries.\n",
        "\n",
        "*  To keep the output size same as input use padding equal to the kernel size minus 1.\n",
        "\n",
        "*   Stride is the number of rows and columns traversed per slide during the convolution operation. Use stride larger than 1 to reduce number of computations required and to get faster processing time.  \n",
        "\n",
        "*   The output shape of a convolutional layer depends on the input shape, kernel size, padding, and stride. Larger strides can reduce the resolution of the output, effectively downsampling the input.\n",
        "\n",
        "examples:\n",
        "\n",
        "\n",
        "*   Given the final code example in this section with the kernel size (3,5), padding (0,1), and stride (3,4), calculate the output shape to check if it is consistent with the experimental result.\n",
        "\n",
        "answer: we use the formula ⌊(nh−kh+ph+sh)/sh⌋×⌊(nw−kw+pw+sw)/sw⌋, the output shape would be ⌊(8-3+0+3)/3⌋×⌊(8-5+1+4)/4⌋ = 2×2.\n",
        "\n",
        "*   For audio signals, what does a stride of 2 correspond to?\n",
        "\n",
        "answer: A stride of 2 in audio signals corresponds to downsampling by a factor of 2. This means that every other sample is skipped, effectively reducing the sample rate.\n",
        "\n",
        "\n",
        "*   How would you implement a stride of 1/2? What does it correspond to? When would this be useful?\n",
        "\n",
        "answer: A stride of 1/2 is not directly supported in most deep learning frameworks. However, it can be achieved by using a combination of padding and a stride of 2. This effectively doubles the input size before applying the convolution, resulting in a downsampled output. It can be useful in cases where you want to increase the resolution of the output without changing the kernel size.\n",
        "\n",
        "\n",
        "\n",
        "\n",
        "\n",
        "\n",
        "\n"
      ],
      "metadata": {
        "id": "xbaaxUVoQbsy"
      }
    },
    {
      "cell_type": "markdown",
      "source": [
        "**7.4. Multiple Input and Multiple Output Channels**"
      ],
      "metadata": {
        "id": "42h-l512XEMZ"
      }
    },
    {
      "cell_type": "code",
      "source": [
        "def corr2d_multi_in(X, K):\n",
        "    # Iterate through the 0th dimension (channel) of K first, then add them up\n",
        "    return sum(d2l.corr2d(x, k) for x, k in zip(X, K))"
      ],
      "metadata": {
        "id": "apR9a6BPWTpd"
      },
      "execution_count": 16,
      "outputs": []
    },
    {
      "cell_type": "code",
      "source": [
        "X = torch.tensor([[[0.0, 1.0, 2.0], [3.0, 4.0, 5.0], [6.0, 7.0, 8.0]],\n",
        "               [[1.0, 2.0, 3.0], [4.0, 5.0, 6.0], [7.0, 8.0, 9.0]]])\n",
        "K = torch.tensor([[[0.0, 1.0], [2.0, 3.0]], [[1.0, 2.0], [3.0, 4.0]]])\n",
        "\n",
        "corr2d_multi_in(X, K)"
      ],
      "metadata": {
        "colab": {
          "base_uri": "https://localhost:8080/"
        },
        "id": "QBMhlwbiXWPA",
        "outputId": "122a18cf-0481-428b-ab55-5100b8f5b110"
      },
      "execution_count": 17,
      "outputs": [
        {
          "output_type": "execute_result",
          "data": {
            "text/plain": [
              "tensor([[ 56.,  72.],\n",
              "        [104., 120.]])"
            ]
          },
          "metadata": {},
          "execution_count": 17
        }
      ]
    },
    {
      "cell_type": "code",
      "source": [
        "def corr2d_multi_in_out(X, K):\n",
        "    # Iterate through the 0th dimension of K, and each time, perform\n",
        "    # cross-correlation operations with input X. All of the results are\n",
        "    # stacked together\n",
        "    return torch.stack([corr2d_multi_in(X, k) for k in K], 0)"
      ],
      "metadata": {
        "id": "Nlsj9PVMYSUU"
      },
      "execution_count": 18,
      "outputs": []
    },
    {
      "cell_type": "code",
      "source": [
        "K = torch.stack((K, K + 1, K + 2), 0)\n",
        "K.shape"
      ],
      "metadata": {
        "colab": {
          "base_uri": "https://localhost:8080/"
        },
        "id": "qAkQOSs1YUrm",
        "outputId": "c7632243-932c-4f42-ac18-da0dd15e1662"
      },
      "execution_count": 19,
      "outputs": [
        {
          "output_type": "execute_result",
          "data": {
            "text/plain": [
              "torch.Size([3, 2, 2, 2])"
            ]
          },
          "metadata": {},
          "execution_count": 19
        }
      ]
    },
    {
      "cell_type": "code",
      "source": [
        "corr2d_multi_in_out(X, K)"
      ],
      "metadata": {
        "colab": {
          "base_uri": "https://localhost:8080/"
        },
        "id": "mVb-zn6xYW3R",
        "outputId": "31f92249-c168-4cdd-e962-098410e66f1f"
      },
      "execution_count": 20,
      "outputs": [
        {
          "output_type": "execute_result",
          "data": {
            "text/plain": [
              "tensor([[[ 56.,  72.],\n",
              "         [104., 120.]],\n",
              "\n",
              "        [[ 76., 100.],\n",
              "         [148., 172.]],\n",
              "\n",
              "        [[ 96., 128.],\n",
              "         [192., 224.]]])"
            ]
          },
          "metadata": {},
          "execution_count": 20
        }
      ]
    },
    {
      "cell_type": "code",
      "source": [
        "def corr2d_multi_in_out_1x1(X, K):\n",
        "    c_i, h, w = X.shape\n",
        "    c_o = K.shape[0]\n",
        "    X = X.reshape((c_i, h * w))\n",
        "    K = K.reshape((c_o, c_i))\n",
        "    # Matrix multiplication in the fully connected layer\n",
        "    Y = torch.matmul(K, X)\n",
        "    return Y.reshape((c_o, h, w))"
      ],
      "metadata": {
        "id": "-kYTae2WYZ8q"
      },
      "execution_count": 21,
      "outputs": []
    },
    {
      "cell_type": "code",
      "source": [
        "X = torch.normal(0, 1, (3, 3, 3))\n",
        "K = torch.normal(0, 1, (2, 3, 1, 1))\n",
        "Y1 = corr2d_multi_in_out_1x1(X, K)\n",
        "Y2 = corr2d_multi_in_out(X, K)\n",
        "assert float(torch.abs(Y1 - Y2).sum()) < 1e-6"
      ],
      "metadata": {
        "id": "AxBJV3XrYcdP"
      },
      "execution_count": 22,
      "outputs": []
    },
    {
      "cell_type": "markdown",
      "source": [
        "**7.4 key takeaways**\n",
        "\n",
        "\n",
        "*   Convolution kernels need the same number of input channels as the input data to perform cross-correlation.\n",
        "\n",
        "*   A convolution kernel with multiple output channels can be created by concatenating kernels for each output channel.\n",
        "\n",
        "*   A 1x1 convolution acts as a fully connected layer applied at every pixel location, transforming input values into output values.\n",
        "\n",
        "*    How do 1x1 convolutions differ from larger convolutional kernels?\n",
        "\n",
        "answer: 1x1 convolutions do not capture spatial relationships between pixels, but they can be used to reduce dimensionality or change the number of channels.Larger convolutional kernels can detect patterns that span multiple pixels\n",
        "\n",
        "\n"
      ],
      "metadata": {
        "id": "mO1wai-JbisM"
      }
    },
    {
      "cell_type": "markdown",
      "source": [
        "**7.5. Pooling**"
      ],
      "metadata": {
        "id": "enTalUNxd4Yn"
      }
    },
    {
      "cell_type": "code",
      "source": [
        "#Forward propagation of the pooling layer\n",
        "def pool2d(X, pool_size, mode='max'):\n",
        "    p_h, p_w = pool_size\n",
        "    Y = torch.zeros((X.shape[0] - p_h + 1, X.shape[1] - p_w + 1))\n",
        "    for i in range(Y.shape[0]):\n",
        "        for j in range(Y.shape[1]):\n",
        "            if mode == 'max':\n",
        "                Y[i, j] = X[i: i + p_h, j: j + p_w].max()\n",
        "            elif mode == 'avg':\n",
        "                Y[i, j] = X[i: i + p_h, j: j + p_w].mean()\n",
        "    return Y"
      ],
      "metadata": {
        "id": "VpsOAxtyd9jX"
      },
      "execution_count": 23,
      "outputs": []
    },
    {
      "cell_type": "code",
      "source": [
        "X = torch.tensor([[0.0, 1.0, 2.0], [3.0, 4.0, 5.0], [6.0, 7.0, 8.0]])\n",
        "pool2d(X, (2, 2))"
      ],
      "metadata": {
        "colab": {
          "base_uri": "https://localhost:8080/"
        },
        "id": "F5NB-jGMf7l3",
        "outputId": "00793dde-a37d-424e-a88d-410fabf63a20"
      },
      "execution_count": 24,
      "outputs": [
        {
          "output_type": "execute_result",
          "data": {
            "text/plain": [
              "tensor([[4., 5.],\n",
              "        [7., 8.]])"
            ]
          },
          "metadata": {},
          "execution_count": 24
        }
      ]
    },
    {
      "cell_type": "code",
      "source": [
        "pool2d(X, (2, 2), 'avg')"
      ],
      "metadata": {
        "colab": {
          "base_uri": "https://localhost:8080/"
        },
        "id": "xUFDoy9-f_hF",
        "outputId": "4a90f606-d597-4553-fa3e-1d9878b84f8d"
      },
      "execution_count": 25,
      "outputs": [
        {
          "output_type": "execute_result",
          "data": {
            "text/plain": [
              "tensor([[2., 3.],\n",
              "        [5., 6.]])"
            ]
          },
          "metadata": {},
          "execution_count": 25
        }
      ]
    },
    {
      "cell_type": "code",
      "source": [
        "X = torch.arange(16, dtype=torch.float32).reshape((1, 1, 4, 4))\n",
        "X"
      ],
      "metadata": {
        "colab": {
          "base_uri": "https://localhost:8080/"
        },
        "id": "dmqH3-LwgOi9",
        "outputId": "872b09b0-6e9c-432d-94dc-f17394944160"
      },
      "execution_count": 26,
      "outputs": [
        {
          "output_type": "execute_result",
          "data": {
            "text/plain": [
              "tensor([[[[ 0.,  1.,  2.,  3.],\n",
              "          [ 4.,  5.,  6.,  7.],\n",
              "          [ 8.,  9., 10., 11.],\n",
              "          [12., 13., 14., 15.]]]])"
            ]
          },
          "metadata": {},
          "execution_count": 26
        }
      ]
    },
    {
      "cell_type": "code",
      "source": [
        "pool2d = nn.MaxPool2d(3)\n",
        "# Pooling has no model parameters, hence it needs no initialization\n",
        "pool2d(X)"
      ],
      "metadata": {
        "colab": {
          "base_uri": "https://localhost:8080/"
        },
        "id": "pq2uLWYmgR7q",
        "outputId": "c4abb751-f8b8-4fb9-ee1d-805e00ac3b30"
      },
      "execution_count": 27,
      "outputs": [
        {
          "output_type": "execute_result",
          "data": {
            "text/plain": [
              "tensor([[[[10.]]]])"
            ]
          },
          "metadata": {},
          "execution_count": 27
        }
      ]
    },
    {
      "cell_type": "code",
      "source": [
        "pool2d = nn.MaxPool2d(3, padding=1, stride=2) #stride and padding can be manually specified\n",
        "pool2d(X)"
      ],
      "metadata": {
        "colab": {
          "base_uri": "https://localhost:8080/"
        },
        "id": "TMWWdQOcgWLf",
        "outputId": "b2591f45-1688-4d0c-d641-9e93e28c480e"
      },
      "execution_count": 28,
      "outputs": [
        {
          "output_type": "execute_result",
          "data": {
            "text/plain": [
              "tensor([[[[ 5.,  7.],\n",
              "          [13., 15.]]]])"
            ]
          },
          "metadata": {},
          "execution_count": 28
        }
      ]
    },
    {
      "cell_type": "code",
      "source": [
        "pool2d = nn.MaxPool2d((2, 3), stride=(2, 3), padding=(0, 1)) #arbitrary rectangular pooling window\n",
        "pool2d(X)"
      ],
      "metadata": {
        "colab": {
          "base_uri": "https://localhost:8080/"
        },
        "id": "Qqk1Y20HghKu",
        "outputId": "87856620-fdf2-4be7-b055-8f7ff083095c"
      },
      "execution_count": 29,
      "outputs": [
        {
          "output_type": "execute_result",
          "data": {
            "text/plain": [
              "tensor([[[[ 5.,  7.],\n",
              "          [13., 15.]]]])"
            ]
          },
          "metadata": {},
          "execution_count": 29
        }
      ]
    },
    {
      "cell_type": "code",
      "source": [
        "X = torch.cat((X, X + 1), 1) #concat tensors, multiple input channel\n",
        "X"
      ],
      "metadata": {
        "colab": {
          "base_uri": "https://localhost:8080/"
        },
        "id": "gxAqrEnBhDhy",
        "outputId": "430d5a97-9ade-4821-efa6-d09ad4f6fe26"
      },
      "execution_count": 30,
      "outputs": [
        {
          "output_type": "execute_result",
          "data": {
            "text/plain": [
              "tensor([[[[ 0.,  1.,  2.,  3.],\n",
              "          [ 4.,  5.,  6.,  7.],\n",
              "          [ 8.,  9., 10., 11.],\n",
              "          [12., 13., 14., 15.]],\n",
              "\n",
              "         [[ 1.,  2.,  3.,  4.],\n",
              "          [ 5.,  6.,  7.,  8.],\n",
              "          [ 9., 10., 11., 12.],\n",
              "          [13., 14., 15., 16.]]]])"
            ]
          },
          "metadata": {},
          "execution_count": 30
        }
      ]
    },
    {
      "cell_type": "code",
      "source": [
        "pool2d = nn.MaxPool2d(3, padding=1, stride=2) # output same number of channel as input, 2\n",
        "pool2d(X)"
      ],
      "metadata": {
        "colab": {
          "base_uri": "https://localhost:8080/"
        },
        "id": "KQuwFb6ZhRPF",
        "outputId": "36afd8cd-0db7-46af-c774-904bb8a4feb7"
      },
      "execution_count": 31,
      "outputs": [
        {
          "output_type": "execute_result",
          "data": {
            "text/plain": [
              "tensor([[[[ 5.,  7.],\n",
              "          [13., 15.]],\n",
              "\n",
              "         [[ 6.,  8.],\n",
              "          [14., 16.]]]])"
            ]
          },
          "metadata": {},
          "execution_count": 31
        }
      ]
    },
    {
      "cell_type": "markdown",
      "source": [
        "**7.5 key takeaways**\n",
        "\n",
        "To summerize:\n",
        "*   Pooling layers serve the dual purposes of mitigating the sensitivity of convolutional layers to location and of spatially downsampling representations. This means that pooling layers reduce the spatial resolution of an image while retaining important features. This helps achieve a global representation and accelerates the learning process.\n",
        "\n",
        "*   Max pooling and average pooling are the most common types. Max pooling is generally preferred for its invariance to small translations.\n",
        "\n",
        "*  The operation is done by a pooling window sliding across the input, and the maximum or average value within the window becomes the output value for that location.Padding and stride control the output size of the pooling layer, similar to convolutional layers.\n",
        "\n",
        "*  pooling operates on each channel of the input data separately, maintaining the same number of output channels.\n",
        "\n",
        "\n",
        "\n",
        "*   Question: We could use the softmax operation for pooling. Why might it not be so popular?\n",
        "Answer: Because softmax normalizes the output to a probability distribution, which might not be desirable in feature extraction. Pooling aims to capture specific features, not probabilities.\n",
        "\n",
        "\n",
        "\n"
      ],
      "metadata": {
        "id": "RaZBrte6eulu"
      }
    },
    {
      "cell_type": "markdown",
      "source": [
        "**7.6. Convolutional Neural Networks (LeNet)**"
      ],
      "metadata": {
        "id": "NL-4pSxHjyKN"
      }
    },
    {
      "cell_type": "code",
      "source": [
        "def init_cnn(module):\n",
        "    # Initialize weights for CNNs\n",
        "    if type(module) == nn.Linear or type(module) == nn.Conv2d:    # Check if the module is either a linear or convolutional layer\n",
        "        nn.init.xavier_uniform_(module.weight)  # Initialize weights using Xavier uniform initialization\n",
        "\n",
        "class LeNet(d2l.Classifier):\n",
        "    #The LeNet-5 model\n",
        "    def __init__(self, lr=0.1, num_classes=10):\n",
        "        super().__init__() # Call the constructor of the base class d2l.Classifier\n",
        "        self.save_hyperparameters()  # Save learning rate and number of classes\n",
        "        # Define the convolutional neural network architecture using nn.Sequential, like a container to hold all the layers in seq order\n",
        "        self.net = nn.Sequential(\n",
        "            nn.LazyConv2d(6, kernel_size=5, padding=2), nn.Sigmoid(),  # First convolutional layer with 6 output channels, Sigmoid activation function to introduce non-linearity and help learn complex patterns\n",
        "            nn.AvgPool2d(kernel_size=2, stride=2), # Average pooling layer\n",
        "            nn.LazyConv2d(16, kernel_size=5), nn.Sigmoid(),  # Second convolutional layer\n",
        "            nn.AvgPool2d(kernel_size=2, stride=2),\n",
        "            nn.Flatten(), # Flatten the output from the convolutional layers\n",
        "            nn.LazyLinear(120), nn.Sigmoid(),  # First fully connected layer, sigmoid activation function\n",
        "            nn.LazyLinear(84), nn.Sigmoid(), # Second fully connected layer\n",
        "            nn.LazyLinear(num_classes)) # Output layer with num_classes neurons"
      ],
      "metadata": {
        "id": "cK3Wga9ci87H"
      },
      "execution_count": 32,
      "outputs": []
    },
    {
      "cell_type": "code",
      "source": [
        "@d2l.add_to_class(d2l.Classifier)\n",
        "def layer_summary(self, X_shape):\n",
        "    X = torch.randn(*X_shape)\n",
        "    for layer in self.net:\n",
        "        X = layer(X)\n",
        "        print(layer.__class__.__name__, 'output shape:\\t', X.shape)\n",
        "\n",
        "model = LeNet()\n",
        "model.layer_summary((1, 1, 28, 28))"
      ],
      "metadata": {
        "colab": {
          "base_uri": "https://localhost:8080/"
        },
        "id": "6pU71GMVlY60",
        "outputId": "2637d463-d122-447d-a4e7-7149b3d5665b"
      },
      "execution_count": 33,
      "outputs": [
        {
          "output_type": "stream",
          "name": "stdout",
          "text": [
            "Conv2d output shape:\t torch.Size([1, 6, 28, 28])\n",
            "Sigmoid output shape:\t torch.Size([1, 6, 28, 28])\n",
            "AvgPool2d output shape:\t torch.Size([1, 6, 14, 14])\n",
            "Conv2d output shape:\t torch.Size([1, 16, 10, 10])\n",
            "Sigmoid output shape:\t torch.Size([1, 16, 10, 10])\n",
            "AvgPool2d output shape:\t torch.Size([1, 16, 5, 5])\n",
            "Flatten output shape:\t torch.Size([1, 400])\n",
            "Linear output shape:\t torch.Size([1, 120])\n",
            "Sigmoid output shape:\t torch.Size([1, 120])\n",
            "Linear output shape:\t torch.Size([1, 84])\n",
            "Sigmoid output shape:\t torch.Size([1, 84])\n",
            "Linear output shape:\t torch.Size([1, 10])\n"
          ]
        }
      ]
    },
    {
      "cell_type": "code",
      "source": [
        "trainer = d2l.Trainer(max_epochs=10, num_gpus=1)\n",
        "data = d2l.FashionMNIST(batch_size=128)\n",
        "model = LeNet(lr=0.1)\n",
        "model.apply_init([next(iter(data.get_dataloader(True)))[0]], init_cnn)\n",
        "trainer.fit(model, data)"
      ],
      "metadata": {
        "colab": {
          "base_uri": "https://localhost:8080/",
          "height": 265
        },
        "id": "wozDEiRondzN",
        "outputId": "15030004-dc74-4615-b69e-d69675ba9d42"
      },
      "execution_count": 34,
      "outputs": [
        {
          "output_type": "display_data",
          "data": {
            "text/plain": [
              "<Figure size 350x250 with 1 Axes>"
            ],
            "image/svg+xml": "<?xml version=\"1.0\" encoding=\"utf-8\" standalone=\"no\"?>\n<!DOCTYPE svg PUBLIC \"-//W3C//DTD SVG 1.1//EN\"\n  \"http://www.w3.org/Graphics/SVG/1.1/DTD/svg11.dtd\">\n<svg xmlns:xlink=\"http://www.w3.org/1999/xlink\" width=\"238.965625pt\" height=\"183.35625pt\" viewBox=\"0 0 238.965625 183.35625\" xmlns=\"http://www.w3.org/2000/svg\" version=\"1.1\">\n <metadata>\n  <rdf:RDF xmlns:dc=\"http://purl.org/dc/elements/1.1/\" xmlns:cc=\"http://creativecommons.org/ns#\" xmlns:rdf=\"http://www.w3.org/1999/02/22-rdf-syntax-ns#\">\n   <cc:Work>\n    <dc:type rdf:resource=\"http://purl.org/dc/dcmitype/StillImage\"/>\n    <dc:date>2024-10-10T15:12:18.814495</dc:date>\n    <dc:format>image/svg+xml</dc:format>\n    <dc:creator>\n     <cc:Agent>\n      <dc:title>Matplotlib v3.7.2, https://matplotlib.org/</dc:title>\n     </cc:Agent>\n    </dc:creator>\n   </cc:Work>\n  </rdf:RDF>\n </metadata>\n <defs>\n  <style type=\"text/css\">*{stroke-linejoin: round; stroke-linecap: butt}</style>\n </defs>\n <g id=\"figure_1\">\n  <g id=\"patch_1\">\n   <path d=\"M 0 183.35625 \nL 238.965625 183.35625 \nL 238.965625 0 \nL 0 0 \nz\n\" style=\"fill: #ffffff\"/>\n  </g>\n  <g id=\"axes_1\">\n   <g id=\"patch_2\">\n    <path d=\"M 30.103125 145.8 \nL 225.403125 145.8 \nL 225.403125 7.2 \nL 30.103125 7.2 \nz\n\" style=\"fill: #ffffff\"/>\n   </g>\n   <g id=\"matplotlib.axis_1\">\n    <g id=\"xtick_1\">\n     <g id=\"line2d_1\">\n      <defs>\n       <path id=\"mfdd506233b\" d=\"M 0 0 \nL 0 3.5 \n\" style=\"stroke: #000000; stroke-width: 0.8\"/>\n      </defs>\n      <g>\n       <use xlink:href=\"#mfdd506233b\" x=\"30.103125\" y=\"145.8\" style=\"stroke: #000000; stroke-width: 0.8\"/>\n      </g>\n     </g>\n     <g id=\"text_1\">\n      <!-- 0 -->\n      <g transform=\"translate(26.921875 160.398438) scale(0.1 -0.1)\">\n       <defs>\n        <path id=\"DejaVuSans-30\" d=\"M 2034 4250 \nQ 1547 4250 1301 3770 \nQ 1056 3291 1056 2328 \nQ 1056 1369 1301 889 \nQ 1547 409 2034 409 \nQ 2525 409 2770 889 \nQ 3016 1369 3016 2328 \nQ 3016 3291 2770 3770 \nQ 2525 4250 2034 4250 \nz\nM 2034 4750 \nQ 2819 4750 3233 4129 \nQ 3647 3509 3647 2328 \nQ 3647 1150 3233 529 \nQ 2819 -91 2034 -91 \nQ 1250 -91 836 529 \nQ 422 1150 422 2328 \nQ 422 3509 836 4129 \nQ 1250 4750 2034 4750 \nz\n\" transform=\"scale(0.015625)\"/>\n       </defs>\n       <use xlink:href=\"#DejaVuSans-30\"/>\n      </g>\n     </g>\n    </g>\n    <g id=\"xtick_2\">\n     <g id=\"line2d_2\">\n      <g>\n       <use xlink:href=\"#mfdd506233b\" x=\"69.163125\" y=\"145.8\" style=\"stroke: #000000; stroke-width: 0.8\"/>\n      </g>\n     </g>\n     <g id=\"text_2\">\n      <!-- 2 -->\n      <g transform=\"translate(65.981875 160.398438) scale(0.1 -0.1)\">\n       <defs>\n        <path id=\"DejaVuSans-32\" d=\"M 1228 531 \nL 3431 531 \nL 3431 0 \nL 469 0 \nL 469 531 \nQ 828 903 1448 1529 \nQ 2069 2156 2228 2338 \nQ 2531 2678 2651 2914 \nQ 2772 3150 2772 3378 \nQ 2772 3750 2511 3984 \nQ 2250 4219 1831 4219 \nQ 1534 4219 1204 4116 \nQ 875 4013 500 3803 \nL 500 4441 \nQ 881 4594 1212 4672 \nQ 1544 4750 1819 4750 \nQ 2544 4750 2975 4387 \nQ 3406 4025 3406 3419 \nQ 3406 3131 3298 2873 \nQ 3191 2616 2906 2266 \nQ 2828 2175 2409 1742 \nQ 1991 1309 1228 531 \nz\n\" transform=\"scale(0.015625)\"/>\n       </defs>\n       <use xlink:href=\"#DejaVuSans-32\"/>\n      </g>\n     </g>\n    </g>\n    <g id=\"xtick_3\">\n     <g id=\"line2d_3\">\n      <g>\n       <use xlink:href=\"#mfdd506233b\" x=\"108.223125\" y=\"145.8\" style=\"stroke: #000000; stroke-width: 0.8\"/>\n      </g>\n     </g>\n     <g id=\"text_3\">\n      <!-- 4 -->\n      <g transform=\"translate(105.041875 160.398438) scale(0.1 -0.1)\">\n       <defs>\n        <path id=\"DejaVuSans-34\" d=\"M 2419 4116 \nL 825 1625 \nL 2419 1625 \nL 2419 4116 \nz\nM 2253 4666 \nL 3047 4666 \nL 3047 1625 \nL 3713 1625 \nL 3713 1100 \nL 3047 1100 \nL 3047 0 \nL 2419 0 \nL 2419 1100 \nL 313 1100 \nL 313 1709 \nL 2253 4666 \nz\n\" transform=\"scale(0.015625)\"/>\n       </defs>\n       <use xlink:href=\"#DejaVuSans-34\"/>\n      </g>\n     </g>\n    </g>\n    <g id=\"xtick_4\">\n     <g id=\"line2d_4\">\n      <g>\n       <use xlink:href=\"#mfdd506233b\" x=\"147.283125\" y=\"145.8\" style=\"stroke: #000000; stroke-width: 0.8\"/>\n      </g>\n     </g>\n     <g id=\"text_4\">\n      <!-- 6 -->\n      <g transform=\"translate(144.101875 160.398438) scale(0.1 -0.1)\">\n       <defs>\n        <path id=\"DejaVuSans-36\" d=\"M 2113 2584 \nQ 1688 2584 1439 2293 \nQ 1191 2003 1191 1497 \nQ 1191 994 1439 701 \nQ 1688 409 2113 409 \nQ 2538 409 2786 701 \nQ 3034 994 3034 1497 \nQ 3034 2003 2786 2293 \nQ 2538 2584 2113 2584 \nz\nM 3366 4563 \nL 3366 3988 \nQ 3128 4100 2886 4159 \nQ 2644 4219 2406 4219 \nQ 1781 4219 1451 3797 \nQ 1122 3375 1075 2522 \nQ 1259 2794 1537 2939 \nQ 1816 3084 2150 3084 \nQ 2853 3084 3261 2657 \nQ 3669 2231 3669 1497 \nQ 3669 778 3244 343 \nQ 2819 -91 2113 -91 \nQ 1303 -91 875 529 \nQ 447 1150 447 2328 \nQ 447 3434 972 4092 \nQ 1497 4750 2381 4750 \nQ 2619 4750 2861 4703 \nQ 3103 4656 3366 4563 \nz\n\" transform=\"scale(0.015625)\"/>\n       </defs>\n       <use xlink:href=\"#DejaVuSans-36\"/>\n      </g>\n     </g>\n    </g>\n    <g id=\"xtick_5\">\n     <g id=\"line2d_5\">\n      <g>\n       <use xlink:href=\"#mfdd506233b\" x=\"186.343125\" y=\"145.8\" style=\"stroke: #000000; stroke-width: 0.8\"/>\n      </g>\n     </g>\n     <g id=\"text_5\">\n      <!-- 8 -->\n      <g transform=\"translate(183.161875 160.398438) scale(0.1 -0.1)\">\n       <defs>\n        <path id=\"DejaVuSans-38\" d=\"M 2034 2216 \nQ 1584 2216 1326 1975 \nQ 1069 1734 1069 1313 \nQ 1069 891 1326 650 \nQ 1584 409 2034 409 \nQ 2484 409 2743 651 \nQ 3003 894 3003 1313 \nQ 3003 1734 2745 1975 \nQ 2488 2216 2034 2216 \nz\nM 1403 2484 \nQ 997 2584 770 2862 \nQ 544 3141 544 3541 \nQ 544 4100 942 4425 \nQ 1341 4750 2034 4750 \nQ 2731 4750 3128 4425 \nQ 3525 4100 3525 3541 \nQ 3525 3141 3298 2862 \nQ 3072 2584 2669 2484 \nQ 3125 2378 3379 2068 \nQ 3634 1759 3634 1313 \nQ 3634 634 3220 271 \nQ 2806 -91 2034 -91 \nQ 1263 -91 848 271 \nQ 434 634 434 1313 \nQ 434 1759 690 2068 \nQ 947 2378 1403 2484 \nz\nM 1172 3481 \nQ 1172 3119 1398 2916 \nQ 1625 2713 2034 2713 \nQ 2441 2713 2670 2916 \nQ 2900 3119 2900 3481 \nQ 2900 3844 2670 4047 \nQ 2441 4250 2034 4250 \nQ 1625 4250 1398 4047 \nQ 1172 3844 1172 3481 \nz\n\" transform=\"scale(0.015625)\"/>\n       </defs>\n       <use xlink:href=\"#DejaVuSans-38\"/>\n      </g>\n     </g>\n    </g>\n    <g id=\"xtick_6\">\n     <g id=\"line2d_6\">\n      <g>\n       <use xlink:href=\"#mfdd506233b\" x=\"225.403125\" y=\"145.8\" style=\"stroke: #000000; stroke-width: 0.8\"/>\n      </g>\n     </g>\n     <g id=\"text_6\">\n      <!-- 10 -->\n      <g transform=\"translate(219.040625 160.398438) scale(0.1 -0.1)\">\n       <defs>\n        <path id=\"DejaVuSans-31\" d=\"M 794 531 \nL 1825 531 \nL 1825 4091 \nL 703 3866 \nL 703 4441 \nL 1819 4666 \nL 2450 4666 \nL 2450 531 \nL 3481 531 \nL 3481 0 \nL 794 0 \nL 794 531 \nz\n\" transform=\"scale(0.015625)\"/>\n       </defs>\n       <use xlink:href=\"#DejaVuSans-31\"/>\n       <use xlink:href=\"#DejaVuSans-30\" x=\"63.623047\"/>\n      </g>\n     </g>\n    </g>\n    <g id=\"text_7\">\n     <!-- epoch -->\n     <g transform=\"translate(112.525 174.076563) scale(0.1 -0.1)\">\n      <defs>\n       <path id=\"DejaVuSans-65\" d=\"M 3597 1894 \nL 3597 1613 \nL 953 1613 \nQ 991 1019 1311 708 \nQ 1631 397 2203 397 \nQ 2534 397 2845 478 \nQ 3156 559 3463 722 \nL 3463 178 \nQ 3153 47 2828 -22 \nQ 2503 -91 2169 -91 \nQ 1331 -91 842 396 \nQ 353 884 353 1716 \nQ 353 2575 817 3079 \nQ 1281 3584 2069 3584 \nQ 2775 3584 3186 3129 \nQ 3597 2675 3597 1894 \nz\nM 3022 2063 \nQ 3016 2534 2758 2815 \nQ 2500 3097 2075 3097 \nQ 1594 3097 1305 2825 \nQ 1016 2553 972 2059 \nL 3022 2063 \nz\n\" transform=\"scale(0.015625)\"/>\n       <path id=\"DejaVuSans-70\" d=\"M 1159 525 \nL 1159 -1331 \nL 581 -1331 \nL 581 3500 \nL 1159 3500 \nL 1159 2969 \nQ 1341 3281 1617 3432 \nQ 1894 3584 2278 3584 \nQ 2916 3584 3314 3078 \nQ 3713 2572 3713 1747 \nQ 3713 922 3314 415 \nQ 2916 -91 2278 -91 \nQ 1894 -91 1617 61 \nQ 1341 213 1159 525 \nz\nM 3116 1747 \nQ 3116 2381 2855 2742 \nQ 2594 3103 2138 3103 \nQ 1681 3103 1420 2742 \nQ 1159 2381 1159 1747 \nQ 1159 1113 1420 752 \nQ 1681 391 2138 391 \nQ 2594 391 2855 752 \nQ 3116 1113 3116 1747 \nz\n\" transform=\"scale(0.015625)\"/>\n       <path id=\"DejaVuSans-6f\" d=\"M 1959 3097 \nQ 1497 3097 1228 2736 \nQ 959 2375 959 1747 \nQ 959 1119 1226 758 \nQ 1494 397 1959 397 \nQ 2419 397 2687 759 \nQ 2956 1122 2956 1747 \nQ 2956 2369 2687 2733 \nQ 2419 3097 1959 3097 \nz\nM 1959 3584 \nQ 2709 3584 3137 3096 \nQ 3566 2609 3566 1747 \nQ 3566 888 3137 398 \nQ 2709 -91 1959 -91 \nQ 1206 -91 779 398 \nQ 353 888 353 1747 \nQ 353 2609 779 3096 \nQ 1206 3584 1959 3584 \nz\n\" transform=\"scale(0.015625)\"/>\n       <path id=\"DejaVuSans-63\" d=\"M 3122 3366 \nL 3122 2828 \nQ 2878 2963 2633 3030 \nQ 2388 3097 2138 3097 \nQ 1578 3097 1268 2742 \nQ 959 2388 959 1747 \nQ 959 1106 1268 751 \nQ 1578 397 2138 397 \nQ 2388 397 2633 464 \nQ 2878 531 3122 666 \nL 3122 134 \nQ 2881 22 2623 -34 \nQ 2366 -91 2075 -91 \nQ 1284 -91 818 406 \nQ 353 903 353 1747 \nQ 353 2603 823 3093 \nQ 1294 3584 2113 3584 \nQ 2378 3584 2631 3529 \nQ 2884 3475 3122 3366 \nz\n\" transform=\"scale(0.015625)\"/>\n       <path id=\"DejaVuSans-68\" d=\"M 3513 2113 \nL 3513 0 \nL 2938 0 \nL 2938 2094 \nQ 2938 2591 2744 2837 \nQ 2550 3084 2163 3084 \nQ 1697 3084 1428 2787 \nQ 1159 2491 1159 1978 \nL 1159 0 \nL 581 0 \nL 581 4863 \nL 1159 4863 \nL 1159 2956 \nQ 1366 3272 1645 3428 \nQ 1925 3584 2291 3584 \nQ 2894 3584 3203 3211 \nQ 3513 2838 3513 2113 \nz\n\" transform=\"scale(0.015625)\"/>\n      </defs>\n      <use xlink:href=\"#DejaVuSans-65\"/>\n      <use xlink:href=\"#DejaVuSans-70\" x=\"61.523438\"/>\n      <use xlink:href=\"#DejaVuSans-6f\" x=\"125\"/>\n      <use xlink:href=\"#DejaVuSans-63\" x=\"186.181641\"/>\n      <use xlink:href=\"#DejaVuSans-68\" x=\"241.162109\"/>\n     </g>\n    </g>\n   </g>\n   <g id=\"matplotlib.axis_2\">\n    <g id=\"ytick_1\">\n     <g id=\"line2d_7\">\n      <defs>\n       <path id=\"mad744a54b5\" d=\"M 0 0 \nL -3.5 0 \n\" style=\"stroke: #000000; stroke-width: 0.8\"/>\n      </defs>\n      <g>\n       <use xlink:href=\"#mad744a54b5\" x=\"30.103125\" y=\"145.137746\" style=\"stroke: #000000; stroke-width: 0.8\"/>\n      </g>\n     </g>\n     <g id=\"text_8\">\n      <!-- 0.0 -->\n      <g transform=\"translate(7.2 148.936965) scale(0.1 -0.1)\">\n       <defs>\n        <path id=\"DejaVuSans-2e\" d=\"M 684 794 \nL 1344 794 \nL 1344 0 \nL 684 0 \nL 684 794 \nz\n\" transform=\"scale(0.015625)\"/>\n       </defs>\n       <use xlink:href=\"#DejaVuSans-30\"/>\n       <use xlink:href=\"#DejaVuSans-2e\" x=\"63.623047\"/>\n       <use xlink:href=\"#DejaVuSans-30\" x=\"95.410156\"/>\n      </g>\n     </g>\n    </g>\n    <g id=\"ytick_2\">\n     <g id=\"line2d_8\">\n      <g>\n       <use xlink:href=\"#mad744a54b5\" x=\"30.103125\" y=\"116.6333\" style=\"stroke: #000000; stroke-width: 0.8\"/>\n      </g>\n     </g>\n     <g id=\"text_9\">\n      <!-- 0.5 -->\n      <g transform=\"translate(7.2 120.432519) scale(0.1 -0.1)\">\n       <defs>\n        <path id=\"DejaVuSans-35\" d=\"M 691 4666 \nL 3169 4666 \nL 3169 4134 \nL 1269 4134 \nL 1269 2991 \nQ 1406 3038 1543 3061 \nQ 1681 3084 1819 3084 \nQ 2600 3084 3056 2656 \nQ 3513 2228 3513 1497 \nQ 3513 744 3044 326 \nQ 2575 -91 1722 -91 \nQ 1428 -91 1123 -41 \nQ 819 9 494 109 \nL 494 744 \nQ 775 591 1075 516 \nQ 1375 441 1709 441 \nQ 2250 441 2565 725 \nQ 2881 1009 2881 1497 \nQ 2881 1984 2565 2268 \nQ 2250 2553 1709 2553 \nQ 1456 2553 1204 2497 \nQ 953 2441 691 2322 \nL 691 4666 \nz\n\" transform=\"scale(0.015625)\"/>\n       </defs>\n       <use xlink:href=\"#DejaVuSans-30\"/>\n       <use xlink:href=\"#DejaVuSans-2e\" x=\"63.623047\"/>\n       <use xlink:href=\"#DejaVuSans-35\" x=\"95.410156\"/>\n      </g>\n     </g>\n    </g>\n    <g id=\"ytick_3\">\n     <g id=\"line2d_9\">\n      <g>\n       <use xlink:href=\"#mad744a54b5\" x=\"30.103125\" y=\"88.128854\" style=\"stroke: #000000; stroke-width: 0.8\"/>\n      </g>\n     </g>\n     <g id=\"text_10\">\n      <!-- 1.0 -->\n      <g transform=\"translate(7.2 91.928073) scale(0.1 -0.1)\">\n       <use xlink:href=\"#DejaVuSans-31\"/>\n       <use xlink:href=\"#DejaVuSans-2e\" x=\"63.623047\"/>\n       <use xlink:href=\"#DejaVuSans-30\" x=\"95.410156\"/>\n      </g>\n     </g>\n    </g>\n    <g id=\"ytick_4\">\n     <g id=\"line2d_10\">\n      <g>\n       <use xlink:href=\"#mad744a54b5\" x=\"30.103125\" y=\"59.624408\" style=\"stroke: #000000; stroke-width: 0.8\"/>\n      </g>\n     </g>\n     <g id=\"text_11\">\n      <!-- 1.5 -->\n      <g transform=\"translate(7.2 63.423627) scale(0.1 -0.1)\">\n       <use xlink:href=\"#DejaVuSans-31\"/>\n       <use xlink:href=\"#DejaVuSans-2e\" x=\"63.623047\"/>\n       <use xlink:href=\"#DejaVuSans-35\" x=\"95.410156\"/>\n      </g>\n     </g>\n    </g>\n    <g id=\"ytick_5\">\n     <g id=\"line2d_11\">\n      <g>\n       <use xlink:href=\"#mad744a54b5\" x=\"30.103125\" y=\"31.119962\" style=\"stroke: #000000; stroke-width: 0.8\"/>\n      </g>\n     </g>\n     <g id=\"text_12\">\n      <!-- 2.0 -->\n      <g transform=\"translate(7.2 34.919181) scale(0.1 -0.1)\">\n       <use xlink:href=\"#DejaVuSans-32\"/>\n       <use xlink:href=\"#DejaVuSans-2e\" x=\"63.623047\"/>\n       <use xlink:href=\"#DejaVuSans-30\" x=\"95.410156\"/>\n      </g>\n     </g>\n    </g>\n   </g>\n   <g id=\"line2d_12\">\n    <path d=\"M 34.954394 13.5 \n\" clip-path=\"url(#pe4ea3a3b6d)\" style=\"fill: none; stroke: #1f77b4; stroke-width: 1.5; stroke-linecap: square\"/>\n   </g>\n   <g id=\"line2d_13\">\n    <path d=\"M 34.954394 13.5 \nL 44.698573 13.561853 \n\" clip-path=\"url(#pe4ea3a3b6d)\" style=\"fill: none; stroke: #1f77b4; stroke-width: 1.5; stroke-linecap: square\"/>\n   </g>\n   <g id=\"line2d_14\">\n    <path d=\"M 34.954394 13.5 \nL 44.698573 13.561853 \n\" clip-path=\"url(#pe4ea3a3b6d)\" style=\"fill: none; stroke: #1f77b4; stroke-width: 1.5; stroke-linecap: square\"/>\n   </g>\n   <g id=\"line2d_15\">\n    <path d=\"M 49.633125 13.50162 \n\" clip-path=\"url(#pe4ea3a3b6d)\" style=\"fill: none; stroke-dasharray: 5.55,2.4; stroke-dashoffset: 0; stroke: #ff7f0e; stroke-width: 1.5\"/>\n   </g>\n   <g id=\"line2d_16\"/>\n   <g id=\"line2d_17\">\n    <path d=\"M 34.954394 13.5 \nL 44.698573 13.561853 \n\" clip-path=\"url(#pe4ea3a3b6d)\" style=\"fill: none; stroke: #1f77b4; stroke-width: 1.5; stroke-linecap: square\"/>\n   </g>\n   <g id=\"line2d_18\">\n    <path d=\"M 49.633125 13.50162 \n\" clip-path=\"url(#pe4ea3a3b6d)\" style=\"fill: none; stroke-dasharray: 5.55,2.4; stroke-dashoffset: 0; stroke: #ff7f0e; stroke-width: 1.5\"/>\n   </g>\n   <g id=\"line2d_19\">\n    <path d=\"M 49.633125 139.5 \n\" clip-path=\"url(#pe4ea3a3b6d)\" style=\"fill: none; stroke-dasharray: 9.6,2.4,1.5,2.4; stroke-dashoffset: 0; stroke: #2ca02c; stroke-width: 1.5\"/>\n   </g>\n   <g id=\"line2d_20\">\n    <path d=\"M 34.954394 13.5 \nL 44.698573 13.561853 \nL 54.442752 13.580191 \n\" clip-path=\"url(#pe4ea3a3b6d)\" style=\"fill: none; stroke: #1f77b4; stroke-width: 1.5; stroke-linecap: square\"/>\n   </g>\n   <g id=\"line2d_21\">\n    <path d=\"M 49.633125 13.50162 \n\" clip-path=\"url(#pe4ea3a3b6d)\" style=\"fill: none; stroke-dasharray: 5.55,2.4; stroke-dashoffset: 0; stroke: #ff7f0e; stroke-width: 1.5\"/>\n   </g>\n   <g id=\"line2d_22\">\n    <path d=\"M 49.633125 139.5 \n\" clip-path=\"url(#pe4ea3a3b6d)\" style=\"fill: none; stroke-dasharray: 9.6,2.4,1.5,2.4; stroke-dashoffset: 0; stroke: #2ca02c; stroke-width: 1.5\"/>\n   </g>\n   <g id=\"line2d_23\">\n    <path d=\"M 34.954394 13.5 \nL 44.698573 13.561853 \nL 54.442752 13.580191 \nL 64.186931 13.730173 \n\" clip-path=\"url(#pe4ea3a3b6d)\" style=\"fill: none; stroke: #1f77b4; stroke-width: 1.5; stroke-linecap: square\"/>\n   </g>\n   <g id=\"line2d_24\">\n    <path d=\"M 49.633125 13.50162 \n\" clip-path=\"url(#pe4ea3a3b6d)\" style=\"fill: none; stroke-dasharray: 5.55,2.4; stroke-dashoffset: 0; stroke: #ff7f0e; stroke-width: 1.5\"/>\n   </g>\n   <g id=\"line2d_25\">\n    <path d=\"M 49.633125 139.5 \n\" clip-path=\"url(#pe4ea3a3b6d)\" style=\"fill: none; stroke-dasharray: 9.6,2.4,1.5,2.4; stroke-dashoffset: 0; stroke: #2ca02c; stroke-width: 1.5\"/>\n   </g>\n   <g id=\"line2d_26\">\n    <path d=\"M 34.954394 13.5 \nL 44.698573 13.561853 \nL 54.442752 13.580191 \nL 64.186931 13.730173 \n\" clip-path=\"url(#pe4ea3a3b6d)\" style=\"fill: none; stroke: #1f77b4; stroke-width: 1.5; stroke-linecap: square\"/>\n   </g>\n   <g id=\"line2d_27\">\n    <path d=\"M 49.633125 13.50162 \nL 69.163125 13.716906 \n\" clip-path=\"url(#pe4ea3a3b6d)\" style=\"fill: none; stroke-dasharray: 5.55,2.4; stroke-dashoffset: 0; stroke: #ff7f0e; stroke-width: 1.5\"/>\n   </g>\n   <g id=\"line2d_28\">\n    <path d=\"M 49.633125 139.5 \n\" clip-path=\"url(#pe4ea3a3b6d)\" style=\"fill: none; stroke-dasharray: 9.6,2.4,1.5,2.4; stroke-dashoffset: 0; stroke: #2ca02c; stroke-width: 1.5\"/>\n   </g>\n   <g id=\"line2d_29\">\n    <path d=\"M 34.954394 13.5 \nL 44.698573 13.561853 \nL 54.442752 13.580191 \nL 64.186931 13.730173 \n\" clip-path=\"url(#pe4ea3a3b6d)\" style=\"fill: none; stroke: #1f77b4; stroke-width: 1.5; stroke-linecap: square\"/>\n   </g>\n   <g id=\"line2d_30\">\n    <path d=\"M 49.633125 13.50162 \nL 69.163125 13.716906 \n\" clip-path=\"url(#pe4ea3a3b6d)\" style=\"fill: none; stroke-dasharray: 5.55,2.4; stroke-dashoffset: 0; stroke: #ff7f0e; stroke-width: 1.5\"/>\n   </g>\n   <g id=\"line2d_31\">\n    <path d=\"M 49.633125 139.5 \nL 69.163125 139.460536 \n\" clip-path=\"url(#pe4ea3a3b6d)\" style=\"fill: none; stroke-dasharray: 9.6,2.4,1.5,2.4; stroke-dashoffset: 0; stroke: #2ca02c; stroke-width: 1.5\"/>\n   </g>\n   <g id=\"line2d_32\">\n    <path d=\"M 34.954394 13.5 \nL 44.698573 13.561853 \nL 54.442752 13.580191 \nL 64.186931 13.730173 \nL 73.93111 13.867069 \n\" clip-path=\"url(#pe4ea3a3b6d)\" style=\"fill: none; stroke: #1f77b4; stroke-width: 1.5; stroke-linecap: square\"/>\n   </g>\n   <g id=\"line2d_33\">\n    <path d=\"M 49.633125 13.50162 \nL 69.163125 13.716906 \n\" clip-path=\"url(#pe4ea3a3b6d)\" style=\"fill: none; stroke-dasharray: 5.55,2.4; stroke-dashoffset: 0; stroke: #ff7f0e; stroke-width: 1.5\"/>\n   </g>\n   <g id=\"line2d_34\">\n    <path d=\"M 49.633125 139.5 \nL 69.163125 139.460536 \n\" clip-path=\"url(#pe4ea3a3b6d)\" style=\"fill: none; stroke-dasharray: 9.6,2.4,1.5,2.4; stroke-dashoffset: 0; stroke: #2ca02c; stroke-width: 1.5\"/>\n   </g>\n   <g id=\"line2d_35\">\n    <path d=\"M 34.954394 13.5 \nL 44.698573 13.561853 \nL 54.442752 13.580191 \nL 64.186931 13.730173 \nL 73.93111 13.867069 \nL 83.675289 14.466879 \n\" clip-path=\"url(#pe4ea3a3b6d)\" style=\"fill: none; stroke: #1f77b4; stroke-width: 1.5; stroke-linecap: square\"/>\n   </g>\n   <g id=\"line2d_36\">\n    <path d=\"M 49.633125 13.50162 \nL 69.163125 13.716906 \n\" clip-path=\"url(#pe4ea3a3b6d)\" style=\"fill: none; stroke-dasharray: 5.55,2.4; stroke-dashoffset: 0; stroke: #ff7f0e; stroke-width: 1.5\"/>\n   </g>\n   <g id=\"line2d_37\">\n    <path d=\"M 49.633125 139.5 \nL 69.163125 139.460536 \n\" clip-path=\"url(#pe4ea3a3b6d)\" style=\"fill: none; stroke-dasharray: 9.6,2.4,1.5,2.4; stroke-dashoffset: 0; stroke: #2ca02c; stroke-width: 1.5\"/>\n   </g>\n   <g id=\"line2d_38\">\n    <path d=\"M 34.954394 13.5 \nL 44.698573 13.561853 \nL 54.442752 13.580191 \nL 64.186931 13.730173 \nL 73.93111 13.867069 \nL 83.675289 14.466879 \n\" clip-path=\"url(#pe4ea3a3b6d)\" style=\"fill: none; stroke: #1f77b4; stroke-width: 1.5; stroke-linecap: square\"/>\n   </g>\n   <g id=\"line2d_39\">\n    <path d=\"M 49.633125 13.50162 \nL 69.163125 13.716906 \nL 88.693125 15.348794 \n\" clip-path=\"url(#pe4ea3a3b6d)\" style=\"fill: none; stroke-dasharray: 5.55,2.4; stroke-dashoffset: 0; stroke: #ff7f0e; stroke-width: 1.5\"/>\n   </g>\n   <g id=\"line2d_40\">\n    <path d=\"M 49.633125 139.5 \nL 69.163125 139.460536 \n\" clip-path=\"url(#pe4ea3a3b6d)\" style=\"fill: none; stroke-dasharray: 9.6,2.4,1.5,2.4; stroke-dashoffset: 0; stroke: #2ca02c; stroke-width: 1.5\"/>\n   </g>\n   <g id=\"line2d_41\">\n    <path d=\"M 34.954394 13.5 \nL 44.698573 13.561853 \nL 54.442752 13.580191 \nL 64.186931 13.730173 \nL 73.93111 13.867069 \nL 83.675289 14.466879 \n\" clip-path=\"url(#pe4ea3a3b6d)\" style=\"fill: none; stroke: #1f77b4; stroke-width: 1.5; stroke-linecap: square\"/>\n   </g>\n   <g id=\"line2d_42\">\n    <path d=\"M 49.633125 13.50162 \nL 69.163125 13.716906 \nL 88.693125 15.348794 \n\" clip-path=\"url(#pe4ea3a3b6d)\" style=\"fill: none; stroke-dasharray: 5.55,2.4; stroke-dashoffset: 0; stroke: #ff7f0e; stroke-width: 1.5\"/>\n   </g>\n   <g id=\"line2d_43\">\n    <path d=\"M 49.633125 139.5 \nL 69.163125 139.460536 \nL 88.693125 137.983446 \n\" clip-path=\"url(#pe4ea3a3b6d)\" style=\"fill: none; stroke-dasharray: 9.6,2.4,1.5,2.4; stroke-dashoffset: 0; stroke: #2ca02c; stroke-width: 1.5\"/>\n   </g>\n   <g id=\"line2d_44\">\n    <path d=\"M 34.954394 13.5 \nL 44.698573 13.561853 \nL 54.442752 13.580191 \nL 64.186931 13.730173 \nL 73.93111 13.867069 \nL 83.675289 14.466879 \nL 93.419468 19.887293 \n\" clip-path=\"url(#pe4ea3a3b6d)\" style=\"fill: none; stroke: #1f77b4; stroke-width: 1.5; stroke-linecap: square\"/>\n   </g>\n   <g id=\"line2d_45\">\n    <path d=\"M 49.633125 13.50162 \nL 69.163125 13.716906 \nL 88.693125 15.348794 \n\" clip-path=\"url(#pe4ea3a3b6d)\" style=\"fill: none; stroke-dasharray: 5.55,2.4; stroke-dashoffset: 0; stroke: #ff7f0e; stroke-width: 1.5\"/>\n   </g>\n   <g id=\"line2d_46\">\n    <path d=\"M 49.633125 139.5 \nL 69.163125 139.460536 \nL 88.693125 137.983446 \n\" clip-path=\"url(#pe4ea3a3b6d)\" style=\"fill: none; stroke-dasharray: 9.6,2.4,1.5,2.4; stroke-dashoffset: 0; stroke: #2ca02c; stroke-width: 1.5\"/>\n   </g>\n   <g id=\"line2d_47\">\n    <path d=\"M 34.954394 13.5 \nL 44.698573 13.561853 \nL 54.442752 13.580191 \nL 64.186931 13.730173 \nL 73.93111 13.867069 \nL 83.675289 14.466879 \nL 93.419468 19.887293 \nL 103.163647 50.575874 \n\" clip-path=\"url(#pe4ea3a3b6d)\" style=\"fill: none; stroke: #1f77b4; stroke-width: 1.5; stroke-linecap: square\"/>\n   </g>\n   <g id=\"line2d_48\">\n    <path d=\"M 49.633125 13.50162 \nL 69.163125 13.716906 \nL 88.693125 15.348794 \n\" clip-path=\"url(#pe4ea3a3b6d)\" style=\"fill: none; stroke-dasharray: 5.55,2.4; stroke-dashoffset: 0; stroke: #ff7f0e; stroke-width: 1.5\"/>\n   </g>\n   <g id=\"line2d_49\">\n    <path d=\"M 49.633125 139.5 \nL 69.163125 139.460536 \nL 88.693125 137.983446 \n\" clip-path=\"url(#pe4ea3a3b6d)\" style=\"fill: none; stroke-dasharray: 9.6,2.4,1.5,2.4; stroke-dashoffset: 0; stroke: #2ca02c; stroke-width: 1.5\"/>\n   </g>\n   <g id=\"line2d_50\">\n    <path d=\"M 34.954394 13.5 \nL 44.698573 13.561853 \nL 54.442752 13.580191 \nL 64.186931 13.730173 \nL 73.93111 13.867069 \nL 83.675289 14.466879 \nL 93.419468 19.887293 \nL 103.163647 50.575874 \n\" clip-path=\"url(#pe4ea3a3b6d)\" style=\"fill: none; stroke: #1f77b4; stroke-width: 1.5; stroke-linecap: square\"/>\n   </g>\n   <g id=\"line2d_51\">\n    <path d=\"M 49.633125 13.50162 \nL 69.163125 13.716906 \nL 88.693125 15.348794 \nL 108.223125 67.157033 \n\" clip-path=\"url(#pe4ea3a3b6d)\" style=\"fill: none; stroke-dasharray: 5.55,2.4; stroke-dashoffset: 0; stroke: #ff7f0e; stroke-width: 1.5\"/>\n   </g>\n   <g id=\"line2d_52\">\n    <path d=\"M 49.633125 139.5 \nL 69.163125 139.460536 \nL 88.693125 137.983446 \n\" clip-path=\"url(#pe4ea3a3b6d)\" style=\"fill: none; stroke-dasharray: 9.6,2.4,1.5,2.4; stroke-dashoffset: 0; stroke: #2ca02c; stroke-width: 1.5\"/>\n   </g>\n   <g id=\"line2d_53\">\n    <path d=\"M 34.954394 13.5 \nL 44.698573 13.561853 \nL 54.442752 13.580191 \nL 64.186931 13.730173 \nL 73.93111 13.867069 \nL 83.675289 14.466879 \nL 93.419468 19.887293 \nL 103.163647 50.575874 \n\" clip-path=\"url(#pe4ea3a3b6d)\" style=\"fill: none; stroke: #1f77b4; stroke-width: 1.5; stroke-linecap: square\"/>\n   </g>\n   <g id=\"line2d_54\">\n    <path d=\"M 49.633125 13.50162 \nL 69.163125 13.716906 \nL 88.693125 15.348794 \nL 108.223125 67.157033 \n\" clip-path=\"url(#pe4ea3a3b6d)\" style=\"fill: none; stroke-dasharray: 5.55,2.4; stroke-dashoffset: 0; stroke: #ff7f0e; stroke-width: 1.5\"/>\n   </g>\n   <g id=\"line2d_55\">\n    <path d=\"M 49.633125 139.5 \nL 69.163125 139.460536 \nL 88.693125 137.983446 \nL 108.223125 114.045575 \n\" clip-path=\"url(#pe4ea3a3b6d)\" style=\"fill: none; stroke-dasharray: 9.6,2.4,1.5,2.4; stroke-dashoffset: 0; stroke: #2ca02c; stroke-width: 1.5\"/>\n   </g>\n   <g id=\"line2d_56\">\n    <path d=\"M 34.954394 13.5 \nL 44.698573 13.561853 \nL 54.442752 13.580191 \nL 64.186931 13.730173 \nL 73.93111 13.867069 \nL 83.675289 14.466879 \nL 93.419468 19.887293 \nL 103.163647 50.575874 \nL 112.907826 73.679626 \n\" clip-path=\"url(#pe4ea3a3b6d)\" style=\"fill: none; stroke: #1f77b4; stroke-width: 1.5; stroke-linecap: square\"/>\n   </g>\n   <g id=\"line2d_57\">\n    <path d=\"M 49.633125 13.50162 \nL 69.163125 13.716906 \nL 88.693125 15.348794 \nL 108.223125 67.157033 \n\" clip-path=\"url(#pe4ea3a3b6d)\" style=\"fill: none; stroke-dasharray: 5.55,2.4; stroke-dashoffset: 0; stroke: #ff7f0e; stroke-width: 1.5\"/>\n   </g>\n   <g id=\"line2d_58\">\n    <path d=\"M 49.633125 139.5 \nL 69.163125 139.460536 \nL 88.693125 137.983446 \nL 108.223125 114.045575 \n\" clip-path=\"url(#pe4ea3a3b6d)\" style=\"fill: none; stroke-dasharray: 9.6,2.4,1.5,2.4; stroke-dashoffset: 0; stroke: #2ca02c; stroke-width: 1.5\"/>\n   </g>\n   <g id=\"line2d_59\">\n    <path d=\"M 34.954394 13.5 \nL 44.698573 13.561853 \nL 54.442752 13.580191 \nL 64.186931 13.730173 \nL 73.93111 13.867069 \nL 83.675289 14.466879 \nL 93.419468 19.887293 \nL 103.163647 50.575874 \nL 112.907826 73.679626 \nL 122.652006 82.548029 \n\" clip-path=\"url(#pe4ea3a3b6d)\" style=\"fill: none; stroke: #1f77b4; stroke-width: 1.5; stroke-linecap: square\"/>\n   </g>\n   <g id=\"line2d_60\">\n    <path d=\"M 49.633125 13.50162 \nL 69.163125 13.716906 \nL 88.693125 15.348794 \nL 108.223125 67.157033 \n\" clip-path=\"url(#pe4ea3a3b6d)\" style=\"fill: none; stroke-dasharray: 5.55,2.4; stroke-dashoffset: 0; stroke: #ff7f0e; stroke-width: 1.5\"/>\n   </g>\n   <g id=\"line2d_61\">\n    <path d=\"M 49.633125 139.5 \nL 69.163125 139.460536 \nL 88.693125 137.983446 \nL 108.223125 114.045575 \n\" clip-path=\"url(#pe4ea3a3b6d)\" style=\"fill: none; stroke-dasharray: 9.6,2.4,1.5,2.4; stroke-dashoffset: 0; stroke: #2ca02c; stroke-width: 1.5\"/>\n   </g>\n   <g id=\"line2d_62\">\n    <path d=\"M 34.954394 13.5 \nL 44.698573 13.561853 \nL 54.442752 13.580191 \nL 64.186931 13.730173 \nL 73.93111 13.867069 \nL 83.675289 14.466879 \nL 93.419468 19.887293 \nL 103.163647 50.575874 \nL 112.907826 73.679626 \nL 122.652006 82.548029 \n\" clip-path=\"url(#pe4ea3a3b6d)\" style=\"fill: none; stroke: #1f77b4; stroke-width: 1.5; stroke-linecap: square\"/>\n   </g>\n   <g id=\"line2d_63\">\n    <path d=\"M 49.633125 13.50162 \nL 69.163125 13.716906 \nL 88.693125 15.348794 \nL 108.223125 67.157033 \nL 127.753125 85.468726 \n\" clip-path=\"url(#pe4ea3a3b6d)\" style=\"fill: none; stroke-dasharray: 5.55,2.4; stroke-dashoffset: 0; stroke: #ff7f0e; stroke-width: 1.5\"/>\n   </g>\n   <g id=\"line2d_64\">\n    <path d=\"M 49.633125 139.5 \nL 69.163125 139.460536 \nL 88.693125 137.983446 \nL 108.223125 114.045575 \n\" clip-path=\"url(#pe4ea3a3b6d)\" style=\"fill: none; stroke-dasharray: 9.6,2.4,1.5,2.4; stroke-dashoffset: 0; stroke: #2ca02c; stroke-width: 1.5\"/>\n   </g>\n   <g id=\"line2d_65\">\n    <path d=\"M 34.954394 13.5 \nL 44.698573 13.561853 \nL 54.442752 13.580191 \nL 64.186931 13.730173 \nL 73.93111 13.867069 \nL 83.675289 14.466879 \nL 93.419468 19.887293 \nL 103.163647 50.575874 \nL 112.907826 73.679626 \nL 122.652006 82.548029 \n\" clip-path=\"url(#pe4ea3a3b6d)\" style=\"fill: none; stroke: #1f77b4; stroke-width: 1.5; stroke-linecap: square\"/>\n   </g>\n   <g id=\"line2d_66\">\n    <path d=\"M 49.633125 13.50162 \nL 69.163125 13.716906 \nL 88.693125 15.348794 \nL 108.223125 67.157033 \nL 127.753125 85.468726 \n\" clip-path=\"url(#pe4ea3a3b6d)\" style=\"fill: none; stroke-dasharray: 5.55,2.4; stroke-dashoffset: 0; stroke: #ff7f0e; stroke-width: 1.5\"/>\n   </g>\n   <g id=\"line2d_67\">\n    <path d=\"M 49.633125 139.5 \nL 69.163125 139.460536 \nL 88.693125 137.983446 \nL 108.223125 114.045575 \nL 127.753125 111.249252 \n\" clip-path=\"url(#pe4ea3a3b6d)\" style=\"fill: none; stroke-dasharray: 9.6,2.4,1.5,2.4; stroke-dashoffset: 0; stroke: #2ca02c; stroke-width: 1.5\"/>\n   </g>\n   <g id=\"line2d_68\">\n    <path d=\"M 34.954394 13.5 \nL 44.698573 13.561853 \nL 54.442752 13.580191 \nL 64.186931 13.730173 \nL 73.93111 13.867069 \nL 83.675289 14.466879 \nL 93.419468 19.887293 \nL 103.163647 50.575874 \nL 112.907826 73.679626 \nL 122.652006 82.548029 \nL 132.396185 88.056756 \n\" clip-path=\"url(#pe4ea3a3b6d)\" style=\"fill: none; stroke: #1f77b4; stroke-width: 1.5; stroke-linecap: square\"/>\n   </g>\n   <g id=\"line2d_69\">\n    <path d=\"M 49.633125 13.50162 \nL 69.163125 13.716906 \nL 88.693125 15.348794 \nL 108.223125 67.157033 \nL 127.753125 85.468726 \n\" clip-path=\"url(#pe4ea3a3b6d)\" style=\"fill: none; stroke-dasharray: 5.55,2.4; stroke-dashoffset: 0; stroke: #ff7f0e; stroke-width: 1.5\"/>\n   </g>\n   <g id=\"line2d_70\">\n    <path d=\"M 49.633125 139.5 \nL 69.163125 139.460536 \nL 88.693125 137.983446 \nL 108.223125 114.045575 \nL 127.753125 111.249252 \n\" clip-path=\"url(#pe4ea3a3b6d)\" style=\"fill: none; stroke-dasharray: 9.6,2.4,1.5,2.4; stroke-dashoffset: 0; stroke: #2ca02c; stroke-width: 1.5\"/>\n   </g>\n   <g id=\"line2d_71\">\n    <path d=\"M 34.954394 13.5 \nL 44.698573 13.561853 \nL 54.442752 13.580191 \nL 64.186931 13.730173 \nL 73.93111 13.867069 \nL 83.675289 14.466879 \nL 93.419468 19.887293 \nL 103.163647 50.575874 \nL 112.907826 73.679626 \nL 122.652006 82.548029 \nL 132.396185 88.056756 \nL 142.140364 90.958221 \n\" clip-path=\"url(#pe4ea3a3b6d)\" style=\"fill: none; stroke: #1f77b4; stroke-width: 1.5; stroke-linecap: square\"/>\n   </g>\n   <g id=\"line2d_72\">\n    <path d=\"M 49.633125 13.50162 \nL 69.163125 13.716906 \nL 88.693125 15.348794 \nL 108.223125 67.157033 \nL 127.753125 85.468726 \n\" clip-path=\"url(#pe4ea3a3b6d)\" style=\"fill: none; stroke-dasharray: 5.55,2.4; stroke-dashoffset: 0; stroke: #ff7f0e; stroke-width: 1.5\"/>\n   </g>\n   <g id=\"line2d_73\">\n    <path d=\"M 49.633125 139.5 \nL 69.163125 139.460536 \nL 88.693125 137.983446 \nL 108.223125 114.045575 \nL 127.753125 111.249252 \n\" clip-path=\"url(#pe4ea3a3b6d)\" style=\"fill: none; stroke-dasharray: 9.6,2.4,1.5,2.4; stroke-dashoffset: 0; stroke: #2ca02c; stroke-width: 1.5\"/>\n   </g>\n   <g id=\"line2d_74\">\n    <path d=\"M 34.954394 13.5 \nL 44.698573 13.561853 \nL 54.442752 13.580191 \nL 64.186931 13.730173 \nL 73.93111 13.867069 \nL 83.675289 14.466879 \nL 93.419468 19.887293 \nL 103.163647 50.575874 \nL 112.907826 73.679626 \nL 122.652006 82.548029 \nL 132.396185 88.056756 \nL 142.140364 90.958221 \n\" clip-path=\"url(#pe4ea3a3b6d)\" style=\"fill: none; stroke: #1f77b4; stroke-width: 1.5; stroke-linecap: square\"/>\n   </g>\n   <g id=\"line2d_75\">\n    <path d=\"M 49.633125 13.50162 \nL 69.163125 13.716906 \nL 88.693125 15.348794 \nL 108.223125 67.157033 \nL 127.753125 85.468726 \nL 147.283125 92.287091 \n\" clip-path=\"url(#pe4ea3a3b6d)\" style=\"fill: none; stroke-dasharray: 5.55,2.4; stroke-dashoffset: 0; stroke: #ff7f0e; stroke-width: 1.5\"/>\n   </g>\n   <g id=\"line2d_76\">\n    <path d=\"M 49.633125 139.5 \nL 69.163125 139.460536 \nL 88.693125 137.983446 \nL 108.223125 114.045575 \nL 127.753125 111.249252 \n\" clip-path=\"url(#pe4ea3a3b6d)\" style=\"fill: none; stroke-dasharray: 9.6,2.4,1.5,2.4; stroke-dashoffset: 0; stroke: #2ca02c; stroke-width: 1.5\"/>\n   </g>\n   <g id=\"line2d_77\">\n    <path d=\"M 34.954394 13.5 \nL 44.698573 13.561853 \nL 54.442752 13.580191 \nL 64.186931 13.730173 \nL 73.93111 13.867069 \nL 83.675289 14.466879 \nL 93.419468 19.887293 \nL 103.163647 50.575874 \nL 112.907826 73.679626 \nL 122.652006 82.548029 \nL 132.396185 88.056756 \nL 142.140364 90.958221 \n\" clip-path=\"url(#pe4ea3a3b6d)\" style=\"fill: none; stroke: #1f77b4; stroke-width: 1.5; stroke-linecap: square\"/>\n   </g>\n   <g id=\"line2d_78\">\n    <path d=\"M 49.633125 13.50162 \nL 69.163125 13.716906 \nL 88.693125 15.348794 \nL 108.223125 67.157033 \nL 127.753125 85.468726 \nL 147.283125 92.287091 \n\" clip-path=\"url(#pe4ea3a3b6d)\" style=\"fill: none; stroke-dasharray: 5.55,2.4; stroke-dashoffset: 0; stroke: #ff7f0e; stroke-width: 1.5\"/>\n   </g>\n   <g id=\"line2d_79\">\n    <path d=\"M 49.633125 139.5 \nL 69.163125 139.460536 \nL 88.693125 137.983446 \nL 108.223125 114.045575 \nL 127.753125 111.249252 \nL 147.283125 107.996273 \n\" clip-path=\"url(#pe4ea3a3b6d)\" style=\"fill: none; stroke-dasharray: 9.6,2.4,1.5,2.4; stroke-dashoffset: 0; stroke: #2ca02c; stroke-width: 1.5\"/>\n   </g>\n   <g id=\"line2d_80\">\n    <path d=\"M 34.954394 13.5 \nL 44.698573 13.561853 \nL 54.442752 13.580191 \nL 64.186931 13.730173 \nL 73.93111 13.867069 \nL 83.675289 14.466879 \nL 93.419468 19.887293 \nL 103.163647 50.575874 \nL 112.907826 73.679626 \nL 122.652006 82.548029 \nL 132.396185 88.056756 \nL 142.140364 90.958221 \nL 151.884543 93.461889 \n\" clip-path=\"url(#pe4ea3a3b6d)\" style=\"fill: none; stroke: #1f77b4; stroke-width: 1.5; stroke-linecap: square\"/>\n   </g>\n   <g id=\"line2d_81\">\n    <path d=\"M 49.633125 13.50162 \nL 69.163125 13.716906 \nL 88.693125 15.348794 \nL 108.223125 67.157033 \nL 127.753125 85.468726 \nL 147.283125 92.287091 \n\" clip-path=\"url(#pe4ea3a3b6d)\" style=\"fill: none; stroke-dasharray: 5.55,2.4; stroke-dashoffset: 0; stroke: #ff7f0e; stroke-width: 1.5\"/>\n   </g>\n   <g id=\"line2d_82\">\n    <path d=\"M 49.633125 139.5 \nL 69.163125 139.460536 \nL 88.693125 137.983446 \nL 108.223125 114.045575 \nL 127.753125 111.249252 \nL 147.283125 107.996273 \n\" clip-path=\"url(#pe4ea3a3b6d)\" style=\"fill: none; stroke-dasharray: 9.6,2.4,1.5,2.4; stroke-dashoffset: 0; stroke: #2ca02c; stroke-width: 1.5\"/>\n   </g>\n   <g id=\"line2d_83\">\n    <path d=\"M 34.954394 13.5 \nL 44.698573 13.561853 \nL 54.442752 13.580191 \nL 64.186931 13.730173 \nL 73.93111 13.867069 \nL 83.675289 14.466879 \nL 93.419468 19.887293 \nL 103.163647 50.575874 \nL 112.907826 73.679626 \nL 122.652006 82.548029 \nL 132.396185 88.056756 \nL 142.140364 90.958221 \nL 151.884543 93.461889 \nL 161.628722 95.783382 \n\" clip-path=\"url(#pe4ea3a3b6d)\" style=\"fill: none; stroke: #1f77b4; stroke-width: 1.5; stroke-linecap: square\"/>\n   </g>\n   <g id=\"line2d_84\">\n    <path d=\"M 49.633125 13.50162 \nL 69.163125 13.716906 \nL 88.693125 15.348794 \nL 108.223125 67.157033 \nL 127.753125 85.468726 \nL 147.283125 92.287091 \n\" clip-path=\"url(#pe4ea3a3b6d)\" style=\"fill: none; stroke-dasharray: 5.55,2.4; stroke-dashoffset: 0; stroke: #ff7f0e; stroke-width: 1.5\"/>\n   </g>\n   <g id=\"line2d_85\">\n    <path d=\"M 49.633125 139.5 \nL 69.163125 139.460536 \nL 88.693125 137.983446 \nL 108.223125 114.045575 \nL 127.753125 111.249252 \nL 147.283125 107.996273 \n\" clip-path=\"url(#pe4ea3a3b6d)\" style=\"fill: none; stroke-dasharray: 9.6,2.4,1.5,2.4; stroke-dashoffset: 0; stroke: #2ca02c; stroke-width: 1.5\"/>\n   </g>\n   <g id=\"line2d_86\">\n    <path d=\"M 34.954394 13.5 \nL 44.698573 13.561853 \nL 54.442752 13.580191 \nL 64.186931 13.730173 \nL 73.93111 13.867069 \nL 83.675289 14.466879 \nL 93.419468 19.887293 \nL 103.163647 50.575874 \nL 112.907826 73.679626 \nL 122.652006 82.548029 \nL 132.396185 88.056756 \nL 142.140364 90.958221 \nL 151.884543 93.461889 \nL 161.628722 95.783382 \n\" clip-path=\"url(#pe4ea3a3b6d)\" style=\"fill: none; stroke: #1f77b4; stroke-width: 1.5; stroke-linecap: square\"/>\n   </g>\n   <g id=\"line2d_87\">\n    <path d=\"M 49.633125 13.50162 \nL 69.163125 13.716906 \nL 88.693125 15.348794 \nL 108.223125 67.157033 \nL 127.753125 85.468726 \nL 147.283125 92.287091 \nL 166.813125 95.675006 \n\" clip-path=\"url(#pe4ea3a3b6d)\" style=\"fill: none; stroke-dasharray: 5.55,2.4; stroke-dashoffset: 0; stroke: #ff7f0e; stroke-width: 1.5\"/>\n   </g>\n   <g id=\"line2d_88\">\n    <path d=\"M 49.633125 139.5 \nL 69.163125 139.460536 \nL 88.693125 137.983446 \nL 108.223125 114.045575 \nL 127.753125 111.249252 \nL 147.283125 107.996273 \n\" clip-path=\"url(#pe4ea3a3b6d)\" style=\"fill: none; stroke-dasharray: 9.6,2.4,1.5,2.4; stroke-dashoffset: 0; stroke: #2ca02c; stroke-width: 1.5\"/>\n   </g>\n   <g id=\"line2d_89\">\n    <path d=\"M 34.954394 13.5 \nL 44.698573 13.561853 \nL 54.442752 13.580191 \nL 64.186931 13.730173 \nL 73.93111 13.867069 \nL 83.675289 14.466879 \nL 93.419468 19.887293 \nL 103.163647 50.575874 \nL 112.907826 73.679626 \nL 122.652006 82.548029 \nL 132.396185 88.056756 \nL 142.140364 90.958221 \nL 151.884543 93.461889 \nL 161.628722 95.783382 \n\" clip-path=\"url(#pe4ea3a3b6d)\" style=\"fill: none; stroke: #1f77b4; stroke-width: 1.5; stroke-linecap: square\"/>\n   </g>\n   <g id=\"line2d_90\">\n    <path d=\"M 49.633125 13.50162 \nL 69.163125 13.716906 \nL 88.693125 15.348794 \nL 108.223125 67.157033 \nL 127.753125 85.468726 \nL 147.283125 92.287091 \nL 166.813125 95.675006 \n\" clip-path=\"url(#pe4ea3a3b6d)\" style=\"fill: none; stroke-dasharray: 5.55,2.4; stroke-dashoffset: 0; stroke: #ff7f0e; stroke-width: 1.5\"/>\n   </g>\n   <g id=\"line2d_91\">\n    <path d=\"M 49.633125 139.5 \nL 69.163125 139.460536 \nL 88.693125 137.983446 \nL 108.223125 114.045575 \nL 127.753125 111.249252 \nL 147.283125 107.996273 \nL 166.813125 107.57908 \n\" clip-path=\"url(#pe4ea3a3b6d)\" style=\"fill: none; stroke-dasharray: 9.6,2.4,1.5,2.4; stroke-dashoffset: 0; stroke: #2ca02c; stroke-width: 1.5\"/>\n   </g>\n   <g id=\"line2d_92\">\n    <path d=\"M 34.954394 13.5 \nL 44.698573 13.561853 \nL 54.442752 13.580191 \nL 64.186931 13.730173 \nL 73.93111 13.867069 \nL 83.675289 14.466879 \nL 93.419468 19.887293 \nL 103.163647 50.575874 \nL 112.907826 73.679626 \nL 122.652006 82.548029 \nL 132.396185 88.056756 \nL 142.140364 90.958221 \nL 151.884543 93.461889 \nL 161.628722 95.783382 \nL 171.372901 96.79257 \n\" clip-path=\"url(#pe4ea3a3b6d)\" style=\"fill: none; stroke: #1f77b4; stroke-width: 1.5; stroke-linecap: square\"/>\n   </g>\n   <g id=\"line2d_93\">\n    <path d=\"M 49.633125 13.50162 \nL 69.163125 13.716906 \nL 88.693125 15.348794 \nL 108.223125 67.157033 \nL 127.753125 85.468726 \nL 147.283125 92.287091 \nL 166.813125 95.675006 \n\" clip-path=\"url(#pe4ea3a3b6d)\" style=\"fill: none; stroke-dasharray: 5.55,2.4; stroke-dashoffset: 0; stroke: #ff7f0e; stroke-width: 1.5\"/>\n   </g>\n   <g id=\"line2d_94\">\n    <path d=\"M 49.633125 139.5 \nL 69.163125 139.460536 \nL 88.693125 137.983446 \nL 108.223125 114.045575 \nL 127.753125 111.249252 \nL 147.283125 107.996273 \nL 166.813125 107.57908 \n\" clip-path=\"url(#pe4ea3a3b6d)\" style=\"fill: none; stroke-dasharray: 9.6,2.4,1.5,2.4; stroke-dashoffset: 0; stroke: #2ca02c; stroke-width: 1.5\"/>\n   </g>\n   <g id=\"line2d_95\">\n    <path d=\"M 34.954394 13.5 \nL 44.698573 13.561853 \nL 54.442752 13.580191 \nL 64.186931 13.730173 \nL 73.93111 13.867069 \nL 83.675289 14.466879 \nL 93.419468 19.887293 \nL 103.163647 50.575874 \nL 112.907826 73.679626 \nL 122.652006 82.548029 \nL 132.396185 88.056756 \nL 142.140364 90.958221 \nL 151.884543 93.461889 \nL 161.628722 95.783382 \nL 171.372901 96.79257 \nL 181.11708 98.167311 \n\" clip-path=\"url(#pe4ea3a3b6d)\" style=\"fill: none; stroke: #1f77b4; stroke-width: 1.5; stroke-linecap: square\"/>\n   </g>\n   <g id=\"line2d_96\">\n    <path d=\"M 49.633125 13.50162 \nL 69.163125 13.716906 \nL 88.693125 15.348794 \nL 108.223125 67.157033 \nL 127.753125 85.468726 \nL 147.283125 92.287091 \nL 166.813125 95.675006 \n\" clip-path=\"url(#pe4ea3a3b6d)\" style=\"fill: none; stroke-dasharray: 5.55,2.4; stroke-dashoffset: 0; stroke: #ff7f0e; stroke-width: 1.5\"/>\n   </g>\n   <g id=\"line2d_97\">\n    <path d=\"M 49.633125 139.5 \nL 69.163125 139.460536 \nL 88.693125 137.983446 \nL 108.223125 114.045575 \nL 127.753125 111.249252 \nL 147.283125 107.996273 \nL 166.813125 107.57908 \n\" clip-path=\"url(#pe4ea3a3b6d)\" style=\"fill: none; stroke-dasharray: 9.6,2.4,1.5,2.4; stroke-dashoffset: 0; stroke: #2ca02c; stroke-width: 1.5\"/>\n   </g>\n   <g id=\"line2d_98\">\n    <path d=\"M 34.954394 13.5 \nL 44.698573 13.561853 \nL 54.442752 13.580191 \nL 64.186931 13.730173 \nL 73.93111 13.867069 \nL 83.675289 14.466879 \nL 93.419468 19.887293 \nL 103.163647 50.575874 \nL 112.907826 73.679626 \nL 122.652006 82.548029 \nL 132.396185 88.056756 \nL 142.140364 90.958221 \nL 151.884543 93.461889 \nL 161.628722 95.783382 \nL 171.372901 96.79257 \nL 181.11708 98.167311 \n\" clip-path=\"url(#pe4ea3a3b6d)\" style=\"fill: none; stroke: #1f77b4; stroke-width: 1.5; stroke-linecap: square\"/>\n   </g>\n   <g id=\"line2d_99\">\n    <path d=\"M 49.633125 13.50162 \nL 69.163125 13.716906 \nL 88.693125 15.348794 \nL 108.223125 67.157033 \nL 127.753125 85.468726 \nL 147.283125 92.287091 \nL 166.813125 95.675006 \nL 186.343125 98.489508 \n\" clip-path=\"url(#pe4ea3a3b6d)\" style=\"fill: none; stroke-dasharray: 5.55,2.4; stroke-dashoffset: 0; stroke: #ff7f0e; stroke-width: 1.5\"/>\n   </g>\n   <g id=\"line2d_100\">\n    <path d=\"M 49.633125 139.5 \nL 69.163125 139.460536 \nL 88.693125 137.983446 \nL 108.223125 114.045575 \nL 127.753125 111.249252 \nL 147.283125 107.996273 \nL 166.813125 107.57908 \n\" clip-path=\"url(#pe4ea3a3b6d)\" style=\"fill: none; stroke-dasharray: 9.6,2.4,1.5,2.4; stroke-dashoffset: 0; stroke: #2ca02c; stroke-width: 1.5\"/>\n   </g>\n   <g id=\"line2d_101\">\n    <path d=\"M 34.954394 13.5 \nL 44.698573 13.561853 \nL 54.442752 13.580191 \nL 64.186931 13.730173 \nL 73.93111 13.867069 \nL 83.675289 14.466879 \nL 93.419468 19.887293 \nL 103.163647 50.575874 \nL 112.907826 73.679626 \nL 122.652006 82.548029 \nL 132.396185 88.056756 \nL 142.140364 90.958221 \nL 151.884543 93.461889 \nL 161.628722 95.783382 \nL 171.372901 96.79257 \nL 181.11708 98.167311 \n\" clip-path=\"url(#pe4ea3a3b6d)\" style=\"fill: none; stroke: #1f77b4; stroke-width: 1.5; stroke-linecap: square\"/>\n   </g>\n   <g id=\"line2d_102\">\n    <path d=\"M 49.633125 13.50162 \nL 69.163125 13.716906 \nL 88.693125 15.348794 \nL 108.223125 67.157033 \nL 127.753125 85.468726 \nL 147.283125 92.287091 \nL 166.813125 95.675006 \nL 186.343125 98.489508 \n\" clip-path=\"url(#pe4ea3a3b6d)\" style=\"fill: none; stroke-dasharray: 5.55,2.4; stroke-dashoffset: 0; stroke: #ff7f0e; stroke-width: 1.5\"/>\n   </g>\n   <g id=\"line2d_103\">\n    <path d=\"M 49.633125 139.5 \nL 69.163125 139.460536 \nL 88.693125 137.983446 \nL 108.223125 114.045575 \nL 127.753125 111.249252 \nL 147.283125 107.996273 \nL 166.813125 107.57908 \nL 186.343125 105.369083 \n\" clip-path=\"url(#pe4ea3a3b6d)\" style=\"fill: none; stroke-dasharray: 9.6,2.4,1.5,2.4; stroke-dashoffset: 0; stroke: #2ca02c; stroke-width: 1.5\"/>\n   </g>\n   <g id=\"line2d_104\">\n    <path d=\"M 34.954394 13.5 \nL 44.698573 13.561853 \nL 54.442752 13.580191 \nL 64.186931 13.730173 \nL 73.93111 13.867069 \nL 83.675289 14.466879 \nL 93.419468 19.887293 \nL 103.163647 50.575874 \nL 112.907826 73.679626 \nL 122.652006 82.548029 \nL 132.396185 88.056756 \nL 142.140364 90.958221 \nL 151.884543 93.461889 \nL 161.628722 95.783382 \nL 171.372901 96.79257 \nL 181.11708 98.167311 \nL 190.861259 99.41873 \n\" clip-path=\"url(#pe4ea3a3b6d)\" style=\"fill: none; stroke: #1f77b4; stroke-width: 1.5; stroke-linecap: square\"/>\n   </g>\n   <g id=\"line2d_105\">\n    <path d=\"M 49.633125 13.50162 \nL 69.163125 13.716906 \nL 88.693125 15.348794 \nL 108.223125 67.157033 \nL 127.753125 85.468726 \nL 147.283125 92.287091 \nL 166.813125 95.675006 \nL 186.343125 98.489508 \n\" clip-path=\"url(#pe4ea3a3b6d)\" style=\"fill: none; stroke-dasharray: 5.55,2.4; stroke-dashoffset: 0; stroke: #ff7f0e; stroke-width: 1.5\"/>\n   </g>\n   <g id=\"line2d_106\">\n    <path d=\"M 49.633125 139.5 \nL 69.163125 139.460536 \nL 88.693125 137.983446 \nL 108.223125 114.045575 \nL 127.753125 111.249252 \nL 147.283125 107.996273 \nL 166.813125 107.57908 \nL 186.343125 105.369083 \n\" clip-path=\"url(#pe4ea3a3b6d)\" style=\"fill: none; stroke-dasharray: 9.6,2.4,1.5,2.4; stroke-dashoffset: 0; stroke: #2ca02c; stroke-width: 1.5\"/>\n   </g>\n   <g id=\"line2d_107\">\n    <path d=\"M 34.954394 13.5 \nL 44.698573 13.561853 \nL 54.442752 13.580191 \nL 64.186931 13.730173 \nL 73.93111 13.867069 \nL 83.675289 14.466879 \nL 93.419468 19.887293 \nL 103.163647 50.575874 \nL 112.907826 73.679626 \nL 122.652006 82.548029 \nL 132.396185 88.056756 \nL 142.140364 90.958221 \nL 151.884543 93.461889 \nL 161.628722 95.783382 \nL 171.372901 96.79257 \nL 181.11708 98.167311 \nL 190.861259 99.41873 \nL 200.605438 100.861616 \n\" clip-path=\"url(#pe4ea3a3b6d)\" style=\"fill: none; stroke: #1f77b4; stroke-width: 1.5; stroke-linecap: square\"/>\n   </g>\n   <g id=\"line2d_108\">\n    <path d=\"M 49.633125 13.50162 \nL 69.163125 13.716906 \nL 88.693125 15.348794 \nL 108.223125 67.157033 \nL 127.753125 85.468726 \nL 147.283125 92.287091 \nL 166.813125 95.675006 \nL 186.343125 98.489508 \n\" clip-path=\"url(#pe4ea3a3b6d)\" style=\"fill: none; stroke-dasharray: 5.55,2.4; stroke-dashoffset: 0; stroke: #ff7f0e; stroke-width: 1.5\"/>\n   </g>\n   <g id=\"line2d_109\">\n    <path d=\"M 49.633125 139.5 \nL 69.163125 139.460536 \nL 88.693125 137.983446 \nL 108.223125 114.045575 \nL 127.753125 111.249252 \nL 147.283125 107.996273 \nL 166.813125 107.57908 \nL 186.343125 105.369083 \n\" clip-path=\"url(#pe4ea3a3b6d)\" style=\"fill: none; stroke-dasharray: 9.6,2.4,1.5,2.4; stroke-dashoffset: 0; stroke: #2ca02c; stroke-width: 1.5\"/>\n   </g>\n   <g id=\"line2d_110\">\n    <path d=\"M 34.954394 13.5 \nL 44.698573 13.561853 \nL 54.442752 13.580191 \nL 64.186931 13.730173 \nL 73.93111 13.867069 \nL 83.675289 14.466879 \nL 93.419468 19.887293 \nL 103.163647 50.575874 \nL 112.907826 73.679626 \nL 122.652006 82.548029 \nL 132.396185 88.056756 \nL 142.140364 90.958221 \nL 151.884543 93.461889 \nL 161.628722 95.783382 \nL 171.372901 96.79257 \nL 181.11708 98.167311 \nL 190.861259 99.41873 \nL 200.605438 100.861616 \n\" clip-path=\"url(#pe4ea3a3b6d)\" style=\"fill: none; stroke: #1f77b4; stroke-width: 1.5; stroke-linecap: square\"/>\n   </g>\n   <g id=\"line2d_111\">\n    <path d=\"M 49.633125 13.50162 \nL 69.163125 13.716906 \nL 88.693125 15.348794 \nL 108.223125 67.157033 \nL 127.753125 85.468726 \nL 147.283125 92.287091 \nL 166.813125 95.675006 \nL 186.343125 98.489508 \nL 205.873125 100.98417 \n\" clip-path=\"url(#pe4ea3a3b6d)\" style=\"fill: none; stroke-dasharray: 5.55,2.4; stroke-dashoffset: 0; stroke: #ff7f0e; stroke-width: 1.5\"/>\n   </g>\n   <g id=\"line2d_112\">\n    <path d=\"M 49.633125 139.5 \nL 69.163125 139.460536 \nL 88.693125 137.983446 \nL 108.223125 114.045575 \nL 127.753125 111.249252 \nL 147.283125 107.996273 \nL 166.813125 107.57908 \nL 186.343125 105.369083 \n\" clip-path=\"url(#pe4ea3a3b6d)\" style=\"fill: none; stroke-dasharray: 9.6,2.4,1.5,2.4; stroke-dashoffset: 0; stroke: #2ca02c; stroke-width: 1.5\"/>\n   </g>\n   <g id=\"line2d_113\">\n    <path d=\"M 34.954394 13.5 \nL 44.698573 13.561853 \nL 54.442752 13.580191 \nL 64.186931 13.730173 \nL 73.93111 13.867069 \nL 83.675289 14.466879 \nL 93.419468 19.887293 \nL 103.163647 50.575874 \nL 112.907826 73.679626 \nL 122.652006 82.548029 \nL 132.396185 88.056756 \nL 142.140364 90.958221 \nL 151.884543 93.461889 \nL 161.628722 95.783382 \nL 171.372901 96.79257 \nL 181.11708 98.167311 \nL 190.861259 99.41873 \nL 200.605438 100.861616 \n\" clip-path=\"url(#pe4ea3a3b6d)\" style=\"fill: none; stroke: #1f77b4; stroke-width: 1.5; stroke-linecap: square\"/>\n   </g>\n   <g id=\"line2d_114\">\n    <path d=\"M 49.633125 13.50162 \nL 69.163125 13.716906 \nL 88.693125 15.348794 \nL 108.223125 67.157033 \nL 127.753125 85.468726 \nL 147.283125 92.287091 \nL 166.813125 95.675006 \nL 186.343125 98.489508 \nL 205.873125 100.98417 \n\" clip-path=\"url(#pe4ea3a3b6d)\" style=\"fill: none; stroke-dasharray: 5.55,2.4; stroke-dashoffset: 0; stroke: #ff7f0e; stroke-width: 1.5\"/>\n   </g>\n   <g id=\"line2d_115\">\n    <path d=\"M 49.633125 139.5 \nL 69.163125 139.460536 \nL 88.693125 137.983446 \nL 108.223125 114.045575 \nL 127.753125 111.249252 \nL 147.283125 107.996273 \nL 166.813125 107.57908 \nL 186.343125 105.369083 \nL 205.873125 104.55161 \n\" clip-path=\"url(#pe4ea3a3b6d)\" style=\"fill: none; stroke-dasharray: 9.6,2.4,1.5,2.4; stroke-dashoffset: 0; stroke: #2ca02c; stroke-width: 1.5\"/>\n   </g>\n   <g id=\"line2d_116\">\n    <path d=\"M 34.954394 13.5 \nL 44.698573 13.561853 \nL 54.442752 13.580191 \nL 64.186931 13.730173 \nL 73.93111 13.867069 \nL 83.675289 14.466879 \nL 93.419468 19.887293 \nL 103.163647 50.575874 \nL 112.907826 73.679626 \nL 122.652006 82.548029 \nL 132.396185 88.056756 \nL 142.140364 90.958221 \nL 151.884543 93.461889 \nL 161.628722 95.783382 \nL 171.372901 96.79257 \nL 181.11708 98.167311 \nL 190.861259 99.41873 \nL 200.605438 100.861616 \nL 210.349618 102.912873 \n\" clip-path=\"url(#pe4ea3a3b6d)\" style=\"fill: none; stroke: #1f77b4; stroke-width: 1.5; stroke-linecap: square\"/>\n   </g>\n   <g id=\"line2d_117\">\n    <path d=\"M 49.633125 13.50162 \nL 69.163125 13.716906 \nL 88.693125 15.348794 \nL 108.223125 67.157033 \nL 127.753125 85.468726 \nL 147.283125 92.287091 \nL 166.813125 95.675006 \nL 186.343125 98.489508 \nL 205.873125 100.98417 \n\" clip-path=\"url(#pe4ea3a3b6d)\" style=\"fill: none; stroke-dasharray: 5.55,2.4; stroke-dashoffset: 0; stroke: #ff7f0e; stroke-width: 1.5\"/>\n   </g>\n   <g id=\"line2d_118\">\n    <path d=\"M 49.633125 139.5 \nL 69.163125 139.460536 \nL 88.693125 137.983446 \nL 108.223125 114.045575 \nL 127.753125 111.249252 \nL 147.283125 107.996273 \nL 166.813125 107.57908 \nL 186.343125 105.369083 \nL 205.873125 104.55161 \n\" clip-path=\"url(#pe4ea3a3b6d)\" style=\"fill: none; stroke-dasharray: 9.6,2.4,1.5,2.4; stroke-dashoffset: 0; stroke: #2ca02c; stroke-width: 1.5\"/>\n   </g>\n   <g id=\"line2d_119\">\n    <path d=\"M 34.954394 13.5 \nL 44.698573 13.561853 \nL 54.442752 13.580191 \nL 64.186931 13.730173 \nL 73.93111 13.867069 \nL 83.675289 14.466879 \nL 93.419468 19.887293 \nL 103.163647 50.575874 \nL 112.907826 73.679626 \nL 122.652006 82.548029 \nL 132.396185 88.056756 \nL 142.140364 90.958221 \nL 151.884543 93.461889 \nL 161.628722 95.783382 \nL 171.372901 96.79257 \nL 181.11708 98.167311 \nL 190.861259 99.41873 \nL 200.605438 100.861616 \nL 210.349618 102.912873 \nL 220.093797 102.904057 \n\" clip-path=\"url(#pe4ea3a3b6d)\" style=\"fill: none; stroke: #1f77b4; stroke-width: 1.5; stroke-linecap: square\"/>\n   </g>\n   <g id=\"line2d_120\">\n    <path d=\"M 49.633125 13.50162 \nL 69.163125 13.716906 \nL 88.693125 15.348794 \nL 108.223125 67.157033 \nL 127.753125 85.468726 \nL 147.283125 92.287091 \nL 166.813125 95.675006 \nL 186.343125 98.489508 \nL 205.873125 100.98417 \n\" clip-path=\"url(#pe4ea3a3b6d)\" style=\"fill: none; stroke-dasharray: 5.55,2.4; stroke-dashoffset: 0; stroke: #ff7f0e; stroke-width: 1.5\"/>\n   </g>\n   <g id=\"line2d_121\">\n    <path d=\"M 49.633125 139.5 \nL 69.163125 139.460536 \nL 88.693125 137.983446 \nL 108.223125 114.045575 \nL 127.753125 111.249252 \nL 147.283125 107.996273 \nL 166.813125 107.57908 \nL 186.343125 105.369083 \nL 205.873125 104.55161 \n\" clip-path=\"url(#pe4ea3a3b6d)\" style=\"fill: none; stroke-dasharray: 9.6,2.4,1.5,2.4; stroke-dashoffset: 0; stroke: #2ca02c; stroke-width: 1.5\"/>\n   </g>\n   <g id=\"line2d_122\">\n    <path d=\"M 34.954394 13.5 \nL 44.698573 13.561853 \nL 54.442752 13.580191 \nL 64.186931 13.730173 \nL 73.93111 13.867069 \nL 83.675289 14.466879 \nL 93.419468 19.887293 \nL 103.163647 50.575874 \nL 112.907826 73.679626 \nL 122.652006 82.548029 \nL 132.396185 88.056756 \nL 142.140364 90.958221 \nL 151.884543 93.461889 \nL 161.628722 95.783382 \nL 171.372901 96.79257 \nL 181.11708 98.167311 \nL 190.861259 99.41873 \nL 200.605438 100.861616 \nL 210.349618 102.912873 \nL 220.093797 102.904057 \n\" clip-path=\"url(#pe4ea3a3b6d)\" style=\"fill: none; stroke: #1f77b4; stroke-width: 1.5; stroke-linecap: square\"/>\n   </g>\n   <g id=\"line2d_123\">\n    <path d=\"M 49.633125 13.50162 \nL 69.163125 13.716906 \nL 88.693125 15.348794 \nL 108.223125 67.157033 \nL 127.753125 85.468726 \nL 147.283125 92.287091 \nL 166.813125 95.675006 \nL 186.343125 98.489508 \nL 205.873125 100.98417 \nL 225.403125 103.278029 \n\" clip-path=\"url(#pe4ea3a3b6d)\" style=\"fill: none; stroke-dasharray: 5.55,2.4; stroke-dashoffset: 0; stroke: #ff7f0e; stroke-width: 1.5\"/>\n   </g>\n   <g id=\"line2d_124\">\n    <path d=\"M 49.633125 139.5 \nL 69.163125 139.460536 \nL 88.693125 137.983446 \nL 108.223125 114.045575 \nL 127.753125 111.249252 \nL 147.283125 107.996273 \nL 166.813125 107.57908 \nL 186.343125 105.369083 \nL 205.873125 104.55161 \n\" clip-path=\"url(#pe4ea3a3b6d)\" style=\"fill: none; stroke-dasharray: 9.6,2.4,1.5,2.4; stroke-dashoffset: 0; stroke: #2ca02c; stroke-width: 1.5\"/>\n   </g>\n   <g id=\"line2d_125\">\n    <path d=\"M 34.954394 13.5 \nL 44.698573 13.561853 \nL 54.442752 13.580191 \nL 64.186931 13.730173 \nL 73.93111 13.867069 \nL 83.675289 14.466879 \nL 93.419468 19.887293 \nL 103.163647 50.575874 \nL 112.907826 73.679626 \nL 122.652006 82.548029 \nL 132.396185 88.056756 \nL 142.140364 90.958221 \nL 151.884543 93.461889 \nL 161.628722 95.783382 \nL 171.372901 96.79257 \nL 181.11708 98.167311 \nL 190.861259 99.41873 \nL 200.605438 100.861616 \nL 210.349618 102.912873 \nL 220.093797 102.904057 \n\" clip-path=\"url(#pe4ea3a3b6d)\" style=\"fill: none; stroke: #1f77b4; stroke-width: 1.5; stroke-linecap: square\"/>\n   </g>\n   <g id=\"line2d_126\">\n    <path d=\"M 49.633125 13.50162 \nL 69.163125 13.716906 \nL 88.693125 15.348794 \nL 108.223125 67.157033 \nL 127.753125 85.468726 \nL 147.283125 92.287091 \nL 166.813125 95.675006 \nL 186.343125 98.489508 \nL 205.873125 100.98417 \nL 225.403125 103.278029 \n\" clip-path=\"url(#pe4ea3a3b6d)\" style=\"fill: none; stroke-dasharray: 5.55,2.4; stroke-dashoffset: 0; stroke: #ff7f0e; stroke-width: 1.5\"/>\n   </g>\n   <g id=\"line2d_127\">\n    <path d=\"M 49.633125 139.5 \nL 69.163125 139.460536 \nL 88.693125 137.983446 \nL 108.223125 114.045575 \nL 127.753125 111.249252 \nL 147.283125 107.996273 \nL 166.813125 107.57908 \nL 186.343125 105.369083 \nL 205.873125 104.55161 \nL 225.403125 103.75105 \n\" clip-path=\"url(#pe4ea3a3b6d)\" style=\"fill: none; stroke-dasharray: 9.6,2.4,1.5,2.4; stroke-dashoffset: 0; stroke: #2ca02c; stroke-width: 1.5\"/>\n   </g>\n   <g id=\"patch_3\">\n    <path d=\"M 30.103125 145.8 \nL 30.103125 7.2 \n\" style=\"fill: none; stroke: #000000; stroke-width: 0.8; stroke-linejoin: miter; stroke-linecap: square\"/>\n   </g>\n   <g id=\"patch_4\">\n    <path d=\"M 225.403125 145.8 \nL 225.403125 7.2 \n\" style=\"fill: none; stroke: #000000; stroke-width: 0.8; stroke-linejoin: miter; stroke-linecap: square\"/>\n   </g>\n   <g id=\"patch_5\">\n    <path d=\"M 30.103125 145.8 \nL 225.403125 145.8 \n\" style=\"fill: none; stroke: #000000; stroke-width: 0.8; stroke-linejoin: miter; stroke-linecap: square\"/>\n   </g>\n   <g id=\"patch_6\">\n    <path d=\"M 30.103125 7.2 \nL 225.403125 7.2 \n\" style=\"fill: none; stroke: #000000; stroke-width: 0.8; stroke-linejoin: miter; stroke-linecap: square\"/>\n   </g>\n   <g id=\"legend_1\">\n    <g id=\"patch_7\">\n     <path d=\"M 138.8125 60.06875 \nL 218.403125 60.06875 \nQ 220.403125 60.06875 220.403125 58.06875 \nL 220.403125 14.2 \nQ 220.403125 12.2 218.403125 12.2 \nL 138.8125 12.2 \nQ 136.8125 12.2 136.8125 14.2 \nL 136.8125 58.06875 \nQ 136.8125 60.06875 138.8125 60.06875 \nz\n\" style=\"fill: #ffffff; opacity: 0.8; stroke: #cccccc; stroke-linejoin: miter\"/>\n    </g>\n    <g id=\"line2d_128\">\n     <path d=\"M 140.8125 20.298438 \nL 150.8125 20.298438 \nL 160.8125 20.298438 \n\" style=\"fill: none; stroke: #1f77b4; stroke-width: 1.5; stroke-linecap: square\"/>\n    </g>\n    <g id=\"text_13\">\n     <!-- train_loss -->\n     <g transform=\"translate(168.8125 23.798438) scale(0.1 -0.1)\">\n      <defs>\n       <path id=\"DejaVuSans-74\" d=\"M 1172 4494 \nL 1172 3500 \nL 2356 3500 \nL 2356 3053 \nL 1172 3053 \nL 1172 1153 \nQ 1172 725 1289 603 \nQ 1406 481 1766 481 \nL 2356 481 \nL 2356 0 \nL 1766 0 \nQ 1100 0 847 248 \nQ 594 497 594 1153 \nL 594 3053 \nL 172 3053 \nL 172 3500 \nL 594 3500 \nL 594 4494 \nL 1172 4494 \nz\n\" transform=\"scale(0.015625)\"/>\n       <path id=\"DejaVuSans-72\" d=\"M 2631 2963 \nQ 2534 3019 2420 3045 \nQ 2306 3072 2169 3072 \nQ 1681 3072 1420 2755 \nQ 1159 2438 1159 1844 \nL 1159 0 \nL 581 0 \nL 581 3500 \nL 1159 3500 \nL 1159 2956 \nQ 1341 3275 1631 3429 \nQ 1922 3584 2338 3584 \nQ 2397 3584 2469 3576 \nQ 2541 3569 2628 3553 \nL 2631 2963 \nz\n\" transform=\"scale(0.015625)\"/>\n       <path id=\"DejaVuSans-61\" d=\"M 2194 1759 \nQ 1497 1759 1228 1600 \nQ 959 1441 959 1056 \nQ 959 750 1161 570 \nQ 1363 391 1709 391 \nQ 2188 391 2477 730 \nQ 2766 1069 2766 1631 \nL 2766 1759 \nL 2194 1759 \nz\nM 3341 1997 \nL 3341 0 \nL 2766 0 \nL 2766 531 \nQ 2569 213 2275 61 \nQ 1981 -91 1556 -91 \nQ 1019 -91 701 211 \nQ 384 513 384 1019 \nQ 384 1609 779 1909 \nQ 1175 2209 1959 2209 \nL 2766 2209 \nL 2766 2266 \nQ 2766 2663 2505 2880 \nQ 2244 3097 1772 3097 \nQ 1472 3097 1187 3025 \nQ 903 2953 641 2809 \nL 641 3341 \nQ 956 3463 1253 3523 \nQ 1550 3584 1831 3584 \nQ 2591 3584 2966 3190 \nQ 3341 2797 3341 1997 \nz\n\" transform=\"scale(0.015625)\"/>\n       <path id=\"DejaVuSans-69\" d=\"M 603 3500 \nL 1178 3500 \nL 1178 0 \nL 603 0 \nL 603 3500 \nz\nM 603 4863 \nL 1178 4863 \nL 1178 4134 \nL 603 4134 \nL 603 4863 \nz\n\" transform=\"scale(0.015625)\"/>\n       <path id=\"DejaVuSans-6e\" d=\"M 3513 2113 \nL 3513 0 \nL 2938 0 \nL 2938 2094 \nQ 2938 2591 2744 2837 \nQ 2550 3084 2163 3084 \nQ 1697 3084 1428 2787 \nQ 1159 2491 1159 1978 \nL 1159 0 \nL 581 0 \nL 581 3500 \nL 1159 3500 \nL 1159 2956 \nQ 1366 3272 1645 3428 \nQ 1925 3584 2291 3584 \nQ 2894 3584 3203 3211 \nQ 3513 2838 3513 2113 \nz\n\" transform=\"scale(0.015625)\"/>\n       <path id=\"DejaVuSans-5f\" d=\"M 3263 -1063 \nL 3263 -1509 \nL -63 -1509 \nL -63 -1063 \nL 3263 -1063 \nz\n\" transform=\"scale(0.015625)\"/>\n       <path id=\"DejaVuSans-6c\" d=\"M 603 4863 \nL 1178 4863 \nL 1178 0 \nL 603 0 \nL 603 4863 \nz\n\" transform=\"scale(0.015625)\"/>\n       <path id=\"DejaVuSans-73\" d=\"M 2834 3397 \nL 2834 2853 \nQ 2591 2978 2328 3040 \nQ 2066 3103 1784 3103 \nQ 1356 3103 1142 2972 \nQ 928 2841 928 2578 \nQ 928 2378 1081 2264 \nQ 1234 2150 1697 2047 \nL 1894 2003 \nQ 2506 1872 2764 1633 \nQ 3022 1394 3022 966 \nQ 3022 478 2636 193 \nQ 2250 -91 1575 -91 \nQ 1294 -91 989 -36 \nQ 684 19 347 128 \nL 347 722 \nQ 666 556 975 473 \nQ 1284 391 1588 391 \nQ 1994 391 2212 530 \nQ 2431 669 2431 922 \nQ 2431 1156 2273 1281 \nQ 2116 1406 1581 1522 \nL 1381 1569 \nQ 847 1681 609 1914 \nQ 372 2147 372 2553 \nQ 372 3047 722 3315 \nQ 1072 3584 1716 3584 \nQ 2034 3584 2315 3537 \nQ 2597 3491 2834 3397 \nz\n\" transform=\"scale(0.015625)\"/>\n      </defs>\n      <use xlink:href=\"#DejaVuSans-74\"/>\n      <use xlink:href=\"#DejaVuSans-72\" x=\"39.208984\"/>\n      <use xlink:href=\"#DejaVuSans-61\" x=\"80.322266\"/>\n      <use xlink:href=\"#DejaVuSans-69\" x=\"141.601562\"/>\n      <use xlink:href=\"#DejaVuSans-6e\" x=\"169.384766\"/>\n      <use xlink:href=\"#DejaVuSans-5f\" x=\"232.763672\"/>\n      <use xlink:href=\"#DejaVuSans-6c\" x=\"282.763672\"/>\n      <use xlink:href=\"#DejaVuSans-6f\" x=\"310.546875\"/>\n      <use xlink:href=\"#DejaVuSans-73\" x=\"371.728516\"/>\n      <use xlink:href=\"#DejaVuSans-73\" x=\"423.828125\"/>\n     </g>\n    </g>\n    <g id=\"line2d_129\">\n     <path d=\"M 140.8125 35.254688 \nL 150.8125 35.254688 \nL 160.8125 35.254688 \n\" style=\"fill: none; stroke-dasharray: 5.55,2.4; stroke-dashoffset: 0; stroke: #ff7f0e; stroke-width: 1.5\"/>\n    </g>\n    <g id=\"text_14\">\n     <!-- val_loss -->\n     <g transform=\"translate(168.8125 38.754688) scale(0.1 -0.1)\">\n      <defs>\n       <path id=\"DejaVuSans-76\" d=\"M 191 3500 \nL 800 3500 \nL 1894 563 \nL 2988 3500 \nL 3597 3500 \nL 2284 0 \nL 1503 0 \nL 191 3500 \nz\n\" transform=\"scale(0.015625)\"/>\n      </defs>\n      <use xlink:href=\"#DejaVuSans-76\"/>\n      <use xlink:href=\"#DejaVuSans-61\" x=\"59.179688\"/>\n      <use xlink:href=\"#DejaVuSans-6c\" x=\"120.458984\"/>\n      <use xlink:href=\"#DejaVuSans-5f\" x=\"148.242188\"/>\n      <use xlink:href=\"#DejaVuSans-6c\" x=\"198.242188\"/>\n      <use xlink:href=\"#DejaVuSans-6f\" x=\"226.025391\"/>\n      <use xlink:href=\"#DejaVuSans-73\" x=\"287.207031\"/>\n      <use xlink:href=\"#DejaVuSans-73\" x=\"339.306641\"/>\n     </g>\n    </g>\n    <g id=\"line2d_130\">\n     <path d=\"M 140.8125 50.210938 \nL 150.8125 50.210938 \nL 160.8125 50.210938 \n\" style=\"fill: none; stroke-dasharray: 9.6,2.4,1.5,2.4; stroke-dashoffset: 0; stroke: #2ca02c; stroke-width: 1.5\"/>\n    </g>\n    <g id=\"text_15\">\n     <!-- val_acc -->\n     <g transform=\"translate(168.8125 53.710938) scale(0.1 -0.1)\">\n      <use xlink:href=\"#DejaVuSans-76\"/>\n      <use xlink:href=\"#DejaVuSans-61\" x=\"59.179688\"/>\n      <use xlink:href=\"#DejaVuSans-6c\" x=\"120.458984\"/>\n      <use xlink:href=\"#DejaVuSans-5f\" x=\"148.242188\"/>\n      <use xlink:href=\"#DejaVuSans-61\" x=\"198.242188\"/>\n      <use xlink:href=\"#DejaVuSans-63\" x=\"259.521484\"/>\n      <use xlink:href=\"#DejaVuSans-63\" x=\"314.501953\"/>\n     </g>\n    </g>\n   </g>\n  </g>\n </g>\n <defs>\n  <clipPath id=\"pe4ea3a3b6d\">\n   <rect x=\"30.103125\" y=\"7.2\" width=\"195.3\" height=\"138.6\"/>\n  </clipPath>\n </defs>\n</svg>\n"
          },
          "metadata": {}
        }
      ]
    },
    {
      "cell_type": "markdown",
      "source": [
        "**8.2. Networks Using Blocks (VGG)**"
      ],
      "metadata": {
        "id": "AZ0I8WqipbTd"
      }
    },
    {
      "cell_type": "code",
      "source": [
        "def vgg_block(num_convs, out_channels):\n",
        "    layers = []\n",
        "    for _ in range(num_convs):\n",
        "        layers.append(nn.LazyConv2d(out_channels, kernel_size=3, padding=1))\n",
        "        layers.append(nn.ReLU())\n",
        "    layers.append(nn.MaxPool2d(kernel_size=2,stride=2))\n",
        "    return nn.Sequential(*layers)"
      ],
      "metadata": {
        "id": "kBSKY31DpdPa"
      },
      "execution_count": 35,
      "outputs": []
    },
    {
      "cell_type": "code",
      "source": [
        "class VGG(d2l.Classifier):\n",
        "    def __init__(self, arch, lr=0.1, num_classes=10):\n",
        "        super().__init__()\n",
        "        self.save_hyperparameters()\n",
        "        conv_blks = []\n",
        "        for (num_convs, out_channels) in arch:\n",
        "            conv_blks.append(vgg_block(num_convs, out_channels))\n",
        "        self.net = nn.Sequential(\n",
        "            *conv_blks, nn.Flatten(),\n",
        "            nn.LazyLinear(4096), nn.ReLU(), nn.Dropout(0.5),\n",
        "            nn.LazyLinear(4096), nn.ReLU(), nn.Dropout(0.5),\n",
        "            nn.LazyLinear(num_classes))\n",
        "        self.net.apply(d2l.init_cnn)"
      ],
      "metadata": {
        "id": "9Qd67ozSsDrc"
      },
      "execution_count": 36,
      "outputs": []
    },
    {
      "cell_type": "code",
      "source": [
        "VGG(arch=((1, 64), (1, 128), (2, 256), (2, 512), (2, 512))).layer_summary(\n",
        "    (1, 1, 224, 224))"
      ],
      "metadata": {
        "colab": {
          "base_uri": "https://localhost:8080/"
        },
        "id": "CBtiwPbPsRkn",
        "outputId": "c30ccc7f-a422-4898-cf10-382168b88a33"
      },
      "execution_count": 37,
      "outputs": [
        {
          "output_type": "stream",
          "name": "stdout",
          "text": [
            "Sequential output shape:\t torch.Size([1, 64, 112, 112])\n",
            "Sequential output shape:\t torch.Size([1, 128, 56, 56])\n",
            "Sequential output shape:\t torch.Size([1, 256, 28, 28])\n",
            "Sequential output shape:\t torch.Size([1, 512, 14, 14])\n",
            "Sequential output shape:\t torch.Size([1, 512, 7, 7])\n",
            "Flatten output shape:\t torch.Size([1, 25088])\n",
            "Linear output shape:\t torch.Size([1, 4096])\n",
            "ReLU output shape:\t torch.Size([1, 4096])\n",
            "Dropout output shape:\t torch.Size([1, 4096])\n",
            "Linear output shape:\t torch.Size([1, 4096])\n",
            "ReLU output shape:\t torch.Size([1, 4096])\n",
            "Dropout output shape:\t torch.Size([1, 4096])\n",
            "Linear output shape:\t torch.Size([1, 10])\n"
          ]
        }
      ]
    },
    {
      "cell_type": "code",
      "source": [
        "model = VGG(arch=((1, 16), (1, 32), (2, 64), (2, 128), (2, 128)), lr=0.01)\n",
        "trainer = d2l.Trainer(max_epochs=10, num_gpus=1)\n",
        "data = d2l.FashionMNIST(batch_size=128, resize=(224, 224))\n",
        "model.apply_init([next(iter(data.get_dataloader(True)))[0]], d2l.init_cnn)\n",
        "trainer.fit(model, data)"
      ],
      "metadata": {
        "colab": {
          "base_uri": "https://localhost:8080/",
          "height": 265
        },
        "id": "oCSyUDiPsoLl",
        "outputId": "f2398a56-2083-488e-f6e1-c8ed7043c092"
      },
      "execution_count": 38,
      "outputs": [
        {
          "output_type": "display_data",
          "data": {
            "text/plain": [
              "<Figure size 350x250 with 1 Axes>"
            ],
            "image/svg+xml": "<?xml version=\"1.0\" encoding=\"utf-8\" standalone=\"no\"?>\n<!DOCTYPE svg PUBLIC \"-//W3C//DTD SVG 1.1//EN\"\n  \"http://www.w3.org/Graphics/SVG/1.1/DTD/svg11.dtd\">\n<svg xmlns:xlink=\"http://www.w3.org/1999/xlink\" width=\"238.965625pt\" height=\"183.35625pt\" viewBox=\"0 0 238.965625 183.35625\" xmlns=\"http://www.w3.org/2000/svg\" version=\"1.1\">\n <metadata>\n  <rdf:RDF xmlns:dc=\"http://purl.org/dc/elements/1.1/\" xmlns:cc=\"http://creativecommons.org/ns#\" xmlns:rdf=\"http://www.w3.org/1999/02/22-rdf-syntax-ns#\">\n   <cc:Work>\n    <dc:type rdf:resource=\"http://purl.org/dc/dcmitype/StillImage\"/>\n    <dc:date>2024-10-10T15:26:40.463966</dc:date>\n    <dc:format>image/svg+xml</dc:format>\n    <dc:creator>\n     <cc:Agent>\n      <dc:title>Matplotlib v3.7.2, https://matplotlib.org/</dc:title>\n     </cc:Agent>\n    </dc:creator>\n   </cc:Work>\n  </rdf:RDF>\n </metadata>\n <defs>\n  <style type=\"text/css\">*{stroke-linejoin: round; stroke-linecap: butt}</style>\n </defs>\n <g id=\"figure_1\">\n  <g id=\"patch_1\">\n   <path d=\"M 0 183.35625 \nL 238.965625 183.35625 \nL 238.965625 0 \nL 0 0 \nz\n\" style=\"fill: #ffffff\"/>\n  </g>\n  <g id=\"axes_1\">\n   <g id=\"patch_2\">\n    <path d=\"M 30.103125 145.8 \nL 225.403125 145.8 \nL 225.403125 7.2 \nL 30.103125 7.2 \nz\n\" style=\"fill: #ffffff\"/>\n   </g>\n   <g id=\"matplotlib.axis_1\">\n    <g id=\"xtick_1\">\n     <g id=\"line2d_1\">\n      <defs>\n       <path id=\"m0e71cc388e\" d=\"M 0 0 \nL 0 3.5 \n\" style=\"stroke: #000000; stroke-width: 0.8\"/>\n      </defs>\n      <g>\n       <use xlink:href=\"#m0e71cc388e\" x=\"30.103125\" y=\"145.8\" style=\"stroke: #000000; stroke-width: 0.8\"/>\n      </g>\n     </g>\n     <g id=\"text_1\">\n      <!-- 0 -->\n      <g transform=\"translate(26.921875 160.398438) scale(0.1 -0.1)\">\n       <defs>\n        <path id=\"DejaVuSans-30\" d=\"M 2034 4250 \nQ 1547 4250 1301 3770 \nQ 1056 3291 1056 2328 \nQ 1056 1369 1301 889 \nQ 1547 409 2034 409 \nQ 2525 409 2770 889 \nQ 3016 1369 3016 2328 \nQ 3016 3291 2770 3770 \nQ 2525 4250 2034 4250 \nz\nM 2034 4750 \nQ 2819 4750 3233 4129 \nQ 3647 3509 3647 2328 \nQ 3647 1150 3233 529 \nQ 2819 -91 2034 -91 \nQ 1250 -91 836 529 \nQ 422 1150 422 2328 \nQ 422 3509 836 4129 \nQ 1250 4750 2034 4750 \nz\n\" transform=\"scale(0.015625)\"/>\n       </defs>\n       <use xlink:href=\"#DejaVuSans-30\"/>\n      </g>\n     </g>\n    </g>\n    <g id=\"xtick_2\">\n     <g id=\"line2d_2\">\n      <g>\n       <use xlink:href=\"#m0e71cc388e\" x=\"69.163125\" y=\"145.8\" style=\"stroke: #000000; stroke-width: 0.8\"/>\n      </g>\n     </g>\n     <g id=\"text_2\">\n      <!-- 2 -->\n      <g transform=\"translate(65.981875 160.398438) scale(0.1 -0.1)\">\n       <defs>\n        <path id=\"DejaVuSans-32\" d=\"M 1228 531 \nL 3431 531 \nL 3431 0 \nL 469 0 \nL 469 531 \nQ 828 903 1448 1529 \nQ 2069 2156 2228 2338 \nQ 2531 2678 2651 2914 \nQ 2772 3150 2772 3378 \nQ 2772 3750 2511 3984 \nQ 2250 4219 1831 4219 \nQ 1534 4219 1204 4116 \nQ 875 4013 500 3803 \nL 500 4441 \nQ 881 4594 1212 4672 \nQ 1544 4750 1819 4750 \nQ 2544 4750 2975 4387 \nQ 3406 4025 3406 3419 \nQ 3406 3131 3298 2873 \nQ 3191 2616 2906 2266 \nQ 2828 2175 2409 1742 \nQ 1991 1309 1228 531 \nz\n\" transform=\"scale(0.015625)\"/>\n       </defs>\n       <use xlink:href=\"#DejaVuSans-32\"/>\n      </g>\n     </g>\n    </g>\n    <g id=\"xtick_3\">\n     <g id=\"line2d_3\">\n      <g>\n       <use xlink:href=\"#m0e71cc388e\" x=\"108.223125\" y=\"145.8\" style=\"stroke: #000000; stroke-width: 0.8\"/>\n      </g>\n     </g>\n     <g id=\"text_3\">\n      <!-- 4 -->\n      <g transform=\"translate(105.041875 160.398438) scale(0.1 -0.1)\">\n       <defs>\n        <path id=\"DejaVuSans-34\" d=\"M 2419 4116 \nL 825 1625 \nL 2419 1625 \nL 2419 4116 \nz\nM 2253 4666 \nL 3047 4666 \nL 3047 1625 \nL 3713 1625 \nL 3713 1100 \nL 3047 1100 \nL 3047 0 \nL 2419 0 \nL 2419 1100 \nL 313 1100 \nL 313 1709 \nL 2253 4666 \nz\n\" transform=\"scale(0.015625)\"/>\n       </defs>\n       <use xlink:href=\"#DejaVuSans-34\"/>\n      </g>\n     </g>\n    </g>\n    <g id=\"xtick_4\">\n     <g id=\"line2d_4\">\n      <g>\n       <use xlink:href=\"#m0e71cc388e\" x=\"147.283125\" y=\"145.8\" style=\"stroke: #000000; stroke-width: 0.8\"/>\n      </g>\n     </g>\n     <g id=\"text_4\">\n      <!-- 6 -->\n      <g transform=\"translate(144.101875 160.398438) scale(0.1 -0.1)\">\n       <defs>\n        <path id=\"DejaVuSans-36\" d=\"M 2113 2584 \nQ 1688 2584 1439 2293 \nQ 1191 2003 1191 1497 \nQ 1191 994 1439 701 \nQ 1688 409 2113 409 \nQ 2538 409 2786 701 \nQ 3034 994 3034 1497 \nQ 3034 2003 2786 2293 \nQ 2538 2584 2113 2584 \nz\nM 3366 4563 \nL 3366 3988 \nQ 3128 4100 2886 4159 \nQ 2644 4219 2406 4219 \nQ 1781 4219 1451 3797 \nQ 1122 3375 1075 2522 \nQ 1259 2794 1537 2939 \nQ 1816 3084 2150 3084 \nQ 2853 3084 3261 2657 \nQ 3669 2231 3669 1497 \nQ 3669 778 3244 343 \nQ 2819 -91 2113 -91 \nQ 1303 -91 875 529 \nQ 447 1150 447 2328 \nQ 447 3434 972 4092 \nQ 1497 4750 2381 4750 \nQ 2619 4750 2861 4703 \nQ 3103 4656 3366 4563 \nz\n\" transform=\"scale(0.015625)\"/>\n       </defs>\n       <use xlink:href=\"#DejaVuSans-36\"/>\n      </g>\n     </g>\n    </g>\n    <g id=\"xtick_5\">\n     <g id=\"line2d_5\">\n      <g>\n       <use xlink:href=\"#m0e71cc388e\" x=\"186.343125\" y=\"145.8\" style=\"stroke: #000000; stroke-width: 0.8\"/>\n      </g>\n     </g>\n     <g id=\"text_5\">\n      <!-- 8 -->\n      <g transform=\"translate(183.161875 160.398438) scale(0.1 -0.1)\">\n       <defs>\n        <path id=\"DejaVuSans-38\" d=\"M 2034 2216 \nQ 1584 2216 1326 1975 \nQ 1069 1734 1069 1313 \nQ 1069 891 1326 650 \nQ 1584 409 2034 409 \nQ 2484 409 2743 651 \nQ 3003 894 3003 1313 \nQ 3003 1734 2745 1975 \nQ 2488 2216 2034 2216 \nz\nM 1403 2484 \nQ 997 2584 770 2862 \nQ 544 3141 544 3541 \nQ 544 4100 942 4425 \nQ 1341 4750 2034 4750 \nQ 2731 4750 3128 4425 \nQ 3525 4100 3525 3541 \nQ 3525 3141 3298 2862 \nQ 3072 2584 2669 2484 \nQ 3125 2378 3379 2068 \nQ 3634 1759 3634 1313 \nQ 3634 634 3220 271 \nQ 2806 -91 2034 -91 \nQ 1263 -91 848 271 \nQ 434 634 434 1313 \nQ 434 1759 690 2068 \nQ 947 2378 1403 2484 \nz\nM 1172 3481 \nQ 1172 3119 1398 2916 \nQ 1625 2713 2034 2713 \nQ 2441 2713 2670 2916 \nQ 2900 3119 2900 3481 \nQ 2900 3844 2670 4047 \nQ 2441 4250 2034 4250 \nQ 1625 4250 1398 4047 \nQ 1172 3844 1172 3481 \nz\n\" transform=\"scale(0.015625)\"/>\n       </defs>\n       <use xlink:href=\"#DejaVuSans-38\"/>\n      </g>\n     </g>\n    </g>\n    <g id=\"xtick_6\">\n     <g id=\"line2d_6\">\n      <g>\n       <use xlink:href=\"#m0e71cc388e\" x=\"225.403125\" y=\"145.8\" style=\"stroke: #000000; stroke-width: 0.8\"/>\n      </g>\n     </g>\n     <g id=\"text_6\">\n      <!-- 10 -->\n      <g transform=\"translate(219.040625 160.398438) scale(0.1 -0.1)\">\n       <defs>\n        <path id=\"DejaVuSans-31\" d=\"M 794 531 \nL 1825 531 \nL 1825 4091 \nL 703 3866 \nL 703 4441 \nL 1819 4666 \nL 2450 4666 \nL 2450 531 \nL 3481 531 \nL 3481 0 \nL 794 0 \nL 794 531 \nz\n\" transform=\"scale(0.015625)\"/>\n       </defs>\n       <use xlink:href=\"#DejaVuSans-31\"/>\n       <use xlink:href=\"#DejaVuSans-30\" x=\"63.623047\"/>\n      </g>\n     </g>\n    </g>\n    <g id=\"text_7\">\n     <!-- epoch -->\n     <g transform=\"translate(112.525 174.076563) scale(0.1 -0.1)\">\n      <defs>\n       <path id=\"DejaVuSans-65\" d=\"M 3597 1894 \nL 3597 1613 \nL 953 1613 \nQ 991 1019 1311 708 \nQ 1631 397 2203 397 \nQ 2534 397 2845 478 \nQ 3156 559 3463 722 \nL 3463 178 \nQ 3153 47 2828 -22 \nQ 2503 -91 2169 -91 \nQ 1331 -91 842 396 \nQ 353 884 353 1716 \nQ 353 2575 817 3079 \nQ 1281 3584 2069 3584 \nQ 2775 3584 3186 3129 \nQ 3597 2675 3597 1894 \nz\nM 3022 2063 \nQ 3016 2534 2758 2815 \nQ 2500 3097 2075 3097 \nQ 1594 3097 1305 2825 \nQ 1016 2553 972 2059 \nL 3022 2063 \nz\n\" transform=\"scale(0.015625)\"/>\n       <path id=\"DejaVuSans-70\" d=\"M 1159 525 \nL 1159 -1331 \nL 581 -1331 \nL 581 3500 \nL 1159 3500 \nL 1159 2969 \nQ 1341 3281 1617 3432 \nQ 1894 3584 2278 3584 \nQ 2916 3584 3314 3078 \nQ 3713 2572 3713 1747 \nQ 3713 922 3314 415 \nQ 2916 -91 2278 -91 \nQ 1894 -91 1617 61 \nQ 1341 213 1159 525 \nz\nM 3116 1747 \nQ 3116 2381 2855 2742 \nQ 2594 3103 2138 3103 \nQ 1681 3103 1420 2742 \nQ 1159 2381 1159 1747 \nQ 1159 1113 1420 752 \nQ 1681 391 2138 391 \nQ 2594 391 2855 752 \nQ 3116 1113 3116 1747 \nz\n\" transform=\"scale(0.015625)\"/>\n       <path id=\"DejaVuSans-6f\" d=\"M 1959 3097 \nQ 1497 3097 1228 2736 \nQ 959 2375 959 1747 \nQ 959 1119 1226 758 \nQ 1494 397 1959 397 \nQ 2419 397 2687 759 \nQ 2956 1122 2956 1747 \nQ 2956 2369 2687 2733 \nQ 2419 3097 1959 3097 \nz\nM 1959 3584 \nQ 2709 3584 3137 3096 \nQ 3566 2609 3566 1747 \nQ 3566 888 3137 398 \nQ 2709 -91 1959 -91 \nQ 1206 -91 779 398 \nQ 353 888 353 1747 \nQ 353 2609 779 3096 \nQ 1206 3584 1959 3584 \nz\n\" transform=\"scale(0.015625)\"/>\n       <path id=\"DejaVuSans-63\" d=\"M 3122 3366 \nL 3122 2828 \nQ 2878 2963 2633 3030 \nQ 2388 3097 2138 3097 \nQ 1578 3097 1268 2742 \nQ 959 2388 959 1747 \nQ 959 1106 1268 751 \nQ 1578 397 2138 397 \nQ 2388 397 2633 464 \nQ 2878 531 3122 666 \nL 3122 134 \nQ 2881 22 2623 -34 \nQ 2366 -91 2075 -91 \nQ 1284 -91 818 406 \nQ 353 903 353 1747 \nQ 353 2603 823 3093 \nQ 1294 3584 2113 3584 \nQ 2378 3584 2631 3529 \nQ 2884 3475 3122 3366 \nz\n\" transform=\"scale(0.015625)\"/>\n       <path id=\"DejaVuSans-68\" d=\"M 3513 2113 \nL 3513 0 \nL 2938 0 \nL 2938 2094 \nQ 2938 2591 2744 2837 \nQ 2550 3084 2163 3084 \nQ 1697 3084 1428 2787 \nQ 1159 2491 1159 1978 \nL 1159 0 \nL 581 0 \nL 581 4863 \nL 1159 4863 \nL 1159 2956 \nQ 1366 3272 1645 3428 \nQ 1925 3584 2291 3584 \nQ 2894 3584 3203 3211 \nQ 3513 2838 3513 2113 \nz\n\" transform=\"scale(0.015625)\"/>\n      </defs>\n      <use xlink:href=\"#DejaVuSans-65\"/>\n      <use xlink:href=\"#DejaVuSans-70\" x=\"61.523438\"/>\n      <use xlink:href=\"#DejaVuSans-6f\" x=\"125\"/>\n      <use xlink:href=\"#DejaVuSans-63\" x=\"186.181641\"/>\n      <use xlink:href=\"#DejaVuSans-68\" x=\"241.162109\"/>\n     </g>\n    </g>\n   </g>\n   <g id=\"matplotlib.axis_2\">\n    <g id=\"ytick_1\">\n     <g id=\"line2d_7\">\n      <defs>\n       <path id=\"mbef3299654\" d=\"M 0 0 \nL -3.5 0 \n\" style=\"stroke: #000000; stroke-width: 0.8\"/>\n      </defs>\n      <g>\n       <use xlink:href=\"#mbef3299654\" x=\"30.103125\" y=\"126.932513\" style=\"stroke: #000000; stroke-width: 0.8\"/>\n      </g>\n     </g>\n     <g id=\"text_8\">\n      <!-- 0.5 -->\n      <g transform=\"translate(7.2 130.731731) scale(0.1 -0.1)\">\n       <defs>\n        <path id=\"DejaVuSans-2e\" d=\"M 684 794 \nL 1344 794 \nL 1344 0 \nL 684 0 \nL 684 794 \nz\n\" transform=\"scale(0.015625)\"/>\n        <path id=\"DejaVuSans-35\" d=\"M 691 4666 \nL 3169 4666 \nL 3169 4134 \nL 1269 4134 \nL 1269 2991 \nQ 1406 3038 1543 3061 \nQ 1681 3084 1819 3084 \nQ 2600 3084 3056 2656 \nQ 3513 2228 3513 1497 \nQ 3513 744 3044 326 \nQ 2575 -91 1722 -91 \nQ 1428 -91 1123 -41 \nQ 819 9 494 109 \nL 494 744 \nQ 775 591 1075 516 \nQ 1375 441 1709 441 \nQ 2250 441 2565 725 \nQ 2881 1009 2881 1497 \nQ 2881 1984 2565 2268 \nQ 2250 2553 1709 2553 \nQ 1456 2553 1204 2497 \nQ 953 2441 691 2322 \nL 691 4666 \nz\n\" transform=\"scale(0.015625)\"/>\n       </defs>\n       <use xlink:href=\"#DejaVuSans-30\"/>\n       <use xlink:href=\"#DejaVuSans-2e\" x=\"63.623047\"/>\n       <use xlink:href=\"#DejaVuSans-35\" x=\"95.410156\"/>\n      </g>\n     </g>\n    </g>\n    <g id=\"ytick_2\">\n     <g id=\"line2d_8\">\n      <g>\n       <use xlink:href=\"#mbef3299654\" x=\"30.103125\" y=\"95.4589\" style=\"stroke: #000000; stroke-width: 0.8\"/>\n      </g>\n     </g>\n     <g id=\"text_9\">\n      <!-- 1.0 -->\n      <g transform=\"translate(7.2 99.258118) scale(0.1 -0.1)\">\n       <use xlink:href=\"#DejaVuSans-31\"/>\n       <use xlink:href=\"#DejaVuSans-2e\" x=\"63.623047\"/>\n       <use xlink:href=\"#DejaVuSans-30\" x=\"95.410156\"/>\n      </g>\n     </g>\n    </g>\n    <g id=\"ytick_3\">\n     <g id=\"line2d_9\">\n      <g>\n       <use xlink:href=\"#mbef3299654\" x=\"30.103125\" y=\"63.985286\" style=\"stroke: #000000; stroke-width: 0.8\"/>\n      </g>\n     </g>\n     <g id=\"text_10\">\n      <!-- 1.5 -->\n      <g transform=\"translate(7.2 67.784505) scale(0.1 -0.1)\">\n       <use xlink:href=\"#DejaVuSans-31\"/>\n       <use xlink:href=\"#DejaVuSans-2e\" x=\"63.623047\"/>\n       <use xlink:href=\"#DejaVuSans-35\" x=\"95.410156\"/>\n      </g>\n     </g>\n    </g>\n    <g id=\"ytick_4\">\n     <g id=\"line2d_10\">\n      <g>\n       <use xlink:href=\"#mbef3299654\" x=\"30.103125\" y=\"32.511673\" style=\"stroke: #000000; stroke-width: 0.8\"/>\n      </g>\n     </g>\n     <g id=\"text_11\">\n      <!-- 2.0 -->\n      <g transform=\"translate(7.2 36.310892) scale(0.1 -0.1)\">\n       <use xlink:href=\"#DejaVuSans-32\"/>\n       <use xlink:href=\"#DejaVuSans-2e\" x=\"63.623047\"/>\n       <use xlink:href=\"#DejaVuSans-30\" x=\"95.410156\"/>\n      </g>\n     </g>\n    </g>\n   </g>\n   <g id=\"line2d_11\">\n    <path d=\"M 34.954394 13.5 \n\" clip-path=\"url(#pc5753b6161)\" style=\"fill: none; stroke: #1f77b4; stroke-width: 1.5; stroke-linecap: square\"/>\n   </g>\n   <g id=\"line2d_12\">\n    <path d=\"M 34.954394 13.5 \nL 44.698573 14.026006 \n\" clip-path=\"url(#pc5753b6161)\" style=\"fill: none; stroke: #1f77b4; stroke-width: 1.5; stroke-linecap: square\"/>\n   </g>\n   <g id=\"line2d_13\">\n    <path d=\"M 34.954394 13.5 \nL 44.698573 14.026006 \n\" clip-path=\"url(#pc5753b6161)\" style=\"fill: none; stroke: #1f77b4; stroke-width: 1.5; stroke-linecap: square\"/>\n   </g>\n   <g id=\"line2d_14\">\n    <path d=\"M 49.633125 15.594438 \n\" clip-path=\"url(#pc5753b6161)\" style=\"fill: none; stroke-dasharray: 5.55,2.4; stroke-dashoffset: 0; stroke: #ff7f0e; stroke-width: 1.5\"/>\n   </g>\n   <g id=\"line2d_15\"/>\n   <g id=\"line2d_16\">\n    <path d=\"M 34.954394 13.5 \nL 44.698573 14.026006 \n\" clip-path=\"url(#pc5753b6161)\" style=\"fill: none; stroke: #1f77b4; stroke-width: 1.5; stroke-linecap: square\"/>\n   </g>\n   <g id=\"line2d_17\">\n    <path d=\"M 49.633125 15.594438 \n\" clip-path=\"url(#pc5753b6161)\" style=\"fill: none; stroke-dasharray: 5.55,2.4; stroke-dashoffset: 0; stroke: #ff7f0e; stroke-width: 1.5\"/>\n   </g>\n   <g id=\"line2d_18\">\n    <path d=\"M 49.633125 130.200639 \n\" clip-path=\"url(#pc5753b6161)\" style=\"fill: none; stroke-dasharray: 9.6,2.4,1.5,2.4; stroke-dashoffset: 0; stroke: #2ca02c; stroke-width: 1.5\"/>\n   </g>\n   <g id=\"line2d_19\">\n    <path d=\"M 34.954394 13.5 \nL 44.698573 14.026006 \nL 54.442752 57.915493 \n\" clip-path=\"url(#pc5753b6161)\" style=\"fill: none; stroke: #1f77b4; stroke-width: 1.5; stroke-linecap: square\"/>\n   </g>\n   <g id=\"line2d_20\">\n    <path d=\"M 49.633125 15.594438 \n\" clip-path=\"url(#pc5753b6161)\" style=\"fill: none; stroke-dasharray: 5.55,2.4; stroke-dashoffset: 0; stroke: #ff7f0e; stroke-width: 1.5\"/>\n   </g>\n   <g id=\"line2d_21\">\n    <path d=\"M 49.633125 130.200639 \n\" clip-path=\"url(#pc5753b6161)\" style=\"fill: none; stroke-dasharray: 9.6,2.4,1.5,2.4; stroke-dashoffset: 0; stroke: #2ca02c; stroke-width: 1.5\"/>\n   </g>\n   <g id=\"line2d_22\">\n    <path d=\"M 34.954394 13.5 \nL 44.698573 14.026006 \nL 54.442752 57.915493 \nL 64.186931 111.306264 \n\" clip-path=\"url(#pc5753b6161)\" style=\"fill: none; stroke: #1f77b4; stroke-width: 1.5; stroke-linecap: square\"/>\n   </g>\n   <g id=\"line2d_23\">\n    <path d=\"M 49.633125 15.594438 \n\" clip-path=\"url(#pc5753b6161)\" style=\"fill: none; stroke-dasharray: 5.55,2.4; stroke-dashoffset: 0; stroke: #ff7f0e; stroke-width: 1.5\"/>\n   </g>\n   <g id=\"line2d_24\">\n    <path d=\"M 49.633125 130.200639 \n\" clip-path=\"url(#pc5753b6161)\" style=\"fill: none; stroke-dasharray: 9.6,2.4,1.5,2.4; stroke-dashoffset: 0; stroke: #2ca02c; stroke-width: 1.5\"/>\n   </g>\n   <g id=\"line2d_25\">\n    <path d=\"M 34.954394 13.5 \nL 44.698573 14.026006 \nL 54.442752 57.915493 \nL 64.186931 111.306264 \n\" clip-path=\"url(#pc5753b6161)\" style=\"fill: none; stroke: #1f77b4; stroke-width: 1.5; stroke-linecap: square\"/>\n   </g>\n   <g id=\"line2d_26\">\n    <path d=\"M 49.633125 15.594438 \nL 69.163125 119.860338 \n\" clip-path=\"url(#pc5753b6161)\" style=\"fill: none; stroke-dasharray: 5.55,2.4; stroke-dashoffset: 0; stroke: #ff7f0e; stroke-width: 1.5\"/>\n   </g>\n   <g id=\"line2d_27\">\n    <path d=\"M 49.633125 130.200639 \n\" clip-path=\"url(#pc5753b6161)\" style=\"fill: none; stroke-dasharray: 9.6,2.4,1.5,2.4; stroke-dashoffset: 0; stroke: #2ca02c; stroke-width: 1.5\"/>\n   </g>\n   <g id=\"line2d_28\">\n    <path d=\"M 34.954394 13.5 \nL 44.698573 14.026006 \nL 54.442752 57.915493 \nL 64.186931 111.306264 \n\" clip-path=\"url(#pc5753b6161)\" style=\"fill: none; stroke: #1f77b4; stroke-width: 1.5; stroke-linecap: square\"/>\n   </g>\n   <g id=\"line2d_29\">\n    <path d=\"M 49.633125 15.594438 \nL 69.163125 119.860338 \n\" clip-path=\"url(#pc5753b6161)\" style=\"fill: none; stroke-dasharray: 5.55,2.4; stroke-dashoffset: 0; stroke: #ff7f0e; stroke-width: 1.5\"/>\n   </g>\n   <g id=\"line2d_30\">\n    <path d=\"M 49.633125 130.200639 \nL 69.163125 109.882231 \n\" clip-path=\"url(#pc5753b6161)\" style=\"fill: none; stroke-dasharray: 9.6,2.4,1.5,2.4; stroke-dashoffset: 0; stroke: #2ca02c; stroke-width: 1.5\"/>\n   </g>\n   <g id=\"line2d_31\">\n    <path d=\"M 34.954394 13.5 \nL 44.698573 14.026006 \nL 54.442752 57.915493 \nL 64.186931 111.306264 \nL 73.93111 119.814111 \n\" clip-path=\"url(#pc5753b6161)\" style=\"fill: none; stroke: #1f77b4; stroke-width: 1.5; stroke-linecap: square\"/>\n   </g>\n   <g id=\"line2d_32\">\n    <path d=\"M 49.633125 15.594438 \nL 69.163125 119.860338 \n\" clip-path=\"url(#pc5753b6161)\" style=\"fill: none; stroke-dasharray: 5.55,2.4; stroke-dashoffset: 0; stroke: #ff7f0e; stroke-width: 1.5\"/>\n   </g>\n   <g id=\"line2d_33\">\n    <path d=\"M 49.633125 130.200639 \nL 69.163125 109.882231 \n\" clip-path=\"url(#pc5753b6161)\" style=\"fill: none; stroke-dasharray: 9.6,2.4,1.5,2.4; stroke-dashoffset: 0; stroke: #2ca02c; stroke-width: 1.5\"/>\n   </g>\n   <g id=\"line2d_34\">\n    <path d=\"M 34.954394 13.5 \nL 44.698573 14.026006 \nL 54.442752 57.915493 \nL 64.186931 111.306264 \nL 73.93111 119.814111 \nL 83.675289 124.454462 \n\" clip-path=\"url(#pc5753b6161)\" style=\"fill: none; stroke: #1f77b4; stroke-width: 1.5; stroke-linecap: square\"/>\n   </g>\n   <g id=\"line2d_35\">\n    <path d=\"M 49.633125 15.594438 \nL 69.163125 119.860338 \n\" clip-path=\"url(#pc5753b6161)\" style=\"fill: none; stroke-dasharray: 5.55,2.4; stroke-dashoffset: 0; stroke: #ff7f0e; stroke-width: 1.5\"/>\n   </g>\n   <g id=\"line2d_36\">\n    <path d=\"M 49.633125 130.200639 \nL 69.163125 109.882231 \n\" clip-path=\"url(#pc5753b6161)\" style=\"fill: none; stroke-dasharray: 9.6,2.4,1.5,2.4; stroke-dashoffset: 0; stroke: #2ca02c; stroke-width: 1.5\"/>\n   </g>\n   <g id=\"line2d_37\">\n    <path d=\"M 34.954394 13.5 \nL 44.698573 14.026006 \nL 54.442752 57.915493 \nL 64.186931 111.306264 \nL 73.93111 119.814111 \nL 83.675289 124.454462 \n\" clip-path=\"url(#pc5753b6161)\" style=\"fill: none; stroke: #1f77b4; stroke-width: 1.5; stroke-linecap: square\"/>\n   </g>\n   <g id=\"line2d_38\">\n    <path d=\"M 49.633125 15.594438 \nL 69.163125 119.860338 \nL 88.693125 128.764865 \n\" clip-path=\"url(#pc5753b6161)\" style=\"fill: none; stroke-dasharray: 5.55,2.4; stroke-dashoffset: 0; stroke: #ff7f0e; stroke-width: 1.5\"/>\n   </g>\n   <g id=\"line2d_39\">\n    <path d=\"M 49.633125 130.200639 \nL 69.163125 109.882231 \n\" clip-path=\"url(#pc5753b6161)\" style=\"fill: none; stroke-dasharray: 9.6,2.4,1.5,2.4; stroke-dashoffset: 0; stroke: #2ca02c; stroke-width: 1.5\"/>\n   </g>\n   <g id=\"line2d_40\">\n    <path d=\"M 34.954394 13.5 \nL 44.698573 14.026006 \nL 54.442752 57.915493 \nL 64.186931 111.306264 \nL 73.93111 119.814111 \nL 83.675289 124.454462 \n\" clip-path=\"url(#pc5753b6161)\" style=\"fill: none; stroke: #1f77b4; stroke-width: 1.5; stroke-linecap: square\"/>\n   </g>\n   <g id=\"line2d_41\">\n    <path d=\"M 49.633125 15.594438 \nL 69.163125 119.860338 \nL 88.693125 128.764865 \n\" clip-path=\"url(#pc5753b6161)\" style=\"fill: none; stroke-dasharray: 5.55,2.4; stroke-dashoffset: 0; stroke: #ff7f0e; stroke-width: 1.5\"/>\n   </g>\n   <g id=\"line2d_42\">\n    <path d=\"M 49.633125 130.200639 \nL 69.163125 109.882231 \nL 88.693125 106.520729 \n\" clip-path=\"url(#pc5753b6161)\" style=\"fill: none; stroke-dasharray: 9.6,2.4,1.5,2.4; stroke-dashoffset: 0; stroke: #2ca02c; stroke-width: 1.5\"/>\n   </g>\n   <g id=\"line2d_43\">\n    <path d=\"M 34.954394 13.5 \nL 44.698573 14.026006 \nL 54.442752 57.915493 \nL 64.186931 111.306264 \nL 73.93111 119.814111 \nL 83.675289 124.454462 \nL 93.419468 127.467464 \n\" clip-path=\"url(#pc5753b6161)\" style=\"fill: none; stroke: #1f77b4; stroke-width: 1.5; stroke-linecap: square\"/>\n   </g>\n   <g id=\"line2d_44\">\n    <path d=\"M 49.633125 15.594438 \nL 69.163125 119.860338 \nL 88.693125 128.764865 \n\" clip-path=\"url(#pc5753b6161)\" style=\"fill: none; stroke-dasharray: 5.55,2.4; stroke-dashoffset: 0; stroke: #ff7f0e; stroke-width: 1.5\"/>\n   </g>\n   <g id=\"line2d_45\">\n    <path d=\"M 49.633125 130.200639 \nL 69.163125 109.882231 \nL 88.693125 106.520729 \n\" clip-path=\"url(#pc5753b6161)\" style=\"fill: none; stroke-dasharray: 9.6,2.4,1.5,2.4; stroke-dashoffset: 0; stroke: #2ca02c; stroke-width: 1.5\"/>\n   </g>\n   <g id=\"line2d_46\">\n    <path d=\"M 34.954394 13.5 \nL 44.698573 14.026006 \nL 54.442752 57.915493 \nL 64.186931 111.306264 \nL 73.93111 119.814111 \nL 83.675289 124.454462 \nL 93.419468 127.467464 \nL 103.163647 130.136009 \n\" clip-path=\"url(#pc5753b6161)\" style=\"fill: none; stroke: #1f77b4; stroke-width: 1.5; stroke-linecap: square\"/>\n   </g>\n   <g id=\"line2d_47\">\n    <path d=\"M 49.633125 15.594438 \nL 69.163125 119.860338 \nL 88.693125 128.764865 \n\" clip-path=\"url(#pc5753b6161)\" style=\"fill: none; stroke-dasharray: 5.55,2.4; stroke-dashoffset: 0; stroke: #ff7f0e; stroke-width: 1.5\"/>\n   </g>\n   <g id=\"line2d_48\">\n    <path d=\"M 49.633125 130.200639 \nL 69.163125 109.882231 \nL 88.693125 106.520729 \n\" clip-path=\"url(#pc5753b6161)\" style=\"fill: none; stroke-dasharray: 9.6,2.4,1.5,2.4; stroke-dashoffset: 0; stroke: #2ca02c; stroke-width: 1.5\"/>\n   </g>\n   <g id=\"line2d_49\">\n    <path d=\"M 34.954394 13.5 \nL 44.698573 14.026006 \nL 54.442752 57.915493 \nL 64.186931 111.306264 \nL 73.93111 119.814111 \nL 83.675289 124.454462 \nL 93.419468 127.467464 \nL 103.163647 130.136009 \n\" clip-path=\"url(#pc5753b6161)\" style=\"fill: none; stroke: #1f77b4; stroke-width: 1.5; stroke-linecap: square\"/>\n   </g>\n   <g id=\"line2d_50\">\n    <path d=\"M 49.633125 15.594438 \nL 69.163125 119.860338 \nL 88.693125 128.764865 \nL 108.223125 132.300349 \n\" clip-path=\"url(#pc5753b6161)\" style=\"fill: none; stroke-dasharray: 5.55,2.4; stroke-dashoffset: 0; stroke: #ff7f0e; stroke-width: 1.5\"/>\n   </g>\n   <g id=\"line2d_51\">\n    <path d=\"M 49.633125 130.200639 \nL 69.163125 109.882231 \nL 88.693125 106.520729 \n\" clip-path=\"url(#pc5753b6161)\" style=\"fill: none; stroke-dasharray: 9.6,2.4,1.5,2.4; stroke-dashoffset: 0; stroke: #2ca02c; stroke-width: 1.5\"/>\n   </g>\n   <g id=\"line2d_52\">\n    <path d=\"M 34.954394 13.5 \nL 44.698573 14.026006 \nL 54.442752 57.915493 \nL 64.186931 111.306264 \nL 73.93111 119.814111 \nL 83.675289 124.454462 \nL 93.419468 127.467464 \nL 103.163647 130.136009 \n\" clip-path=\"url(#pc5753b6161)\" style=\"fill: none; stroke: #1f77b4; stroke-width: 1.5; stroke-linecap: square\"/>\n   </g>\n   <g id=\"line2d_53\">\n    <path d=\"M 49.633125 15.594438 \nL 69.163125 119.860338 \nL 88.693125 128.764865 \nL 108.223125 132.300349 \n\" clip-path=\"url(#pc5753b6161)\" style=\"fill: none; stroke-dasharray: 5.55,2.4; stroke-dashoffset: 0; stroke: #ff7f0e; stroke-width: 1.5\"/>\n   </g>\n   <g id=\"line2d_54\">\n    <path d=\"M 49.633125 130.200639 \nL 69.163125 109.882231 \nL 88.693125 106.520729 \nL 108.223125 104.939579 \n\" clip-path=\"url(#pc5753b6161)\" style=\"fill: none; stroke-dasharray: 9.6,2.4,1.5,2.4; stroke-dashoffset: 0; stroke: #2ca02c; stroke-width: 1.5\"/>\n   </g>\n   <g id=\"line2d_55\">\n    <path d=\"M 34.954394 13.5 \nL 44.698573 14.026006 \nL 54.442752 57.915493 \nL 64.186931 111.306264 \nL 73.93111 119.814111 \nL 83.675289 124.454462 \nL 93.419468 127.467464 \nL 103.163647 130.136009 \nL 112.907826 131.730073 \n\" clip-path=\"url(#pc5753b6161)\" style=\"fill: none; stroke: #1f77b4; stroke-width: 1.5; stroke-linecap: square\"/>\n   </g>\n   <g id=\"line2d_56\">\n    <path d=\"M 49.633125 15.594438 \nL 69.163125 119.860338 \nL 88.693125 128.764865 \nL 108.223125 132.300349 \n\" clip-path=\"url(#pc5753b6161)\" style=\"fill: none; stroke-dasharray: 5.55,2.4; stroke-dashoffset: 0; stroke: #ff7f0e; stroke-width: 1.5\"/>\n   </g>\n   <g id=\"line2d_57\">\n    <path d=\"M 49.633125 130.200639 \nL 69.163125 109.882231 \nL 88.693125 106.520729 \nL 108.223125 104.939579 \n\" clip-path=\"url(#pc5753b6161)\" style=\"fill: none; stroke-dasharray: 9.6,2.4,1.5,2.4; stroke-dashoffset: 0; stroke: #2ca02c; stroke-width: 1.5\"/>\n   </g>\n   <g id=\"line2d_58\">\n    <path d=\"M 34.954394 13.5 \nL 44.698573 14.026006 \nL 54.442752 57.915493 \nL 64.186931 111.306264 \nL 73.93111 119.814111 \nL 83.675289 124.454462 \nL 93.419468 127.467464 \nL 103.163647 130.136009 \nL 112.907826 131.730073 \nL 122.652006 133.036036 \n\" clip-path=\"url(#pc5753b6161)\" style=\"fill: none; stroke: #1f77b4; stroke-width: 1.5; stroke-linecap: square\"/>\n   </g>\n   <g id=\"line2d_59\">\n    <path d=\"M 49.633125 15.594438 \nL 69.163125 119.860338 \nL 88.693125 128.764865 \nL 108.223125 132.300349 \n\" clip-path=\"url(#pc5753b6161)\" style=\"fill: none; stroke-dasharray: 5.55,2.4; stroke-dashoffset: 0; stroke: #ff7f0e; stroke-width: 1.5\"/>\n   </g>\n   <g id=\"line2d_60\">\n    <path d=\"M 49.633125 130.200639 \nL 69.163125 109.882231 \nL 88.693125 106.520729 \nL 108.223125 104.939579 \n\" clip-path=\"url(#pc5753b6161)\" style=\"fill: none; stroke-dasharray: 9.6,2.4,1.5,2.4; stroke-dashoffset: 0; stroke: #2ca02c; stroke-width: 1.5\"/>\n   </g>\n   <g id=\"line2d_61\">\n    <path d=\"M 34.954394 13.5 \nL 44.698573 14.026006 \nL 54.442752 57.915493 \nL 64.186931 111.306264 \nL 73.93111 119.814111 \nL 83.675289 124.454462 \nL 93.419468 127.467464 \nL 103.163647 130.136009 \nL 112.907826 131.730073 \nL 122.652006 133.036036 \n\" clip-path=\"url(#pc5753b6161)\" style=\"fill: none; stroke: #1f77b4; stroke-width: 1.5; stroke-linecap: square\"/>\n   </g>\n   <g id=\"line2d_62\">\n    <path d=\"M 49.633125 15.594438 \nL 69.163125 119.860338 \nL 88.693125 128.764865 \nL 108.223125 132.300349 \nL 127.753125 135.417132 \n\" clip-path=\"url(#pc5753b6161)\" style=\"fill: none; stroke-dasharray: 5.55,2.4; stroke-dashoffset: 0; stroke: #ff7f0e; stroke-width: 1.5\"/>\n   </g>\n   <g id=\"line2d_63\">\n    <path d=\"M 49.633125 130.200639 \nL 69.163125 109.882231 \nL 88.693125 106.520729 \nL 108.223125 104.939579 \n\" clip-path=\"url(#pc5753b6161)\" style=\"fill: none; stroke-dasharray: 9.6,2.4,1.5,2.4; stroke-dashoffset: 0; stroke: #2ca02c; stroke-width: 1.5\"/>\n   </g>\n   <g id=\"line2d_64\">\n    <path d=\"M 34.954394 13.5 \nL 44.698573 14.026006 \nL 54.442752 57.915493 \nL 64.186931 111.306264 \nL 73.93111 119.814111 \nL 83.675289 124.454462 \nL 93.419468 127.467464 \nL 103.163647 130.136009 \nL 112.907826 131.730073 \nL 122.652006 133.036036 \n\" clip-path=\"url(#pc5753b6161)\" style=\"fill: none; stroke: #1f77b4; stroke-width: 1.5; stroke-linecap: square\"/>\n   </g>\n   <g id=\"line2d_65\">\n    <path d=\"M 49.633125 15.594438 \nL 69.163125 119.860338 \nL 88.693125 128.764865 \nL 108.223125 132.300349 \nL 127.753125 135.417132 \n\" clip-path=\"url(#pc5753b6161)\" style=\"fill: none; stroke-dasharray: 5.55,2.4; stroke-dashoffset: 0; stroke: #ff7f0e; stroke-width: 1.5\"/>\n   </g>\n   <g id=\"line2d_66\">\n    <path d=\"M 49.633125 130.200639 \nL 69.163125 109.882231 \nL 88.693125 106.520729 \nL 108.223125 104.939579 \nL 127.753125 103.812853 \n\" clip-path=\"url(#pc5753b6161)\" style=\"fill: none; stroke-dasharray: 9.6,2.4,1.5,2.4; stroke-dashoffset: 0; stroke: #2ca02c; stroke-width: 1.5\"/>\n   </g>\n   <g id=\"line2d_67\">\n    <path d=\"M 34.954394 13.5 \nL 44.698573 14.026006 \nL 54.442752 57.915493 \nL 64.186931 111.306264 \nL 73.93111 119.814111 \nL 83.675289 124.454462 \nL 93.419468 127.467464 \nL 103.163647 130.136009 \nL 112.907826 131.730073 \nL 122.652006 133.036036 \nL 132.396185 134.480904 \n\" clip-path=\"url(#pc5753b6161)\" style=\"fill: none; stroke: #1f77b4; stroke-width: 1.5; stroke-linecap: square\"/>\n   </g>\n   <g id=\"line2d_68\">\n    <path d=\"M 49.633125 15.594438 \nL 69.163125 119.860338 \nL 88.693125 128.764865 \nL 108.223125 132.300349 \nL 127.753125 135.417132 \n\" clip-path=\"url(#pc5753b6161)\" style=\"fill: none; stroke-dasharray: 5.55,2.4; stroke-dashoffset: 0; stroke: #ff7f0e; stroke-width: 1.5\"/>\n   </g>\n   <g id=\"line2d_69\">\n    <path d=\"M 49.633125 130.200639 \nL 69.163125 109.882231 \nL 88.693125 106.520729 \nL 108.223125 104.939579 \nL 127.753125 103.812853 \n\" clip-path=\"url(#pc5753b6161)\" style=\"fill: none; stroke-dasharray: 9.6,2.4,1.5,2.4; stroke-dashoffset: 0; stroke: #2ca02c; stroke-width: 1.5\"/>\n   </g>\n   <g id=\"line2d_70\">\n    <path d=\"M 34.954394 13.5 \nL 44.698573 14.026006 \nL 54.442752 57.915493 \nL 64.186931 111.306264 \nL 73.93111 119.814111 \nL 83.675289 124.454462 \nL 93.419468 127.467464 \nL 103.163647 130.136009 \nL 112.907826 131.730073 \nL 122.652006 133.036036 \nL 132.396185 134.480904 \nL 142.140364 134.528533 \n\" clip-path=\"url(#pc5753b6161)\" style=\"fill: none; stroke: #1f77b4; stroke-width: 1.5; stroke-linecap: square\"/>\n   </g>\n   <g id=\"line2d_71\">\n    <path d=\"M 49.633125 15.594438 \nL 69.163125 119.860338 \nL 88.693125 128.764865 \nL 108.223125 132.300349 \nL 127.753125 135.417132 \n\" clip-path=\"url(#pc5753b6161)\" style=\"fill: none; stroke-dasharray: 5.55,2.4; stroke-dashoffset: 0; stroke: #ff7f0e; stroke-width: 1.5\"/>\n   </g>\n   <g id=\"line2d_72\">\n    <path d=\"M 49.633125 130.200639 \nL 69.163125 109.882231 \nL 88.693125 106.520729 \nL 108.223125 104.939579 \nL 127.753125 103.812853 \n\" clip-path=\"url(#pc5753b6161)\" style=\"fill: none; stroke-dasharray: 9.6,2.4,1.5,2.4; stroke-dashoffset: 0; stroke: #2ca02c; stroke-width: 1.5\"/>\n   </g>\n   <g id=\"line2d_73\">\n    <path d=\"M 34.954394 13.5 \nL 44.698573 14.026006 \nL 54.442752 57.915493 \nL 64.186931 111.306264 \nL 73.93111 119.814111 \nL 83.675289 124.454462 \nL 93.419468 127.467464 \nL 103.163647 130.136009 \nL 112.907826 131.730073 \nL 122.652006 133.036036 \nL 132.396185 134.480904 \nL 142.140364 134.528533 \n\" clip-path=\"url(#pc5753b6161)\" style=\"fill: none; stroke: #1f77b4; stroke-width: 1.5; stroke-linecap: square\"/>\n   </g>\n   <g id=\"line2d_74\">\n    <path d=\"M 49.633125 15.594438 \nL 69.163125 119.860338 \nL 88.693125 128.764865 \nL 108.223125 132.300349 \nL 127.753125 135.417132 \nL 147.283125 136.309866 \n\" clip-path=\"url(#pc5753b6161)\" style=\"fill: none; stroke-dasharray: 5.55,2.4; stroke-dashoffset: 0; stroke: #ff7f0e; stroke-width: 1.5\"/>\n   </g>\n   <g id=\"line2d_75\">\n    <path d=\"M 49.633125 130.200639 \nL 69.163125 109.882231 \nL 88.693125 106.520729 \nL 108.223125 104.939579 \nL 127.753125 103.812853 \n\" clip-path=\"url(#pc5753b6161)\" style=\"fill: none; stroke-dasharray: 9.6,2.4,1.5,2.4; stroke-dashoffset: 0; stroke: #2ca02c; stroke-width: 1.5\"/>\n   </g>\n   <g id=\"line2d_76\">\n    <path d=\"M 34.954394 13.5 \nL 44.698573 14.026006 \nL 54.442752 57.915493 \nL 64.186931 111.306264 \nL 73.93111 119.814111 \nL 83.675289 124.454462 \nL 93.419468 127.467464 \nL 103.163647 130.136009 \nL 112.907826 131.730073 \nL 122.652006 133.036036 \nL 132.396185 134.480904 \nL 142.140364 134.528533 \n\" clip-path=\"url(#pc5753b6161)\" style=\"fill: none; stroke: #1f77b4; stroke-width: 1.5; stroke-linecap: square\"/>\n   </g>\n   <g id=\"line2d_77\">\n    <path d=\"M 49.633125 15.594438 \nL 69.163125 119.860338 \nL 88.693125 128.764865 \nL 108.223125 132.300349 \nL 127.753125 135.417132 \nL 147.283125 136.309866 \n\" clip-path=\"url(#pc5753b6161)\" style=\"fill: none; stroke-dasharray: 5.55,2.4; stroke-dashoffset: 0; stroke: #ff7f0e; stroke-width: 1.5\"/>\n   </g>\n   <g id=\"line2d_78\">\n    <path d=\"M 49.633125 130.200639 \nL 69.163125 109.882231 \nL 88.693125 106.520729 \nL 108.223125 104.939579 \nL 127.753125 103.812853 \nL 147.283125 103.613653 \n\" clip-path=\"url(#pc5753b6161)\" style=\"fill: none; stroke-dasharray: 9.6,2.4,1.5,2.4; stroke-dashoffset: 0; stroke: #2ca02c; stroke-width: 1.5\"/>\n   </g>\n   <g id=\"line2d_79\">\n    <path d=\"M 34.954394 13.5 \nL 44.698573 14.026006 \nL 54.442752 57.915493 \nL 64.186931 111.306264 \nL 73.93111 119.814111 \nL 83.675289 124.454462 \nL 93.419468 127.467464 \nL 103.163647 130.136009 \nL 112.907826 131.730073 \nL 122.652006 133.036036 \nL 132.396185 134.480904 \nL 142.140364 134.528533 \nL 151.884543 136.006235 \n\" clip-path=\"url(#pc5753b6161)\" style=\"fill: none; stroke: #1f77b4; stroke-width: 1.5; stroke-linecap: square\"/>\n   </g>\n   <g id=\"line2d_80\">\n    <path d=\"M 49.633125 15.594438 \nL 69.163125 119.860338 \nL 88.693125 128.764865 \nL 108.223125 132.300349 \nL 127.753125 135.417132 \nL 147.283125 136.309866 \n\" clip-path=\"url(#pc5753b6161)\" style=\"fill: none; stroke-dasharray: 5.55,2.4; stroke-dashoffset: 0; stroke: #ff7f0e; stroke-width: 1.5\"/>\n   </g>\n   <g id=\"line2d_81\">\n    <path d=\"M 49.633125 130.200639 \nL 69.163125 109.882231 \nL 88.693125 106.520729 \nL 108.223125 104.939579 \nL 127.753125 103.812853 \nL 147.283125 103.613653 \n\" clip-path=\"url(#pc5753b6161)\" style=\"fill: none; stroke-dasharray: 9.6,2.4,1.5,2.4; stroke-dashoffset: 0; stroke: #2ca02c; stroke-width: 1.5\"/>\n   </g>\n   <g id=\"line2d_82\">\n    <path d=\"M 34.954394 13.5 \nL 44.698573 14.026006 \nL 54.442752 57.915493 \nL 64.186931 111.306264 \nL 73.93111 119.814111 \nL 83.675289 124.454462 \nL 93.419468 127.467464 \nL 103.163647 130.136009 \nL 112.907826 131.730073 \nL 122.652006 133.036036 \nL 132.396185 134.480904 \nL 142.140364 134.528533 \nL 151.884543 136.006235 \nL 161.628722 136.343092 \n\" clip-path=\"url(#pc5753b6161)\" style=\"fill: none; stroke: #1f77b4; stroke-width: 1.5; stroke-linecap: square\"/>\n   </g>\n   <g id=\"line2d_83\">\n    <path d=\"M 49.633125 15.594438 \nL 69.163125 119.860338 \nL 88.693125 128.764865 \nL 108.223125 132.300349 \nL 127.753125 135.417132 \nL 147.283125 136.309866 \n\" clip-path=\"url(#pc5753b6161)\" style=\"fill: none; stroke-dasharray: 5.55,2.4; stroke-dashoffset: 0; stroke: #ff7f0e; stroke-width: 1.5\"/>\n   </g>\n   <g id=\"line2d_84\">\n    <path d=\"M 49.633125 130.200639 \nL 69.163125 109.882231 \nL 88.693125 106.520729 \nL 108.223125 104.939579 \nL 127.753125 103.812853 \nL 147.283125 103.613653 \n\" clip-path=\"url(#pc5753b6161)\" style=\"fill: none; stroke-dasharray: 9.6,2.4,1.5,2.4; stroke-dashoffset: 0; stroke: #2ca02c; stroke-width: 1.5\"/>\n   </g>\n   <g id=\"line2d_85\">\n    <path d=\"M 34.954394 13.5 \nL 44.698573 14.026006 \nL 54.442752 57.915493 \nL 64.186931 111.306264 \nL 73.93111 119.814111 \nL 83.675289 124.454462 \nL 93.419468 127.467464 \nL 103.163647 130.136009 \nL 112.907826 131.730073 \nL 122.652006 133.036036 \nL 132.396185 134.480904 \nL 142.140364 134.528533 \nL 151.884543 136.006235 \nL 161.628722 136.343092 \n\" clip-path=\"url(#pc5753b6161)\" style=\"fill: none; stroke: #1f77b4; stroke-width: 1.5; stroke-linecap: square\"/>\n   </g>\n   <g id=\"line2d_86\">\n    <path d=\"M 49.633125 15.594438 \nL 69.163125 119.860338 \nL 88.693125 128.764865 \nL 108.223125 132.300349 \nL 127.753125 135.417132 \nL 147.283125 136.309866 \nL 166.813125 136.433894 \n\" clip-path=\"url(#pc5753b6161)\" style=\"fill: none; stroke-dasharray: 5.55,2.4; stroke-dashoffset: 0; stroke: #ff7f0e; stroke-width: 1.5\"/>\n   </g>\n   <g id=\"line2d_87\">\n    <path d=\"M 49.633125 130.200639 \nL 69.163125 109.882231 \nL 88.693125 106.520729 \nL 108.223125 104.939579 \nL 127.753125 103.812853 \nL 147.283125 103.613653 \n\" clip-path=\"url(#pc5753b6161)\" style=\"fill: none; stroke-dasharray: 9.6,2.4,1.5,2.4; stroke-dashoffset: 0; stroke: #2ca02c; stroke-width: 1.5\"/>\n   </g>\n   <g id=\"line2d_88\">\n    <path d=\"M 34.954394 13.5 \nL 44.698573 14.026006 \nL 54.442752 57.915493 \nL 64.186931 111.306264 \nL 73.93111 119.814111 \nL 83.675289 124.454462 \nL 93.419468 127.467464 \nL 103.163647 130.136009 \nL 112.907826 131.730073 \nL 122.652006 133.036036 \nL 132.396185 134.480904 \nL 142.140364 134.528533 \nL 151.884543 136.006235 \nL 161.628722 136.343092 \n\" clip-path=\"url(#pc5753b6161)\" style=\"fill: none; stroke: #1f77b4; stroke-width: 1.5; stroke-linecap: square\"/>\n   </g>\n   <g id=\"line2d_89\">\n    <path d=\"M 49.633125 15.594438 \nL 69.163125 119.860338 \nL 88.693125 128.764865 \nL 108.223125 132.300349 \nL 127.753125 135.417132 \nL 147.283125 136.309866 \nL 166.813125 136.433894 \n\" clip-path=\"url(#pc5753b6161)\" style=\"fill: none; stroke-dasharray: 5.55,2.4; stroke-dashoffset: 0; stroke: #ff7f0e; stroke-width: 1.5\"/>\n   </g>\n   <g id=\"line2d_90\">\n    <path d=\"M 49.633125 130.200639 \nL 69.163125 109.882231 \nL 88.693125 106.520729 \nL 108.223125 104.939579 \nL 127.753125 103.812853 \nL 147.283125 103.613653 \nL 166.813125 103.507828 \n\" clip-path=\"url(#pc5753b6161)\" style=\"fill: none; stroke-dasharray: 9.6,2.4,1.5,2.4; stroke-dashoffset: 0; stroke: #2ca02c; stroke-width: 1.5\"/>\n   </g>\n   <g id=\"line2d_91\">\n    <path d=\"M 34.954394 13.5 \nL 44.698573 14.026006 \nL 54.442752 57.915493 \nL 64.186931 111.306264 \nL 73.93111 119.814111 \nL 83.675289 124.454462 \nL 93.419468 127.467464 \nL 103.163647 130.136009 \nL 112.907826 131.730073 \nL 122.652006 133.036036 \nL 132.396185 134.480904 \nL 142.140364 134.528533 \nL 151.884543 136.006235 \nL 161.628722 136.343092 \nL 171.372901 136.990738 \n\" clip-path=\"url(#pc5753b6161)\" style=\"fill: none; stroke: #1f77b4; stroke-width: 1.5; stroke-linecap: square\"/>\n   </g>\n   <g id=\"line2d_92\">\n    <path d=\"M 49.633125 15.594438 \nL 69.163125 119.860338 \nL 88.693125 128.764865 \nL 108.223125 132.300349 \nL 127.753125 135.417132 \nL 147.283125 136.309866 \nL 166.813125 136.433894 \n\" clip-path=\"url(#pc5753b6161)\" style=\"fill: none; stroke-dasharray: 5.55,2.4; stroke-dashoffset: 0; stroke: #ff7f0e; stroke-width: 1.5\"/>\n   </g>\n   <g id=\"line2d_93\">\n    <path d=\"M 49.633125 130.200639 \nL 69.163125 109.882231 \nL 88.693125 106.520729 \nL 108.223125 104.939579 \nL 127.753125 103.812853 \nL 147.283125 103.613653 \nL 166.813125 103.507828 \n\" clip-path=\"url(#pc5753b6161)\" style=\"fill: none; stroke-dasharray: 9.6,2.4,1.5,2.4; stroke-dashoffset: 0; stroke: #2ca02c; stroke-width: 1.5\"/>\n   </g>\n   <g id=\"line2d_94\">\n    <path d=\"M 34.954394 13.5 \nL 44.698573 14.026006 \nL 54.442752 57.915493 \nL 64.186931 111.306264 \nL 73.93111 119.814111 \nL 83.675289 124.454462 \nL 93.419468 127.467464 \nL 103.163647 130.136009 \nL 112.907826 131.730073 \nL 122.652006 133.036036 \nL 132.396185 134.480904 \nL 142.140364 134.528533 \nL 151.884543 136.006235 \nL 161.628722 136.343092 \nL 171.372901 136.990738 \nL 181.11708 137.855523 \n\" clip-path=\"url(#pc5753b6161)\" style=\"fill: none; stroke: #1f77b4; stroke-width: 1.5; stroke-linecap: square\"/>\n   </g>\n   <g id=\"line2d_95\">\n    <path d=\"M 49.633125 15.594438 \nL 69.163125 119.860338 \nL 88.693125 128.764865 \nL 108.223125 132.300349 \nL 127.753125 135.417132 \nL 147.283125 136.309866 \nL 166.813125 136.433894 \n\" clip-path=\"url(#pc5753b6161)\" style=\"fill: none; stroke-dasharray: 5.55,2.4; stroke-dashoffset: 0; stroke: #ff7f0e; stroke-width: 1.5\"/>\n   </g>\n   <g id=\"line2d_96\">\n    <path d=\"M 49.633125 130.200639 \nL 69.163125 109.882231 \nL 88.693125 106.520729 \nL 108.223125 104.939579 \nL 127.753125 103.812853 \nL 147.283125 103.613653 \nL 166.813125 103.507828 \n\" clip-path=\"url(#pc5753b6161)\" style=\"fill: none; stroke-dasharray: 9.6,2.4,1.5,2.4; stroke-dashoffset: 0; stroke: #2ca02c; stroke-width: 1.5\"/>\n   </g>\n   <g id=\"line2d_97\">\n    <path d=\"M 34.954394 13.5 \nL 44.698573 14.026006 \nL 54.442752 57.915493 \nL 64.186931 111.306264 \nL 73.93111 119.814111 \nL 83.675289 124.454462 \nL 93.419468 127.467464 \nL 103.163647 130.136009 \nL 112.907826 131.730073 \nL 122.652006 133.036036 \nL 132.396185 134.480904 \nL 142.140364 134.528533 \nL 151.884543 136.006235 \nL 161.628722 136.343092 \nL 171.372901 136.990738 \nL 181.11708 137.855523 \n\" clip-path=\"url(#pc5753b6161)\" style=\"fill: none; stroke: #1f77b4; stroke-width: 1.5; stroke-linecap: square\"/>\n   </g>\n   <g id=\"line2d_98\">\n    <path d=\"M 49.633125 15.594438 \nL 69.163125 119.860338 \nL 88.693125 128.764865 \nL 108.223125 132.300349 \nL 127.753125 135.417132 \nL 147.283125 136.309866 \nL 166.813125 136.433894 \nL 186.343125 137.655632 \n\" clip-path=\"url(#pc5753b6161)\" style=\"fill: none; stroke-dasharray: 5.55,2.4; stroke-dashoffset: 0; stroke: #ff7f0e; stroke-width: 1.5\"/>\n   </g>\n   <g id=\"line2d_99\">\n    <path d=\"M 49.633125 130.200639 \nL 69.163125 109.882231 \nL 88.693125 106.520729 \nL 108.223125 104.939579 \nL 127.753125 103.812853 \nL 147.283125 103.613653 \nL 166.813125 103.507828 \n\" clip-path=\"url(#pc5753b6161)\" style=\"fill: none; stroke-dasharray: 9.6,2.4,1.5,2.4; stroke-dashoffset: 0; stroke: #2ca02c; stroke-width: 1.5\"/>\n   </g>\n   <g id=\"line2d_100\">\n    <path d=\"M 34.954394 13.5 \nL 44.698573 14.026006 \nL 54.442752 57.915493 \nL 64.186931 111.306264 \nL 73.93111 119.814111 \nL 83.675289 124.454462 \nL 93.419468 127.467464 \nL 103.163647 130.136009 \nL 112.907826 131.730073 \nL 122.652006 133.036036 \nL 132.396185 134.480904 \nL 142.140364 134.528533 \nL 151.884543 136.006235 \nL 161.628722 136.343092 \nL 171.372901 136.990738 \nL 181.11708 137.855523 \n\" clip-path=\"url(#pc5753b6161)\" style=\"fill: none; stroke: #1f77b4; stroke-width: 1.5; stroke-linecap: square\"/>\n   </g>\n   <g id=\"line2d_101\">\n    <path d=\"M 49.633125 15.594438 \nL 69.163125 119.860338 \nL 88.693125 128.764865 \nL 108.223125 132.300349 \nL 127.753125 135.417132 \nL 147.283125 136.309866 \nL 166.813125 136.433894 \nL 186.343125 137.655632 \n\" clip-path=\"url(#pc5753b6161)\" style=\"fill: none; stroke-dasharray: 5.55,2.4; stroke-dashoffset: 0; stroke: #ff7f0e; stroke-width: 1.5\"/>\n   </g>\n   <g id=\"line2d_102\">\n    <path d=\"M 49.633125 130.200639 \nL 69.163125 109.882231 \nL 88.693125 106.520729 \nL 108.223125 104.939579 \nL 127.753125 103.812853 \nL 147.283125 103.613653 \nL 166.813125 103.507828 \nL 186.343125 103.140553 \n\" clip-path=\"url(#pc5753b6161)\" style=\"fill: none; stroke-dasharray: 9.6,2.4,1.5,2.4; stroke-dashoffset: 0; stroke: #2ca02c; stroke-width: 1.5\"/>\n   </g>\n   <g id=\"line2d_103\">\n    <path d=\"M 34.954394 13.5 \nL 44.698573 14.026006 \nL 54.442752 57.915493 \nL 64.186931 111.306264 \nL 73.93111 119.814111 \nL 83.675289 124.454462 \nL 93.419468 127.467464 \nL 103.163647 130.136009 \nL 112.907826 131.730073 \nL 122.652006 133.036036 \nL 132.396185 134.480904 \nL 142.140364 134.528533 \nL 151.884543 136.006235 \nL 161.628722 136.343092 \nL 171.372901 136.990738 \nL 181.11708 137.855523 \nL 190.861259 137.985842 \n\" clip-path=\"url(#pc5753b6161)\" style=\"fill: none; stroke: #1f77b4; stroke-width: 1.5; stroke-linecap: square\"/>\n   </g>\n   <g id=\"line2d_104\">\n    <path d=\"M 49.633125 15.594438 \nL 69.163125 119.860338 \nL 88.693125 128.764865 \nL 108.223125 132.300349 \nL 127.753125 135.417132 \nL 147.283125 136.309866 \nL 166.813125 136.433894 \nL 186.343125 137.655632 \n\" clip-path=\"url(#pc5753b6161)\" style=\"fill: none; stroke-dasharray: 5.55,2.4; stroke-dashoffset: 0; stroke: #ff7f0e; stroke-width: 1.5\"/>\n   </g>\n   <g id=\"line2d_105\">\n    <path d=\"M 49.633125 130.200639 \nL 69.163125 109.882231 \nL 88.693125 106.520729 \nL 108.223125 104.939579 \nL 127.753125 103.812853 \nL 147.283125 103.613653 \nL 166.813125 103.507828 \nL 186.343125 103.140553 \n\" clip-path=\"url(#pc5753b6161)\" style=\"fill: none; stroke-dasharray: 9.6,2.4,1.5,2.4; stroke-dashoffset: 0; stroke: #2ca02c; stroke-width: 1.5\"/>\n   </g>\n   <g id=\"line2d_106\">\n    <path d=\"M 34.954394 13.5 \nL 44.698573 14.026006 \nL 54.442752 57.915493 \nL 64.186931 111.306264 \nL 73.93111 119.814111 \nL 83.675289 124.454462 \nL 93.419468 127.467464 \nL 103.163647 130.136009 \nL 112.907826 131.730073 \nL 122.652006 133.036036 \nL 132.396185 134.480904 \nL 142.140364 134.528533 \nL 151.884543 136.006235 \nL 161.628722 136.343092 \nL 171.372901 136.990738 \nL 181.11708 137.855523 \nL 190.861259 137.985842 \nL 200.605438 138.74891 \n\" clip-path=\"url(#pc5753b6161)\" style=\"fill: none; stroke: #1f77b4; stroke-width: 1.5; stroke-linecap: square\"/>\n   </g>\n   <g id=\"line2d_107\">\n    <path d=\"M 49.633125 15.594438 \nL 69.163125 119.860338 \nL 88.693125 128.764865 \nL 108.223125 132.300349 \nL 127.753125 135.417132 \nL 147.283125 136.309866 \nL 166.813125 136.433894 \nL 186.343125 137.655632 \n\" clip-path=\"url(#pc5753b6161)\" style=\"fill: none; stroke-dasharray: 5.55,2.4; stroke-dashoffset: 0; stroke: #ff7f0e; stroke-width: 1.5\"/>\n   </g>\n   <g id=\"line2d_108\">\n    <path d=\"M 49.633125 130.200639 \nL 69.163125 109.882231 \nL 88.693125 106.520729 \nL 108.223125 104.939579 \nL 127.753125 103.812853 \nL 147.283125 103.613653 \nL 166.813125 103.507828 \nL 186.343125 103.140553 \n\" clip-path=\"url(#pc5753b6161)\" style=\"fill: none; stroke-dasharray: 9.6,2.4,1.5,2.4; stroke-dashoffset: 0; stroke: #2ca02c; stroke-width: 1.5\"/>\n   </g>\n   <g id=\"line2d_109\">\n    <path d=\"M 34.954394 13.5 \nL 44.698573 14.026006 \nL 54.442752 57.915493 \nL 64.186931 111.306264 \nL 73.93111 119.814111 \nL 83.675289 124.454462 \nL 93.419468 127.467464 \nL 103.163647 130.136009 \nL 112.907826 131.730073 \nL 122.652006 133.036036 \nL 132.396185 134.480904 \nL 142.140364 134.528533 \nL 151.884543 136.006235 \nL 161.628722 136.343092 \nL 171.372901 136.990738 \nL 181.11708 137.855523 \nL 190.861259 137.985842 \nL 200.605438 138.74891 \n\" clip-path=\"url(#pc5753b6161)\" style=\"fill: none; stroke: #1f77b4; stroke-width: 1.5; stroke-linecap: square\"/>\n   </g>\n   <g id=\"line2d_110\">\n    <path d=\"M 49.633125 15.594438 \nL 69.163125 119.860338 \nL 88.693125 128.764865 \nL 108.223125 132.300349 \nL 127.753125 135.417132 \nL 147.283125 136.309866 \nL 166.813125 136.433894 \nL 186.343125 137.655632 \nL 205.873125 138.912356 \n\" clip-path=\"url(#pc5753b6161)\" style=\"fill: none; stroke-dasharray: 5.55,2.4; stroke-dashoffset: 0; stroke: #ff7f0e; stroke-width: 1.5\"/>\n   </g>\n   <g id=\"line2d_111\">\n    <path d=\"M 49.633125 130.200639 \nL 69.163125 109.882231 \nL 88.693125 106.520729 \nL 108.223125 104.939579 \nL 127.753125 103.812853 \nL 147.283125 103.613653 \nL 166.813125 103.507828 \nL 186.343125 103.140553 \n\" clip-path=\"url(#pc5753b6161)\" style=\"fill: none; stroke-dasharray: 9.6,2.4,1.5,2.4; stroke-dashoffset: 0; stroke: #2ca02c; stroke-width: 1.5\"/>\n   </g>\n   <g id=\"line2d_112\">\n    <path d=\"M 34.954394 13.5 \nL 44.698573 14.026006 \nL 54.442752 57.915493 \nL 64.186931 111.306264 \nL 73.93111 119.814111 \nL 83.675289 124.454462 \nL 93.419468 127.467464 \nL 103.163647 130.136009 \nL 112.907826 131.730073 \nL 122.652006 133.036036 \nL 132.396185 134.480904 \nL 142.140364 134.528533 \nL 151.884543 136.006235 \nL 161.628722 136.343092 \nL 171.372901 136.990738 \nL 181.11708 137.855523 \nL 190.861259 137.985842 \nL 200.605438 138.74891 \n\" clip-path=\"url(#pc5753b6161)\" style=\"fill: none; stroke: #1f77b4; stroke-width: 1.5; stroke-linecap: square\"/>\n   </g>\n   <g id=\"line2d_113\">\n    <path d=\"M 49.633125 15.594438 \nL 69.163125 119.860338 \nL 88.693125 128.764865 \nL 108.223125 132.300349 \nL 127.753125 135.417132 \nL 147.283125 136.309866 \nL 166.813125 136.433894 \nL 186.343125 137.655632 \nL 205.873125 138.912356 \n\" clip-path=\"url(#pc5753b6161)\" style=\"fill: none; stroke-dasharray: 5.55,2.4; stroke-dashoffset: 0; stroke: #ff7f0e; stroke-width: 1.5\"/>\n   </g>\n   <g id=\"line2d_114\">\n    <path d=\"M 49.633125 130.200639 \nL 69.163125 109.882231 \nL 88.693125 106.520729 \nL 108.223125 104.939579 \nL 127.753125 103.812853 \nL 147.283125 103.613653 \nL 166.813125 103.507828 \nL 186.343125 103.140553 \nL 205.873125 102.692353 \n\" clip-path=\"url(#pc5753b6161)\" style=\"fill: none; stroke-dasharray: 9.6,2.4,1.5,2.4; stroke-dashoffset: 0; stroke: #2ca02c; stroke-width: 1.5\"/>\n   </g>\n   <g id=\"line2d_115\">\n    <path d=\"M 34.954394 13.5 \nL 44.698573 14.026006 \nL 54.442752 57.915493 \nL 64.186931 111.306264 \nL 73.93111 119.814111 \nL 83.675289 124.454462 \nL 93.419468 127.467464 \nL 103.163647 130.136009 \nL 112.907826 131.730073 \nL 122.652006 133.036036 \nL 132.396185 134.480904 \nL 142.140364 134.528533 \nL 151.884543 136.006235 \nL 161.628722 136.343092 \nL 171.372901 136.990738 \nL 181.11708 137.855523 \nL 190.861259 137.985842 \nL 200.605438 138.74891 \nL 210.349618 139.112087 \n\" clip-path=\"url(#pc5753b6161)\" style=\"fill: none; stroke: #1f77b4; stroke-width: 1.5; stroke-linecap: square\"/>\n   </g>\n   <g id=\"line2d_116\">\n    <path d=\"M 49.633125 15.594438 \nL 69.163125 119.860338 \nL 88.693125 128.764865 \nL 108.223125 132.300349 \nL 127.753125 135.417132 \nL 147.283125 136.309866 \nL 166.813125 136.433894 \nL 186.343125 137.655632 \nL 205.873125 138.912356 \n\" clip-path=\"url(#pc5753b6161)\" style=\"fill: none; stroke-dasharray: 5.55,2.4; stroke-dashoffset: 0; stroke: #ff7f0e; stroke-width: 1.5\"/>\n   </g>\n   <g id=\"line2d_117\">\n    <path d=\"M 49.633125 130.200639 \nL 69.163125 109.882231 \nL 88.693125 106.520729 \nL 108.223125 104.939579 \nL 127.753125 103.812853 \nL 147.283125 103.613653 \nL 166.813125 103.507828 \nL 186.343125 103.140553 \nL 205.873125 102.692353 \n\" clip-path=\"url(#pc5753b6161)\" style=\"fill: none; stroke-dasharray: 9.6,2.4,1.5,2.4; stroke-dashoffset: 0; stroke: #2ca02c; stroke-width: 1.5\"/>\n   </g>\n   <g id=\"line2d_118\">\n    <path d=\"M 34.954394 13.5 \nL 44.698573 14.026006 \nL 54.442752 57.915493 \nL 64.186931 111.306264 \nL 73.93111 119.814111 \nL 83.675289 124.454462 \nL 93.419468 127.467464 \nL 103.163647 130.136009 \nL 112.907826 131.730073 \nL 122.652006 133.036036 \nL 132.396185 134.480904 \nL 142.140364 134.528533 \nL 151.884543 136.006235 \nL 161.628722 136.343092 \nL 171.372901 136.990738 \nL 181.11708 137.855523 \nL 190.861259 137.985842 \nL 200.605438 138.74891 \nL 210.349618 139.112087 \nL 220.093797 139.5 \n\" clip-path=\"url(#pc5753b6161)\" style=\"fill: none; stroke: #1f77b4; stroke-width: 1.5; stroke-linecap: square\"/>\n   </g>\n   <g id=\"line2d_119\">\n    <path d=\"M 49.633125 15.594438 \nL 69.163125 119.860338 \nL 88.693125 128.764865 \nL 108.223125 132.300349 \nL 127.753125 135.417132 \nL 147.283125 136.309866 \nL 166.813125 136.433894 \nL 186.343125 137.655632 \nL 205.873125 138.912356 \n\" clip-path=\"url(#pc5753b6161)\" style=\"fill: none; stroke-dasharray: 5.55,2.4; stroke-dashoffset: 0; stroke: #ff7f0e; stroke-width: 1.5\"/>\n   </g>\n   <g id=\"line2d_120\">\n    <path d=\"M 49.633125 130.200639 \nL 69.163125 109.882231 \nL 88.693125 106.520729 \nL 108.223125 104.939579 \nL 127.753125 103.812853 \nL 147.283125 103.613653 \nL 166.813125 103.507828 \nL 186.343125 103.140553 \nL 205.873125 102.692353 \n\" clip-path=\"url(#pc5753b6161)\" style=\"fill: none; stroke-dasharray: 9.6,2.4,1.5,2.4; stroke-dashoffset: 0; stroke: #2ca02c; stroke-width: 1.5\"/>\n   </g>\n   <g id=\"line2d_121\">\n    <path d=\"M 34.954394 13.5 \nL 44.698573 14.026006 \nL 54.442752 57.915493 \nL 64.186931 111.306264 \nL 73.93111 119.814111 \nL 83.675289 124.454462 \nL 93.419468 127.467464 \nL 103.163647 130.136009 \nL 112.907826 131.730073 \nL 122.652006 133.036036 \nL 132.396185 134.480904 \nL 142.140364 134.528533 \nL 151.884543 136.006235 \nL 161.628722 136.343092 \nL 171.372901 136.990738 \nL 181.11708 137.855523 \nL 190.861259 137.985842 \nL 200.605438 138.74891 \nL 210.349618 139.112087 \nL 220.093797 139.5 \n\" clip-path=\"url(#pc5753b6161)\" style=\"fill: none; stroke: #1f77b4; stroke-width: 1.5; stroke-linecap: square\"/>\n   </g>\n   <g id=\"line2d_122\">\n    <path d=\"M 49.633125 15.594438 \nL 69.163125 119.860338 \nL 88.693125 128.764865 \nL 108.223125 132.300349 \nL 127.753125 135.417132 \nL 147.283125 136.309866 \nL 166.813125 136.433894 \nL 186.343125 137.655632 \nL 205.873125 138.912356 \nL 225.403125 139.460661 \n\" clip-path=\"url(#pc5753b6161)\" style=\"fill: none; stroke-dasharray: 5.55,2.4; stroke-dashoffset: 0; stroke: #ff7f0e; stroke-width: 1.5\"/>\n   </g>\n   <g id=\"line2d_123\">\n    <path d=\"M 49.633125 130.200639 \nL 69.163125 109.882231 \nL 88.693125 106.520729 \nL 108.223125 104.939579 \nL 127.753125 103.812853 \nL 147.283125 103.613653 \nL 166.813125 103.507828 \nL 186.343125 103.140553 \nL 205.873125 102.692353 \n\" clip-path=\"url(#pc5753b6161)\" style=\"fill: none; stroke-dasharray: 9.6,2.4,1.5,2.4; stroke-dashoffset: 0; stroke: #2ca02c; stroke-width: 1.5\"/>\n   </g>\n   <g id=\"line2d_124\">\n    <path d=\"M 34.954394 13.5 \nL 44.698573 14.026006 \nL 54.442752 57.915493 \nL 64.186931 111.306264 \nL 73.93111 119.814111 \nL 83.675289 124.454462 \nL 93.419468 127.467464 \nL 103.163647 130.136009 \nL 112.907826 131.730073 \nL 122.652006 133.036036 \nL 132.396185 134.480904 \nL 142.140364 134.528533 \nL 151.884543 136.006235 \nL 161.628722 136.343092 \nL 171.372901 136.990738 \nL 181.11708 137.855523 \nL 190.861259 137.985842 \nL 200.605438 138.74891 \nL 210.349618 139.112087 \nL 220.093797 139.5 \n\" clip-path=\"url(#pc5753b6161)\" style=\"fill: none; stroke: #1f77b4; stroke-width: 1.5; stroke-linecap: square\"/>\n   </g>\n   <g id=\"line2d_125\">\n    <path d=\"M 49.633125 15.594438 \nL 69.163125 119.860338 \nL 88.693125 128.764865 \nL 108.223125 132.300349 \nL 127.753125 135.417132 \nL 147.283125 136.309866 \nL 166.813125 136.433894 \nL 186.343125 137.655632 \nL 205.873125 138.912356 \nL 225.403125 139.460661 \n\" clip-path=\"url(#pc5753b6161)\" style=\"fill: none; stroke-dasharray: 5.55,2.4; stroke-dashoffset: 0; stroke: #ff7f0e; stroke-width: 1.5\"/>\n   </g>\n   <g id=\"line2d_126\">\n    <path d=\"M 49.633125 130.200639 \nL 69.163125 109.882231 \nL 88.693125 106.520729 \nL 108.223125 104.939579 \nL 127.753125 103.812853 \nL 147.283125 103.613653 \nL 166.813125 103.507828 \nL 186.343125 103.140553 \nL 205.873125 102.692353 \nL 225.403125 102.387327 \n\" clip-path=\"url(#pc5753b6161)\" style=\"fill: none; stroke-dasharray: 9.6,2.4,1.5,2.4; stroke-dashoffset: 0; stroke: #2ca02c; stroke-width: 1.5\"/>\n   </g>\n   <g id=\"patch_3\">\n    <path d=\"M 30.103125 145.8 \nL 30.103125 7.2 \n\" style=\"fill: none; stroke: #000000; stroke-width: 0.8; stroke-linejoin: miter; stroke-linecap: square\"/>\n   </g>\n   <g id=\"patch_4\">\n    <path d=\"M 225.403125 145.8 \nL 225.403125 7.2 \n\" style=\"fill: none; stroke: #000000; stroke-width: 0.8; stroke-linejoin: miter; stroke-linecap: square\"/>\n   </g>\n   <g id=\"patch_5\">\n    <path d=\"M 30.103125 145.8 \nL 225.403125 145.8 \n\" style=\"fill: none; stroke: #000000; stroke-width: 0.8; stroke-linejoin: miter; stroke-linecap: square\"/>\n   </g>\n   <g id=\"patch_6\">\n    <path d=\"M 30.103125 7.2 \nL 225.403125 7.2 \n\" style=\"fill: none; stroke: #000000; stroke-width: 0.8; stroke-linejoin: miter; stroke-linecap: square\"/>\n   </g>\n   <g id=\"legend_1\">\n    <g id=\"patch_7\">\n     <path d=\"M 138.8125 60.06875 \nL 218.403125 60.06875 \nQ 220.403125 60.06875 220.403125 58.06875 \nL 220.403125 14.2 \nQ 220.403125 12.2 218.403125 12.2 \nL 138.8125 12.2 \nQ 136.8125 12.2 136.8125 14.2 \nL 136.8125 58.06875 \nQ 136.8125 60.06875 138.8125 60.06875 \nz\n\" style=\"fill: #ffffff; opacity: 0.8; stroke: #cccccc; stroke-linejoin: miter\"/>\n    </g>\n    <g id=\"line2d_127\">\n     <path d=\"M 140.8125 20.298438 \nL 150.8125 20.298438 \nL 160.8125 20.298438 \n\" style=\"fill: none; stroke: #1f77b4; stroke-width: 1.5; stroke-linecap: square\"/>\n    </g>\n    <g id=\"text_12\">\n     <!-- train_loss -->\n     <g transform=\"translate(168.8125 23.798438) scale(0.1 -0.1)\">\n      <defs>\n       <path id=\"DejaVuSans-74\" d=\"M 1172 4494 \nL 1172 3500 \nL 2356 3500 \nL 2356 3053 \nL 1172 3053 \nL 1172 1153 \nQ 1172 725 1289 603 \nQ 1406 481 1766 481 \nL 2356 481 \nL 2356 0 \nL 1766 0 \nQ 1100 0 847 248 \nQ 594 497 594 1153 \nL 594 3053 \nL 172 3053 \nL 172 3500 \nL 594 3500 \nL 594 4494 \nL 1172 4494 \nz\n\" transform=\"scale(0.015625)\"/>\n       <path id=\"DejaVuSans-72\" d=\"M 2631 2963 \nQ 2534 3019 2420 3045 \nQ 2306 3072 2169 3072 \nQ 1681 3072 1420 2755 \nQ 1159 2438 1159 1844 \nL 1159 0 \nL 581 0 \nL 581 3500 \nL 1159 3500 \nL 1159 2956 \nQ 1341 3275 1631 3429 \nQ 1922 3584 2338 3584 \nQ 2397 3584 2469 3576 \nQ 2541 3569 2628 3553 \nL 2631 2963 \nz\n\" transform=\"scale(0.015625)\"/>\n       <path id=\"DejaVuSans-61\" d=\"M 2194 1759 \nQ 1497 1759 1228 1600 \nQ 959 1441 959 1056 \nQ 959 750 1161 570 \nQ 1363 391 1709 391 \nQ 2188 391 2477 730 \nQ 2766 1069 2766 1631 \nL 2766 1759 \nL 2194 1759 \nz\nM 3341 1997 \nL 3341 0 \nL 2766 0 \nL 2766 531 \nQ 2569 213 2275 61 \nQ 1981 -91 1556 -91 \nQ 1019 -91 701 211 \nQ 384 513 384 1019 \nQ 384 1609 779 1909 \nQ 1175 2209 1959 2209 \nL 2766 2209 \nL 2766 2266 \nQ 2766 2663 2505 2880 \nQ 2244 3097 1772 3097 \nQ 1472 3097 1187 3025 \nQ 903 2953 641 2809 \nL 641 3341 \nQ 956 3463 1253 3523 \nQ 1550 3584 1831 3584 \nQ 2591 3584 2966 3190 \nQ 3341 2797 3341 1997 \nz\n\" transform=\"scale(0.015625)\"/>\n       <path id=\"DejaVuSans-69\" d=\"M 603 3500 \nL 1178 3500 \nL 1178 0 \nL 603 0 \nL 603 3500 \nz\nM 603 4863 \nL 1178 4863 \nL 1178 4134 \nL 603 4134 \nL 603 4863 \nz\n\" transform=\"scale(0.015625)\"/>\n       <path id=\"DejaVuSans-6e\" d=\"M 3513 2113 \nL 3513 0 \nL 2938 0 \nL 2938 2094 \nQ 2938 2591 2744 2837 \nQ 2550 3084 2163 3084 \nQ 1697 3084 1428 2787 \nQ 1159 2491 1159 1978 \nL 1159 0 \nL 581 0 \nL 581 3500 \nL 1159 3500 \nL 1159 2956 \nQ 1366 3272 1645 3428 \nQ 1925 3584 2291 3584 \nQ 2894 3584 3203 3211 \nQ 3513 2838 3513 2113 \nz\n\" transform=\"scale(0.015625)\"/>\n       <path id=\"DejaVuSans-5f\" d=\"M 3263 -1063 \nL 3263 -1509 \nL -63 -1509 \nL -63 -1063 \nL 3263 -1063 \nz\n\" transform=\"scale(0.015625)\"/>\n       <path id=\"DejaVuSans-6c\" d=\"M 603 4863 \nL 1178 4863 \nL 1178 0 \nL 603 0 \nL 603 4863 \nz\n\" transform=\"scale(0.015625)\"/>\n       <path id=\"DejaVuSans-73\" d=\"M 2834 3397 \nL 2834 2853 \nQ 2591 2978 2328 3040 \nQ 2066 3103 1784 3103 \nQ 1356 3103 1142 2972 \nQ 928 2841 928 2578 \nQ 928 2378 1081 2264 \nQ 1234 2150 1697 2047 \nL 1894 2003 \nQ 2506 1872 2764 1633 \nQ 3022 1394 3022 966 \nQ 3022 478 2636 193 \nQ 2250 -91 1575 -91 \nQ 1294 -91 989 -36 \nQ 684 19 347 128 \nL 347 722 \nQ 666 556 975 473 \nQ 1284 391 1588 391 \nQ 1994 391 2212 530 \nQ 2431 669 2431 922 \nQ 2431 1156 2273 1281 \nQ 2116 1406 1581 1522 \nL 1381 1569 \nQ 847 1681 609 1914 \nQ 372 2147 372 2553 \nQ 372 3047 722 3315 \nQ 1072 3584 1716 3584 \nQ 2034 3584 2315 3537 \nQ 2597 3491 2834 3397 \nz\n\" transform=\"scale(0.015625)\"/>\n      </defs>\n      <use xlink:href=\"#DejaVuSans-74\"/>\n      <use xlink:href=\"#DejaVuSans-72\" x=\"39.208984\"/>\n      <use xlink:href=\"#DejaVuSans-61\" x=\"80.322266\"/>\n      <use xlink:href=\"#DejaVuSans-69\" x=\"141.601562\"/>\n      <use xlink:href=\"#DejaVuSans-6e\" x=\"169.384766\"/>\n      <use xlink:href=\"#DejaVuSans-5f\" x=\"232.763672\"/>\n      <use xlink:href=\"#DejaVuSans-6c\" x=\"282.763672\"/>\n      <use xlink:href=\"#DejaVuSans-6f\" x=\"310.546875\"/>\n      <use xlink:href=\"#DejaVuSans-73\" x=\"371.728516\"/>\n      <use xlink:href=\"#DejaVuSans-73\" x=\"423.828125\"/>\n     </g>\n    </g>\n    <g id=\"line2d_128\">\n     <path d=\"M 140.8125 35.254688 \nL 150.8125 35.254688 \nL 160.8125 35.254688 \n\" style=\"fill: none; stroke-dasharray: 5.55,2.4; stroke-dashoffset: 0; stroke: #ff7f0e; stroke-width: 1.5\"/>\n    </g>\n    <g id=\"text_13\">\n     <!-- val_loss -->\n     <g transform=\"translate(168.8125 38.754688) scale(0.1 -0.1)\">\n      <defs>\n       <path id=\"DejaVuSans-76\" d=\"M 191 3500 \nL 800 3500 \nL 1894 563 \nL 2988 3500 \nL 3597 3500 \nL 2284 0 \nL 1503 0 \nL 191 3500 \nz\n\" transform=\"scale(0.015625)\"/>\n      </defs>\n      <use xlink:href=\"#DejaVuSans-76\"/>\n      <use xlink:href=\"#DejaVuSans-61\" x=\"59.179688\"/>\n      <use xlink:href=\"#DejaVuSans-6c\" x=\"120.458984\"/>\n      <use xlink:href=\"#DejaVuSans-5f\" x=\"148.242188\"/>\n      <use xlink:href=\"#DejaVuSans-6c\" x=\"198.242188\"/>\n      <use xlink:href=\"#DejaVuSans-6f\" x=\"226.025391\"/>\n      <use xlink:href=\"#DejaVuSans-73\" x=\"287.207031\"/>\n      <use xlink:href=\"#DejaVuSans-73\" x=\"339.306641\"/>\n     </g>\n    </g>\n    <g id=\"line2d_129\">\n     <path d=\"M 140.8125 50.210938 \nL 150.8125 50.210938 \nL 160.8125 50.210938 \n\" style=\"fill: none; stroke-dasharray: 9.6,2.4,1.5,2.4; stroke-dashoffset: 0; stroke: #2ca02c; stroke-width: 1.5\"/>\n    </g>\n    <g id=\"text_14\">\n     <!-- val_acc -->\n     <g transform=\"translate(168.8125 53.710938) scale(0.1 -0.1)\">\n      <use xlink:href=\"#DejaVuSans-76\"/>\n      <use xlink:href=\"#DejaVuSans-61\" x=\"59.179688\"/>\n      <use xlink:href=\"#DejaVuSans-6c\" x=\"120.458984\"/>\n      <use xlink:href=\"#DejaVuSans-5f\" x=\"148.242188\"/>\n      <use xlink:href=\"#DejaVuSans-61\" x=\"198.242188\"/>\n      <use xlink:href=\"#DejaVuSans-63\" x=\"259.521484\"/>\n      <use xlink:href=\"#DejaVuSans-63\" x=\"314.501953\"/>\n     </g>\n    </g>\n   </g>\n  </g>\n </g>\n <defs>\n  <clipPath id=\"pc5753b6161\">\n   <rect x=\"30.103125\" y=\"7.2\" width=\"195.3\" height=\"138.6\"/>\n  </clipPath>\n </defs>\n</svg>\n"
          },
          "metadata": {}
        }
      ]
    },
    {
      "cell_type": "markdown",
      "source": [
        "**8.2 key takeaways**\n",
        "\n",
        "\n",
        "*   VGG Networks introduced the concept of using \"blocks\" of convolutional layers for building deep networks. These blocks typically consist of repeated convolutions followed by pooling, effectively capturing features at different scales.\n",
        "\n",
        "*  VGG showed success with deep and narrow networks (many convolutional layers with fewer filters) compared to shallow and wide networks.\n",
        "\n",
        "\n",
        "*   The text only shows details for 8 blocks, while VGG-11 has 11 layers.The remaining 3 layers are fully connected layers, which don't affect spatial dimensions. Their output size is independent of input size. The fully connected layers are responsible for processing the flattened output from the convolutional part and generating class probabilities.\n",
        "\n",
        "\n"
      ],
      "metadata": {
        "id": "ik9wSSuruH8H"
      }
    },
    {
      "cell_type": "markdown",
      "source": [
        "**8.6. Residual Networks (ResNet) and ResNeXt**"
      ],
      "metadata": {
        "id": "2H5LZ0U7u0sP"
      }
    },
    {
      "cell_type": "code",
      "source": [
        "import torch\n",
        "from torch import nn\n",
        "from torch.nn import functional as F\n",
        "from d2l import torch as d2l"
      ],
      "metadata": {
        "id": "LXaFpkjEvD5q"
      },
      "execution_count": 39,
      "outputs": []
    },
    {
      "cell_type": "code",
      "source": [
        "class Residual(nn.Module):\n",
        "    # The Residual block of ResNet models\n",
        "    def __init__(self, num_channels, use_1x1conv=False, strides=1):\n",
        "        super().__init__()\n",
        "        self.conv1 = nn.LazyConv2d(num_channels, kernel_size=3, padding=1,\n",
        "                                   stride=strides)\n",
        "        self.conv2 = nn.LazyConv2d(num_channels, kernel_size=3, padding=1)\n",
        "        if use_1x1conv:\n",
        "            self.conv3 = nn.LazyConv2d(num_channels, kernel_size=1,\n",
        "                                       stride=strides)\n",
        "        else:\n",
        "            self.conv3 = None\n",
        "        self.bn1 = nn.LazyBatchNorm2d()\n",
        "        self.bn2 = nn.LazyBatchNorm2d()\n",
        "\n",
        "    def forward(self, X):\n",
        "        Y = F.relu(self.bn1(self.conv1(X)))\n",
        "        Y = self.bn2(self.conv2(Y))\n",
        "        if self.conv3:\n",
        "            X = self.conv3(X)\n",
        "        Y += X\n",
        "        return F.relu(Y)"
      ],
      "metadata": {
        "id": "umvUzicuvHmr"
      },
      "execution_count": 40,
      "outputs": []
    },
    {
      "cell_type": "code",
      "source": [
        "blk = Residual(3)\n",
        "X = torch.randn(4, 3, 6, 6)\n",
        "blk(X).shape"
      ],
      "metadata": {
        "colab": {
          "base_uri": "https://localhost:8080/"
        },
        "id": "TcFluXdPvRLQ",
        "outputId": "9e0ce2f2-abcc-4f25-82ba-172e8abf076c"
      },
      "execution_count": 41,
      "outputs": [
        {
          "output_type": "execute_result",
          "data": {
            "text/plain": [
              "torch.Size([4, 3, 6, 6])"
            ]
          },
          "metadata": {},
          "execution_count": 41
        }
      ]
    },
    {
      "cell_type": "code",
      "source": [
        "blk = Residual(6, use_1x1conv=True, strides=2)\n",
        "blk(X).shape"
      ],
      "metadata": {
        "colab": {
          "base_uri": "https://localhost:8080/"
        },
        "id": "5_2mAj9mvRxw",
        "outputId": "c71e4b37-a953-4a66-88e2-a35588937f2f"
      },
      "execution_count": 42,
      "outputs": [
        {
          "output_type": "execute_result",
          "data": {
            "text/plain": [
              "torch.Size([4, 6, 3, 3])"
            ]
          },
          "metadata": {},
          "execution_count": 42
        }
      ]
    },
    {
      "cell_type": "code",
      "source": [
        "class ResNet(d2l.Classifier):\n",
        "    def b1(self):\n",
        "        return nn.Sequential(\n",
        "            nn.LazyConv2d(64, kernel_size=7, stride=2, padding=3),\n",
        "            nn.LazyBatchNorm2d(), nn.ReLU(),\n",
        "            nn.MaxPool2d(kernel_size=3, stride=2, padding=1))"
      ],
      "metadata": {
        "id": "qIr29vhPvUDQ"
      },
      "execution_count": 43,
      "outputs": []
    },
    {
      "cell_type": "code",
      "source": [
        "@d2l.add_to_class(ResNet)\n",
        "def block(self, num_residuals, num_channels, first_block=False):\n",
        "    blk = []\n",
        "    for i in range(num_residuals):\n",
        "        if i == 0 and not first_block:\n",
        "            blk.append(Residual(num_channels, use_1x1conv=True, strides=2))\n",
        "        else:\n",
        "            blk.append(Residual(num_channels))\n",
        "    return nn.Sequential(*blk)"
      ],
      "metadata": {
        "id": "xADpfdkfvX_p"
      },
      "execution_count": 44,
      "outputs": []
    },
    {
      "cell_type": "code",
      "source": [
        "@d2l.add_to_class(ResNet)\n",
        "def __init__(self, arch, lr=0.1, num_classes=10):\n",
        "    super(ResNet, self).__init__()\n",
        "    self.save_hyperparameters()\n",
        "    self.net = nn.Sequential(self.b1())\n",
        "    for i, b in enumerate(arch):\n",
        "        self.net.add_module(f'b{i+2}', self.block(*b, first_block=(i==0)))\n",
        "    self.net.add_module('last', nn.Sequential(\n",
        "        nn.AdaptiveAvgPool2d((1, 1)), nn.Flatten(),\n",
        "        nn.LazyLinear(num_classes)))\n",
        "    self.net.apply(d2l.init_cnn)"
      ],
      "metadata": {
        "id": "rthyeMiFvYnA"
      },
      "execution_count": 45,
      "outputs": []
    },
    {
      "cell_type": "code",
      "source": [
        "class ResNet18(ResNet):\n",
        "    def __init__(self, lr=0.1, num_classes=10):\n",
        "        super().__init__(((2, 64), (2, 128), (2, 256), (2, 512)),\n",
        "                       lr, num_classes)\n",
        "\n",
        "ResNet18().layer_summary((1, 1, 96, 96))"
      ],
      "metadata": {
        "colab": {
          "base_uri": "https://localhost:8080/"
        },
        "id": "EB3tlHnTva7T",
        "outputId": "bac392b4-d735-4bda-9a90-2dd1254bb322"
      },
      "execution_count": 46,
      "outputs": [
        {
          "output_type": "stream",
          "name": "stdout",
          "text": [
            "Sequential output shape:\t torch.Size([1, 64, 24, 24])\n",
            "Sequential output shape:\t torch.Size([1, 64, 24, 24])\n",
            "Sequential output shape:\t torch.Size([1, 128, 12, 12])\n",
            "Sequential output shape:\t torch.Size([1, 256, 6, 6])\n",
            "Sequential output shape:\t torch.Size([1, 512, 3, 3])\n",
            "Sequential output shape:\t torch.Size([1, 10])\n"
          ]
        }
      ]
    },
    {
      "cell_type": "code",
      "source": [
        "model = ResNet18(lr=0.01)\n",
        "trainer = d2l.Trainer(max_epochs=10, num_gpus=1)\n",
        "data = d2l.FashionMNIST(batch_size=128, resize=(96, 96))\n",
        "model.apply_init([next(iter(data.get_dataloader(True)))[0]], d2l.init_cnn)\n",
        "trainer.fit(model, data)"
      ],
      "metadata": {
        "colab": {
          "base_uri": "https://localhost:8080/",
          "height": 265
        },
        "id": "23QlG3abvdlY",
        "outputId": "ce2b1d49-21dd-4e6a-97d4-3f76713deeb8"
      },
      "execution_count": 47,
      "outputs": [
        {
          "output_type": "display_data",
          "data": {
            "text/plain": [
              "<Figure size 350x250 with 1 Axes>"
            ],
            "image/svg+xml": "<?xml version=\"1.0\" encoding=\"utf-8\" standalone=\"no\"?>\n<!DOCTYPE svg PUBLIC \"-//W3C//DTD SVG 1.1//EN\"\n  \"http://www.w3.org/Graphics/SVG/1.1/DTD/svg11.dtd\">\n<svg xmlns:xlink=\"http://www.w3.org/1999/xlink\" width=\"238.965625pt\" height=\"183.35625pt\" viewBox=\"0 0 238.965625 183.35625\" xmlns=\"http://www.w3.org/2000/svg\" version=\"1.1\">\n <metadata>\n  <rdf:RDF xmlns:dc=\"http://purl.org/dc/elements/1.1/\" xmlns:cc=\"http://creativecommons.org/ns#\" xmlns:rdf=\"http://www.w3.org/1999/02/22-rdf-syntax-ns#\">\n   <cc:Work>\n    <dc:type rdf:resource=\"http://purl.org/dc/dcmitype/StillImage\"/>\n    <dc:date>2024-10-10T15:34:12.514399</dc:date>\n    <dc:format>image/svg+xml</dc:format>\n    <dc:creator>\n     <cc:Agent>\n      <dc:title>Matplotlib v3.7.2, https://matplotlib.org/</dc:title>\n     </cc:Agent>\n    </dc:creator>\n   </cc:Work>\n  </rdf:RDF>\n </metadata>\n <defs>\n  <style type=\"text/css\">*{stroke-linejoin: round; stroke-linecap: butt}</style>\n </defs>\n <g id=\"figure_1\">\n  <g id=\"patch_1\">\n   <path d=\"M 0 183.35625 \nL 238.965625 183.35625 \nL 238.965625 0 \nL 0 0 \nz\n\" style=\"fill: #ffffff\"/>\n  </g>\n  <g id=\"axes_1\">\n   <g id=\"patch_2\">\n    <path d=\"M 30.103125 145.8 \nL 225.403125 145.8 \nL 225.403125 7.2 \nL 30.103125 7.2 \nz\n\" style=\"fill: #ffffff\"/>\n   </g>\n   <g id=\"matplotlib.axis_1\">\n    <g id=\"xtick_1\">\n     <g id=\"line2d_1\">\n      <defs>\n       <path id=\"m6dfbf17669\" d=\"M 0 0 \nL 0 3.5 \n\" style=\"stroke: #000000; stroke-width: 0.8\"/>\n      </defs>\n      <g>\n       <use xlink:href=\"#m6dfbf17669\" x=\"30.103125\" y=\"145.8\" style=\"stroke: #000000; stroke-width: 0.8\"/>\n      </g>\n     </g>\n     <g id=\"text_1\">\n      <!-- 0 -->\n      <g transform=\"translate(26.921875 160.398438) scale(0.1 -0.1)\">\n       <defs>\n        <path id=\"DejaVuSans-30\" d=\"M 2034 4250 \nQ 1547 4250 1301 3770 \nQ 1056 3291 1056 2328 \nQ 1056 1369 1301 889 \nQ 1547 409 2034 409 \nQ 2525 409 2770 889 \nQ 3016 1369 3016 2328 \nQ 3016 3291 2770 3770 \nQ 2525 4250 2034 4250 \nz\nM 2034 4750 \nQ 2819 4750 3233 4129 \nQ 3647 3509 3647 2328 \nQ 3647 1150 3233 529 \nQ 2819 -91 2034 -91 \nQ 1250 -91 836 529 \nQ 422 1150 422 2328 \nQ 422 3509 836 4129 \nQ 1250 4750 2034 4750 \nz\n\" transform=\"scale(0.015625)\"/>\n       </defs>\n       <use xlink:href=\"#DejaVuSans-30\"/>\n      </g>\n     </g>\n    </g>\n    <g id=\"xtick_2\">\n     <g id=\"line2d_2\">\n      <g>\n       <use xlink:href=\"#m6dfbf17669\" x=\"69.163125\" y=\"145.8\" style=\"stroke: #000000; stroke-width: 0.8\"/>\n      </g>\n     </g>\n     <g id=\"text_2\">\n      <!-- 2 -->\n      <g transform=\"translate(65.981875 160.398438) scale(0.1 -0.1)\">\n       <defs>\n        <path id=\"DejaVuSans-32\" d=\"M 1228 531 \nL 3431 531 \nL 3431 0 \nL 469 0 \nL 469 531 \nQ 828 903 1448 1529 \nQ 2069 2156 2228 2338 \nQ 2531 2678 2651 2914 \nQ 2772 3150 2772 3378 \nQ 2772 3750 2511 3984 \nQ 2250 4219 1831 4219 \nQ 1534 4219 1204 4116 \nQ 875 4013 500 3803 \nL 500 4441 \nQ 881 4594 1212 4672 \nQ 1544 4750 1819 4750 \nQ 2544 4750 2975 4387 \nQ 3406 4025 3406 3419 \nQ 3406 3131 3298 2873 \nQ 3191 2616 2906 2266 \nQ 2828 2175 2409 1742 \nQ 1991 1309 1228 531 \nz\n\" transform=\"scale(0.015625)\"/>\n       </defs>\n       <use xlink:href=\"#DejaVuSans-32\"/>\n      </g>\n     </g>\n    </g>\n    <g id=\"xtick_3\">\n     <g id=\"line2d_3\">\n      <g>\n       <use xlink:href=\"#m6dfbf17669\" x=\"108.223125\" y=\"145.8\" style=\"stroke: #000000; stroke-width: 0.8\"/>\n      </g>\n     </g>\n     <g id=\"text_3\">\n      <!-- 4 -->\n      <g transform=\"translate(105.041875 160.398438) scale(0.1 -0.1)\">\n       <defs>\n        <path id=\"DejaVuSans-34\" d=\"M 2419 4116 \nL 825 1625 \nL 2419 1625 \nL 2419 4116 \nz\nM 2253 4666 \nL 3047 4666 \nL 3047 1625 \nL 3713 1625 \nL 3713 1100 \nL 3047 1100 \nL 3047 0 \nL 2419 0 \nL 2419 1100 \nL 313 1100 \nL 313 1709 \nL 2253 4666 \nz\n\" transform=\"scale(0.015625)\"/>\n       </defs>\n       <use xlink:href=\"#DejaVuSans-34\"/>\n      </g>\n     </g>\n    </g>\n    <g id=\"xtick_4\">\n     <g id=\"line2d_4\">\n      <g>\n       <use xlink:href=\"#m6dfbf17669\" x=\"147.283125\" y=\"145.8\" style=\"stroke: #000000; stroke-width: 0.8\"/>\n      </g>\n     </g>\n     <g id=\"text_4\">\n      <!-- 6 -->\n      <g transform=\"translate(144.101875 160.398438) scale(0.1 -0.1)\">\n       <defs>\n        <path id=\"DejaVuSans-36\" d=\"M 2113 2584 \nQ 1688 2584 1439 2293 \nQ 1191 2003 1191 1497 \nQ 1191 994 1439 701 \nQ 1688 409 2113 409 \nQ 2538 409 2786 701 \nQ 3034 994 3034 1497 \nQ 3034 2003 2786 2293 \nQ 2538 2584 2113 2584 \nz\nM 3366 4563 \nL 3366 3988 \nQ 3128 4100 2886 4159 \nQ 2644 4219 2406 4219 \nQ 1781 4219 1451 3797 \nQ 1122 3375 1075 2522 \nQ 1259 2794 1537 2939 \nQ 1816 3084 2150 3084 \nQ 2853 3084 3261 2657 \nQ 3669 2231 3669 1497 \nQ 3669 778 3244 343 \nQ 2819 -91 2113 -91 \nQ 1303 -91 875 529 \nQ 447 1150 447 2328 \nQ 447 3434 972 4092 \nQ 1497 4750 2381 4750 \nQ 2619 4750 2861 4703 \nQ 3103 4656 3366 4563 \nz\n\" transform=\"scale(0.015625)\"/>\n       </defs>\n       <use xlink:href=\"#DejaVuSans-36\"/>\n      </g>\n     </g>\n    </g>\n    <g id=\"xtick_5\">\n     <g id=\"line2d_5\">\n      <g>\n       <use xlink:href=\"#m6dfbf17669\" x=\"186.343125\" y=\"145.8\" style=\"stroke: #000000; stroke-width: 0.8\"/>\n      </g>\n     </g>\n     <g id=\"text_5\">\n      <!-- 8 -->\n      <g transform=\"translate(183.161875 160.398438) scale(0.1 -0.1)\">\n       <defs>\n        <path id=\"DejaVuSans-38\" d=\"M 2034 2216 \nQ 1584 2216 1326 1975 \nQ 1069 1734 1069 1313 \nQ 1069 891 1326 650 \nQ 1584 409 2034 409 \nQ 2484 409 2743 651 \nQ 3003 894 3003 1313 \nQ 3003 1734 2745 1975 \nQ 2488 2216 2034 2216 \nz\nM 1403 2484 \nQ 997 2584 770 2862 \nQ 544 3141 544 3541 \nQ 544 4100 942 4425 \nQ 1341 4750 2034 4750 \nQ 2731 4750 3128 4425 \nQ 3525 4100 3525 3541 \nQ 3525 3141 3298 2862 \nQ 3072 2584 2669 2484 \nQ 3125 2378 3379 2068 \nQ 3634 1759 3634 1313 \nQ 3634 634 3220 271 \nQ 2806 -91 2034 -91 \nQ 1263 -91 848 271 \nQ 434 634 434 1313 \nQ 434 1759 690 2068 \nQ 947 2378 1403 2484 \nz\nM 1172 3481 \nQ 1172 3119 1398 2916 \nQ 1625 2713 2034 2713 \nQ 2441 2713 2670 2916 \nQ 2900 3119 2900 3481 \nQ 2900 3844 2670 4047 \nQ 2441 4250 2034 4250 \nQ 1625 4250 1398 4047 \nQ 1172 3844 1172 3481 \nz\n\" transform=\"scale(0.015625)\"/>\n       </defs>\n       <use xlink:href=\"#DejaVuSans-38\"/>\n      </g>\n     </g>\n    </g>\n    <g id=\"xtick_6\">\n     <g id=\"line2d_6\">\n      <g>\n       <use xlink:href=\"#m6dfbf17669\" x=\"225.403125\" y=\"145.8\" style=\"stroke: #000000; stroke-width: 0.8\"/>\n      </g>\n     </g>\n     <g id=\"text_6\">\n      <!-- 10 -->\n      <g transform=\"translate(219.040625 160.398438) scale(0.1 -0.1)\">\n       <defs>\n        <path id=\"DejaVuSans-31\" d=\"M 794 531 \nL 1825 531 \nL 1825 4091 \nL 703 3866 \nL 703 4441 \nL 1819 4666 \nL 2450 4666 \nL 2450 531 \nL 3481 531 \nL 3481 0 \nL 794 0 \nL 794 531 \nz\n\" transform=\"scale(0.015625)\"/>\n       </defs>\n       <use xlink:href=\"#DejaVuSans-31\"/>\n       <use xlink:href=\"#DejaVuSans-30\" x=\"63.623047\"/>\n      </g>\n     </g>\n    </g>\n    <g id=\"text_7\">\n     <!-- epoch -->\n     <g transform=\"translate(112.525 174.076563) scale(0.1 -0.1)\">\n      <defs>\n       <path id=\"DejaVuSans-65\" d=\"M 3597 1894 \nL 3597 1613 \nL 953 1613 \nQ 991 1019 1311 708 \nQ 1631 397 2203 397 \nQ 2534 397 2845 478 \nQ 3156 559 3463 722 \nL 3463 178 \nQ 3153 47 2828 -22 \nQ 2503 -91 2169 -91 \nQ 1331 -91 842 396 \nQ 353 884 353 1716 \nQ 353 2575 817 3079 \nQ 1281 3584 2069 3584 \nQ 2775 3584 3186 3129 \nQ 3597 2675 3597 1894 \nz\nM 3022 2063 \nQ 3016 2534 2758 2815 \nQ 2500 3097 2075 3097 \nQ 1594 3097 1305 2825 \nQ 1016 2553 972 2059 \nL 3022 2063 \nz\n\" transform=\"scale(0.015625)\"/>\n       <path id=\"DejaVuSans-70\" d=\"M 1159 525 \nL 1159 -1331 \nL 581 -1331 \nL 581 3500 \nL 1159 3500 \nL 1159 2969 \nQ 1341 3281 1617 3432 \nQ 1894 3584 2278 3584 \nQ 2916 3584 3314 3078 \nQ 3713 2572 3713 1747 \nQ 3713 922 3314 415 \nQ 2916 -91 2278 -91 \nQ 1894 -91 1617 61 \nQ 1341 213 1159 525 \nz\nM 3116 1747 \nQ 3116 2381 2855 2742 \nQ 2594 3103 2138 3103 \nQ 1681 3103 1420 2742 \nQ 1159 2381 1159 1747 \nQ 1159 1113 1420 752 \nQ 1681 391 2138 391 \nQ 2594 391 2855 752 \nQ 3116 1113 3116 1747 \nz\n\" transform=\"scale(0.015625)\"/>\n       <path id=\"DejaVuSans-6f\" d=\"M 1959 3097 \nQ 1497 3097 1228 2736 \nQ 959 2375 959 1747 \nQ 959 1119 1226 758 \nQ 1494 397 1959 397 \nQ 2419 397 2687 759 \nQ 2956 1122 2956 1747 \nQ 2956 2369 2687 2733 \nQ 2419 3097 1959 3097 \nz\nM 1959 3584 \nQ 2709 3584 3137 3096 \nQ 3566 2609 3566 1747 \nQ 3566 888 3137 398 \nQ 2709 -91 1959 -91 \nQ 1206 -91 779 398 \nQ 353 888 353 1747 \nQ 353 2609 779 3096 \nQ 1206 3584 1959 3584 \nz\n\" transform=\"scale(0.015625)\"/>\n       <path id=\"DejaVuSans-63\" d=\"M 3122 3366 \nL 3122 2828 \nQ 2878 2963 2633 3030 \nQ 2388 3097 2138 3097 \nQ 1578 3097 1268 2742 \nQ 959 2388 959 1747 \nQ 959 1106 1268 751 \nQ 1578 397 2138 397 \nQ 2388 397 2633 464 \nQ 2878 531 3122 666 \nL 3122 134 \nQ 2881 22 2623 -34 \nQ 2366 -91 2075 -91 \nQ 1284 -91 818 406 \nQ 353 903 353 1747 \nQ 353 2603 823 3093 \nQ 1294 3584 2113 3584 \nQ 2378 3584 2631 3529 \nQ 2884 3475 3122 3366 \nz\n\" transform=\"scale(0.015625)\"/>\n       <path id=\"DejaVuSans-68\" d=\"M 3513 2113 \nL 3513 0 \nL 2938 0 \nL 2938 2094 \nQ 2938 2591 2744 2837 \nQ 2550 3084 2163 3084 \nQ 1697 3084 1428 2787 \nQ 1159 2491 1159 1978 \nL 1159 0 \nL 581 0 \nL 581 4863 \nL 1159 4863 \nL 1159 2956 \nQ 1366 3272 1645 3428 \nQ 1925 3584 2291 3584 \nQ 2894 3584 3203 3211 \nQ 3513 2838 3513 2113 \nz\n\" transform=\"scale(0.015625)\"/>\n      </defs>\n      <use xlink:href=\"#DejaVuSans-65\"/>\n      <use xlink:href=\"#DejaVuSans-70\" x=\"61.523438\"/>\n      <use xlink:href=\"#DejaVuSans-6f\" x=\"125\"/>\n      <use xlink:href=\"#DejaVuSans-63\" x=\"186.181641\"/>\n      <use xlink:href=\"#DejaVuSans-68\" x=\"241.162109\"/>\n     </g>\n    </g>\n   </g>\n   <g id=\"matplotlib.axis_2\">\n    <g id=\"ytick_1\">\n     <g id=\"line2d_7\">\n      <defs>\n       <path id=\"mf283c0abc5\" d=\"M 0 0 \nL -3.5 0 \n\" style=\"stroke: #000000; stroke-width: 0.8\"/>\n      </defs>\n      <g>\n       <use xlink:href=\"#mf283c0abc5\" x=\"30.103125\" y=\"142.816358\" style=\"stroke: #000000; stroke-width: 0.8\"/>\n      </g>\n     </g>\n     <g id=\"text_8\">\n      <!-- 0.0 -->\n      <g transform=\"translate(7.2 146.615576) scale(0.1 -0.1)\">\n       <defs>\n        <path id=\"DejaVuSans-2e\" d=\"M 684 794 \nL 1344 794 \nL 1344 0 \nL 684 0 \nL 684 794 \nz\n\" transform=\"scale(0.015625)\"/>\n       </defs>\n       <use xlink:href=\"#DejaVuSans-30\"/>\n       <use xlink:href=\"#DejaVuSans-2e\" x=\"63.623047\"/>\n       <use xlink:href=\"#DejaVuSans-30\" x=\"95.410156\"/>\n      </g>\n     </g>\n    </g>\n    <g id=\"ytick_2\">\n     <g id=\"line2d_8\">\n      <g>\n       <use xlink:href=\"#mf283c0abc5\" x=\"30.103125\" y=\"114.401603\" style=\"stroke: #000000; stroke-width: 0.8\"/>\n      </g>\n     </g>\n     <g id=\"text_9\">\n      <!-- 0.2 -->\n      <g transform=\"translate(7.2 118.200822) scale(0.1 -0.1)\">\n       <use xlink:href=\"#DejaVuSans-30\"/>\n       <use xlink:href=\"#DejaVuSans-2e\" x=\"63.623047\"/>\n       <use xlink:href=\"#DejaVuSans-32\" x=\"95.410156\"/>\n      </g>\n     </g>\n    </g>\n    <g id=\"ytick_3\">\n     <g id=\"line2d_9\">\n      <g>\n       <use xlink:href=\"#mf283c0abc5\" x=\"30.103125\" y=\"85.986848\" style=\"stroke: #000000; stroke-width: 0.8\"/>\n      </g>\n     </g>\n     <g id=\"text_10\">\n      <!-- 0.4 -->\n      <g transform=\"translate(7.2 89.786067) scale(0.1 -0.1)\">\n       <use xlink:href=\"#DejaVuSans-30\"/>\n       <use xlink:href=\"#DejaVuSans-2e\" x=\"63.623047\"/>\n       <use xlink:href=\"#DejaVuSans-34\" x=\"95.410156\"/>\n      </g>\n     </g>\n    </g>\n    <g id=\"ytick_4\">\n     <g id=\"line2d_10\">\n      <g>\n       <use xlink:href=\"#mf283c0abc5\" x=\"30.103125\" y=\"57.572094\" style=\"stroke: #000000; stroke-width: 0.8\"/>\n      </g>\n     </g>\n     <g id=\"text_11\">\n      <!-- 0.6 -->\n      <g transform=\"translate(7.2 61.371313) scale(0.1 -0.1)\">\n       <use xlink:href=\"#DejaVuSans-30\"/>\n       <use xlink:href=\"#DejaVuSans-2e\" x=\"63.623047\"/>\n       <use xlink:href=\"#DejaVuSans-36\" x=\"95.410156\"/>\n      </g>\n     </g>\n    </g>\n    <g id=\"ytick_5\">\n     <g id=\"line2d_11\">\n      <g>\n       <use xlink:href=\"#mf283c0abc5\" x=\"30.103125\" y=\"29.157339\" style=\"stroke: #000000; stroke-width: 0.8\"/>\n      </g>\n     </g>\n     <g id=\"text_12\">\n      <!-- 0.8 -->\n      <g transform=\"translate(7.2 32.956558) scale(0.1 -0.1)\">\n       <use xlink:href=\"#DejaVuSans-30\"/>\n       <use xlink:href=\"#DejaVuSans-2e\" x=\"63.623047\"/>\n       <use xlink:href=\"#DejaVuSans-38\" x=\"95.410156\"/>\n      </g>\n     </g>\n    </g>\n   </g>\n   <g id=\"line2d_12\">\n    <path d=\"M 34.954394 62.706221 \n\" clip-path=\"url(#p97814a1710)\" style=\"fill: none; stroke: #1f77b4; stroke-width: 1.5; stroke-linecap: square\"/>\n   </g>\n   <g id=\"line2d_13\">\n    <path d=\"M 34.954394 62.706221 \nL 44.698573 92.527103 \n\" clip-path=\"url(#p97814a1710)\" style=\"fill: none; stroke: #1f77b4; stroke-width: 1.5; stroke-linecap: square\"/>\n   </g>\n   <g id=\"line2d_14\">\n    <path d=\"M 34.954394 62.706221 \nL 44.698573 92.527103 \n\" clip-path=\"url(#p97814a1710)\" style=\"fill: none; stroke: #1f77b4; stroke-width: 1.5; stroke-linecap: square\"/>\n   </g>\n   <g id=\"line2d_15\">\n    <path d=\"M 49.633125 95.273406 \n\" clip-path=\"url(#p97814a1710)\" style=\"fill: none; stroke-dasharray: 5.55,2.4; stroke-dashoffset: 0; stroke: #ff7f0e; stroke-width: 1.5\"/>\n   </g>\n   <g id=\"line2d_16\"/>\n   <g id=\"line2d_17\">\n    <path d=\"M 34.954394 62.706221 \nL 44.698573 92.527103 \n\" clip-path=\"url(#p97814a1710)\" style=\"fill: none; stroke: #1f77b4; stroke-width: 1.5; stroke-linecap: square\"/>\n   </g>\n   <g id=\"line2d_18\">\n    <path d=\"M 49.633125 95.273406 \n\" clip-path=\"url(#p97814a1710)\" style=\"fill: none; stroke-dasharray: 5.55,2.4; stroke-dashoffset: 0; stroke: #ff7f0e; stroke-width: 1.5\"/>\n   </g>\n   <g id=\"line2d_19\">\n    <path d=\"M 49.633125 17.799305 \n\" clip-path=\"url(#p97814a1710)\" style=\"fill: none; stroke-dasharray: 9.6,2.4,1.5,2.4; stroke-dashoffset: 0; stroke: #2ca02c; stroke-width: 1.5\"/>\n   </g>\n   <g id=\"line2d_20\">\n    <path d=\"M 34.954394 62.706221 \nL 44.698573 92.527103 \nL 54.442752 103.762323 \n\" clip-path=\"url(#p97814a1710)\" style=\"fill: none; stroke: #1f77b4; stroke-width: 1.5; stroke-linecap: square\"/>\n   </g>\n   <g id=\"line2d_21\">\n    <path d=\"M 49.633125 95.273406 \n\" clip-path=\"url(#p97814a1710)\" style=\"fill: none; stroke-dasharray: 5.55,2.4; stroke-dashoffset: 0; stroke: #ff7f0e; stroke-width: 1.5\"/>\n   </g>\n   <g id=\"line2d_22\">\n    <path d=\"M 49.633125 17.799305 \n\" clip-path=\"url(#p97814a1710)\" style=\"fill: none; stroke-dasharray: 9.6,2.4,1.5,2.4; stroke-dashoffset: 0; stroke: #2ca02c; stroke-width: 1.5\"/>\n   </g>\n   <g id=\"line2d_23\">\n    <path d=\"M 34.954394 62.706221 \nL 44.698573 92.527103 \nL 54.442752 103.762323 \nL 64.186931 104.911815 \n\" clip-path=\"url(#p97814a1710)\" style=\"fill: none; stroke: #1f77b4; stroke-width: 1.5; stroke-linecap: square\"/>\n   </g>\n   <g id=\"line2d_24\">\n    <path d=\"M 49.633125 95.273406 \n\" clip-path=\"url(#p97814a1710)\" style=\"fill: none; stroke-dasharray: 5.55,2.4; stroke-dashoffset: 0; stroke: #ff7f0e; stroke-width: 1.5\"/>\n   </g>\n   <g id=\"line2d_25\">\n    <path d=\"M 49.633125 17.799305 \n\" clip-path=\"url(#p97814a1710)\" style=\"fill: none; stroke-dasharray: 9.6,2.4,1.5,2.4; stroke-dashoffset: 0; stroke: #2ca02c; stroke-width: 1.5\"/>\n   </g>\n   <g id=\"line2d_26\">\n    <path d=\"M 34.954394 62.706221 \nL 44.698573 92.527103 \nL 54.442752 103.762323 \nL 64.186931 104.911815 \n\" clip-path=\"url(#p97814a1710)\" style=\"fill: none; stroke: #1f77b4; stroke-width: 1.5; stroke-linecap: square\"/>\n   </g>\n   <g id=\"line2d_27\">\n    <path d=\"M 49.633125 95.273406 \nL 69.163125 97.985168 \n\" clip-path=\"url(#p97814a1710)\" style=\"fill: none; stroke-dasharray: 5.55,2.4; stroke-dashoffset: 0; stroke: #ff7f0e; stroke-width: 1.5\"/>\n   </g>\n   <g id=\"line2d_28\">\n    <path d=\"M 49.633125 17.799305 \n\" clip-path=\"url(#p97814a1710)\" style=\"fill: none; stroke-dasharray: 9.6,2.4,1.5,2.4; stroke-dashoffset: 0; stroke: #2ca02c; stroke-width: 1.5\"/>\n   </g>\n   <g id=\"line2d_29\">\n    <path d=\"M 34.954394 62.706221 \nL 44.698573 92.527103 \nL 54.442752 103.762323 \nL 64.186931 104.911815 \n\" clip-path=\"url(#p97814a1710)\" style=\"fill: none; stroke: #1f77b4; stroke-width: 1.5; stroke-linecap: square\"/>\n   </g>\n   <g id=\"line2d_30\">\n    <path d=\"M 49.633125 95.273406 \nL 69.163125 97.985168 \n\" clip-path=\"url(#p97814a1710)\" style=\"fill: none; stroke-dasharray: 5.55,2.4; stroke-dashoffset: 0; stroke: #ff7f0e; stroke-width: 1.5\"/>\n   </g>\n   <g id=\"line2d_31\">\n    <path d=\"M 49.633125 17.799305 \nL 69.163125 17.124904 \n\" clip-path=\"url(#p97814a1710)\" style=\"fill: none; stroke-dasharray: 9.6,2.4,1.5,2.4; stroke-dashoffset: 0; stroke: #2ca02c; stroke-width: 1.5\"/>\n   </g>\n   <g id=\"line2d_32\">\n    <path d=\"M 34.954394 62.706221 \nL 44.698573 92.527103 \nL 54.442752 103.762323 \nL 64.186931 104.911815 \nL 73.93111 112.400078 \n\" clip-path=\"url(#p97814a1710)\" style=\"fill: none; stroke: #1f77b4; stroke-width: 1.5; stroke-linecap: square\"/>\n   </g>\n   <g id=\"line2d_33\">\n    <path d=\"M 49.633125 95.273406 \nL 69.163125 97.985168 \n\" clip-path=\"url(#p97814a1710)\" style=\"fill: none; stroke-dasharray: 5.55,2.4; stroke-dashoffset: 0; stroke: #ff7f0e; stroke-width: 1.5\"/>\n   </g>\n   <g id=\"line2d_34\">\n    <path d=\"M 49.633125 17.799305 \nL 69.163125 17.124904 \n\" clip-path=\"url(#p97814a1710)\" style=\"fill: none; stroke-dasharray: 9.6,2.4,1.5,2.4; stroke-dashoffset: 0; stroke: #2ca02c; stroke-width: 1.5\"/>\n   </g>\n   <g id=\"line2d_35\">\n    <path d=\"M 34.954394 62.706221 \nL 44.698573 92.527103 \nL 54.442752 103.762323 \nL 64.186931 104.911815 \nL 73.93111 112.400078 \nL 83.675289 112.919978 \n\" clip-path=\"url(#p97814a1710)\" style=\"fill: none; stroke: #1f77b4; stroke-width: 1.5; stroke-linecap: square\"/>\n   </g>\n   <g id=\"line2d_36\">\n    <path d=\"M 49.633125 95.273406 \nL 69.163125 97.985168 \n\" clip-path=\"url(#p97814a1710)\" style=\"fill: none; stroke-dasharray: 5.55,2.4; stroke-dashoffset: 0; stroke: #ff7f0e; stroke-width: 1.5\"/>\n   </g>\n   <g id=\"line2d_37\">\n    <path d=\"M 49.633125 17.799305 \nL 69.163125 17.124904 \n\" clip-path=\"url(#p97814a1710)\" style=\"fill: none; stroke-dasharray: 9.6,2.4,1.5,2.4; stroke-dashoffset: 0; stroke: #2ca02c; stroke-width: 1.5\"/>\n   </g>\n   <g id=\"line2d_38\">\n    <path d=\"M 34.954394 62.706221 \nL 44.698573 92.527103 \nL 54.442752 103.762323 \nL 64.186931 104.911815 \nL 73.93111 112.400078 \nL 83.675289 112.919978 \n\" clip-path=\"url(#p97814a1710)\" style=\"fill: none; stroke: #1f77b4; stroke-width: 1.5; stroke-linecap: square\"/>\n   </g>\n   <g id=\"line2d_39\">\n    <path d=\"M 49.633125 95.273406 \nL 69.163125 97.985168 \nL 88.693125 100.64559 \n\" clip-path=\"url(#p97814a1710)\" style=\"fill: none; stroke-dasharray: 5.55,2.4; stroke-dashoffset: 0; stroke: #ff7f0e; stroke-width: 1.5\"/>\n   </g>\n   <g id=\"line2d_40\">\n    <path d=\"M 49.633125 17.799305 \nL 69.163125 17.124904 \n\" clip-path=\"url(#p97814a1710)\" style=\"fill: none; stroke-dasharray: 9.6,2.4,1.5,2.4; stroke-dashoffset: 0; stroke: #2ca02c; stroke-width: 1.5\"/>\n   </g>\n   <g id=\"line2d_41\">\n    <path d=\"M 34.954394 62.706221 \nL 44.698573 92.527103 \nL 54.442752 103.762323 \nL 64.186931 104.911815 \nL 73.93111 112.400078 \nL 83.675289 112.919978 \n\" clip-path=\"url(#p97814a1710)\" style=\"fill: none; stroke: #1f77b4; stroke-width: 1.5; stroke-linecap: square\"/>\n   </g>\n   <g id=\"line2d_42\">\n    <path d=\"M 49.633125 95.273406 \nL 69.163125 97.985168 \nL 88.693125 100.64559 \n\" clip-path=\"url(#p97814a1710)\" style=\"fill: none; stroke-dasharray: 5.55,2.4; stroke-dashoffset: 0; stroke: #ff7f0e; stroke-width: 1.5\"/>\n   </g>\n   <g id=\"line2d_43\">\n    <path d=\"M 49.633125 17.799305 \nL 69.163125 17.124904 \nL 88.693125 16.183553 \n\" clip-path=\"url(#p97814a1710)\" style=\"fill: none; stroke-dasharray: 9.6,2.4,1.5,2.4; stroke-dashoffset: 0; stroke: #2ca02c; stroke-width: 1.5\"/>\n   </g>\n   <g id=\"line2d_44\">\n    <path d=\"M 34.954394 62.706221 \nL 44.698573 92.527103 \nL 54.442752 103.762323 \nL 64.186931 104.911815 \nL 73.93111 112.400078 \nL 83.675289 112.919978 \nL 93.419468 119.646976 \n\" clip-path=\"url(#p97814a1710)\" style=\"fill: none; stroke: #1f77b4; stroke-width: 1.5; stroke-linecap: square\"/>\n   </g>\n   <g id=\"line2d_45\">\n    <path d=\"M 49.633125 95.273406 \nL 69.163125 97.985168 \nL 88.693125 100.64559 \n\" clip-path=\"url(#p97814a1710)\" style=\"fill: none; stroke-dasharray: 5.55,2.4; stroke-dashoffset: 0; stroke: #ff7f0e; stroke-width: 1.5\"/>\n   </g>\n   <g id=\"line2d_46\">\n    <path d=\"M 49.633125 17.799305 \nL 69.163125 17.124904 \nL 88.693125 16.183553 \n\" clip-path=\"url(#p97814a1710)\" style=\"fill: none; stroke-dasharray: 9.6,2.4,1.5,2.4; stroke-dashoffset: 0; stroke: #2ca02c; stroke-width: 1.5\"/>\n   </g>\n   <g id=\"line2d_47\">\n    <path d=\"M 34.954394 62.706221 \nL 44.698573 92.527103 \nL 54.442752 103.762323 \nL 64.186931 104.911815 \nL 73.93111 112.400078 \nL 83.675289 112.919978 \nL 93.419468 119.646976 \nL 103.163647 118.710815 \n\" clip-path=\"url(#p97814a1710)\" style=\"fill: none; stroke: #1f77b4; stroke-width: 1.5; stroke-linecap: square\"/>\n   </g>\n   <g id=\"line2d_48\">\n    <path d=\"M 49.633125 95.273406 \nL 69.163125 97.985168 \nL 88.693125 100.64559 \n\" clip-path=\"url(#p97814a1710)\" style=\"fill: none; stroke-dasharray: 5.55,2.4; stroke-dashoffset: 0; stroke: #ff7f0e; stroke-width: 1.5\"/>\n   </g>\n   <g id=\"line2d_49\">\n    <path d=\"M 49.633125 17.799305 \nL 69.163125 17.124904 \nL 88.693125 16.183553 \n\" clip-path=\"url(#p97814a1710)\" style=\"fill: none; stroke-dasharray: 9.6,2.4,1.5,2.4; stroke-dashoffset: 0; stroke: #2ca02c; stroke-width: 1.5\"/>\n   </g>\n   <g id=\"line2d_50\">\n    <path d=\"M 34.954394 62.706221 \nL 44.698573 92.527103 \nL 54.442752 103.762323 \nL 64.186931 104.911815 \nL 73.93111 112.400078 \nL 83.675289 112.919978 \nL 93.419468 119.646976 \nL 103.163647 118.710815 \n\" clip-path=\"url(#p97814a1710)\" style=\"fill: none; stroke: #1f77b4; stroke-width: 1.5; stroke-linecap: square\"/>\n   </g>\n   <g id=\"line2d_51\">\n    <path d=\"M 49.633125 95.273406 \nL 69.163125 97.985168 \nL 88.693125 100.64559 \nL 108.223125 104.001351 \n\" clip-path=\"url(#p97814a1710)\" style=\"fill: none; stroke-dasharray: 5.55,2.4; stroke-dashoffset: 0; stroke: #ff7f0e; stroke-width: 1.5\"/>\n   </g>\n   <g id=\"line2d_52\">\n    <path d=\"M 49.633125 17.799305 \nL 69.163125 17.124904 \nL 88.693125 16.183553 \n\" clip-path=\"url(#p97814a1710)\" style=\"fill: none; stroke-dasharray: 9.6,2.4,1.5,2.4; stroke-dashoffset: 0; stroke: #2ca02c; stroke-width: 1.5\"/>\n   </g>\n   <g id=\"line2d_53\">\n    <path d=\"M 34.954394 62.706221 \nL 44.698573 92.527103 \nL 54.442752 103.762323 \nL 64.186931 104.911815 \nL 73.93111 112.400078 \nL 83.675289 112.919978 \nL 93.419468 119.646976 \nL 103.163647 118.710815 \n\" clip-path=\"url(#p97814a1710)\" style=\"fill: none; stroke: #1f77b4; stroke-width: 1.5; stroke-linecap: square\"/>\n   </g>\n   <g id=\"line2d_54\">\n    <path d=\"M 49.633125 95.273406 \nL 69.163125 97.985168 \nL 88.693125 100.64559 \nL 108.223125 104.001351 \n\" clip-path=\"url(#p97814a1710)\" style=\"fill: none; stroke-dasharray: 5.55,2.4; stroke-dashoffset: 0; stroke: #ff7f0e; stroke-width: 1.5\"/>\n   </g>\n   <g id=\"line2d_55\">\n    <path d=\"M 49.633125 17.799305 \nL 69.163125 17.124904 \nL 88.693125 16.183553 \nL 108.223125 14.666151 \n\" clip-path=\"url(#p97814a1710)\" style=\"fill: none; stroke-dasharray: 9.6,2.4,1.5,2.4; stroke-dashoffset: 0; stroke: #2ca02c; stroke-width: 1.5\"/>\n   </g>\n   <g id=\"line2d_56\">\n    <path d=\"M 34.954394 62.706221 \nL 44.698573 92.527103 \nL 54.442752 103.762323 \nL 64.186931 104.911815 \nL 73.93111 112.400078 \nL 83.675289 112.919978 \nL 93.419468 119.646976 \nL 103.163647 118.710815 \nL 112.907826 124.432682 \n\" clip-path=\"url(#p97814a1710)\" style=\"fill: none; stroke: #1f77b4; stroke-width: 1.5; stroke-linecap: square\"/>\n   </g>\n   <g id=\"line2d_57\">\n    <path d=\"M 49.633125 95.273406 \nL 69.163125 97.985168 \nL 88.693125 100.64559 \nL 108.223125 104.001351 \n\" clip-path=\"url(#p97814a1710)\" style=\"fill: none; stroke-dasharray: 5.55,2.4; stroke-dashoffset: 0; stroke: #ff7f0e; stroke-width: 1.5\"/>\n   </g>\n   <g id=\"line2d_58\">\n    <path d=\"M 49.633125 17.799305 \nL 69.163125 17.124904 \nL 88.693125 16.183553 \nL 108.223125 14.666151 \n\" clip-path=\"url(#p97814a1710)\" style=\"fill: none; stroke-dasharray: 9.6,2.4,1.5,2.4; stroke-dashoffset: 0; stroke: #2ca02c; stroke-width: 1.5\"/>\n   </g>\n   <g id=\"line2d_59\">\n    <path d=\"M 34.954394 62.706221 \nL 44.698573 92.527103 \nL 54.442752 103.762323 \nL 64.186931 104.911815 \nL 73.93111 112.400078 \nL 83.675289 112.919978 \nL 93.419468 119.646976 \nL 103.163647 118.710815 \nL 112.907826 124.432682 \nL 122.652006 123.612083 \n\" clip-path=\"url(#p97814a1710)\" style=\"fill: none; stroke: #1f77b4; stroke-width: 1.5; stroke-linecap: square\"/>\n   </g>\n   <g id=\"line2d_60\">\n    <path d=\"M 49.633125 95.273406 \nL 69.163125 97.985168 \nL 88.693125 100.64559 \nL 108.223125 104.001351 \n\" clip-path=\"url(#p97814a1710)\" style=\"fill: none; stroke-dasharray: 5.55,2.4; stroke-dashoffset: 0; stroke: #ff7f0e; stroke-width: 1.5\"/>\n   </g>\n   <g id=\"line2d_61\">\n    <path d=\"M 49.633125 17.799305 \nL 69.163125 17.124904 \nL 88.693125 16.183553 \nL 108.223125 14.666151 \n\" clip-path=\"url(#p97814a1710)\" style=\"fill: none; stroke-dasharray: 9.6,2.4,1.5,2.4; stroke-dashoffset: 0; stroke: #2ca02c; stroke-width: 1.5\"/>\n   </g>\n   <g id=\"line2d_62\">\n    <path d=\"M 34.954394 62.706221 \nL 44.698573 92.527103 \nL 54.442752 103.762323 \nL 64.186931 104.911815 \nL 73.93111 112.400078 \nL 83.675289 112.919978 \nL 93.419468 119.646976 \nL 103.163647 118.710815 \nL 112.907826 124.432682 \nL 122.652006 123.612083 \n\" clip-path=\"url(#p97814a1710)\" style=\"fill: none; stroke: #1f77b4; stroke-width: 1.5; stroke-linecap: square\"/>\n   </g>\n   <g id=\"line2d_63\">\n    <path d=\"M 49.633125 95.273406 \nL 69.163125 97.985168 \nL 88.693125 100.64559 \nL 108.223125 104.001351 \nL 127.753125 88.717105 \n\" clip-path=\"url(#p97814a1710)\" style=\"fill: none; stroke-dasharray: 5.55,2.4; stroke-dashoffset: 0; stroke: #ff7f0e; stroke-width: 1.5\"/>\n   </g>\n   <g id=\"line2d_64\">\n    <path d=\"M 49.633125 17.799305 \nL 69.163125 17.124904 \nL 88.693125 16.183553 \nL 108.223125 14.666151 \n\" clip-path=\"url(#p97814a1710)\" style=\"fill: none; stroke-dasharray: 9.6,2.4,1.5,2.4; stroke-dashoffset: 0; stroke: #2ca02c; stroke-width: 1.5\"/>\n   </g>\n   <g id=\"line2d_65\">\n    <path d=\"M 34.954394 62.706221 \nL 44.698573 92.527103 \nL 54.442752 103.762323 \nL 64.186931 104.911815 \nL 73.93111 112.400078 \nL 83.675289 112.919978 \nL 93.419468 119.646976 \nL 103.163647 118.710815 \nL 112.907826 124.432682 \nL 122.652006 123.612083 \n\" clip-path=\"url(#p97814a1710)\" style=\"fill: none; stroke: #1f77b4; stroke-width: 1.5; stroke-linecap: square\"/>\n   </g>\n   <g id=\"line2d_66\">\n    <path d=\"M 49.633125 95.273406 \nL 69.163125 97.985168 \nL 88.693125 100.64559 \nL 108.223125 104.001351 \nL 127.753125 88.717105 \n\" clip-path=\"url(#p97814a1710)\" style=\"fill: none; stroke-dasharray: 5.55,2.4; stroke-dashoffset: 0; stroke: #ff7f0e; stroke-width: 1.5\"/>\n   </g>\n   <g id=\"line2d_67\">\n    <path d=\"M 49.633125 17.799305 \nL 69.163125 17.124904 \nL 88.693125 16.183553 \nL 108.223125 14.666151 \nL 127.753125 18.417506 \n\" clip-path=\"url(#p97814a1710)\" style=\"fill: none; stroke-dasharray: 9.6,2.4,1.5,2.4; stroke-dashoffset: 0; stroke: #2ca02c; stroke-width: 1.5\"/>\n   </g>\n   <g id=\"line2d_68\">\n    <path d=\"M 34.954394 62.706221 \nL 44.698573 92.527103 \nL 54.442752 103.762323 \nL 64.186931 104.911815 \nL 73.93111 112.400078 \nL 83.675289 112.919978 \nL 93.419468 119.646976 \nL 103.163647 118.710815 \nL 112.907826 124.432682 \nL 122.652006 123.612083 \nL 132.396185 129.09707 \n\" clip-path=\"url(#p97814a1710)\" style=\"fill: none; stroke: #1f77b4; stroke-width: 1.5; stroke-linecap: square\"/>\n   </g>\n   <g id=\"line2d_69\">\n    <path d=\"M 49.633125 95.273406 \nL 69.163125 97.985168 \nL 88.693125 100.64559 \nL 108.223125 104.001351 \nL 127.753125 88.717105 \n\" clip-path=\"url(#p97814a1710)\" style=\"fill: none; stroke-dasharray: 5.55,2.4; stroke-dashoffset: 0; stroke: #ff7f0e; stroke-width: 1.5\"/>\n   </g>\n   <g id=\"line2d_70\">\n    <path d=\"M 49.633125 17.799305 \nL 69.163125 17.124904 \nL 88.693125 16.183553 \nL 108.223125 14.666151 \nL 127.753125 18.417506 \n\" clip-path=\"url(#p97814a1710)\" style=\"fill: none; stroke-dasharray: 9.6,2.4,1.5,2.4; stroke-dashoffset: 0; stroke: #2ca02c; stroke-width: 1.5\"/>\n   </g>\n   <g id=\"line2d_71\">\n    <path d=\"M 34.954394 62.706221 \nL 44.698573 92.527103 \nL 54.442752 103.762323 \nL 64.186931 104.911815 \nL 73.93111 112.400078 \nL 83.675289 112.919978 \nL 93.419468 119.646976 \nL 103.163647 118.710815 \nL 112.907826 124.432682 \nL 122.652006 123.612083 \nL 132.396185 129.09707 \nL 142.140364 128.276518 \n\" clip-path=\"url(#p97814a1710)\" style=\"fill: none; stroke: #1f77b4; stroke-width: 1.5; stroke-linecap: square\"/>\n   </g>\n   <g id=\"line2d_72\">\n    <path d=\"M 49.633125 95.273406 \nL 69.163125 97.985168 \nL 88.693125 100.64559 \nL 108.223125 104.001351 \nL 127.753125 88.717105 \n\" clip-path=\"url(#p97814a1710)\" style=\"fill: none; stroke-dasharray: 5.55,2.4; stroke-dashoffset: 0; stroke: #ff7f0e; stroke-width: 1.5\"/>\n   </g>\n   <g id=\"line2d_73\">\n    <path d=\"M 49.633125 17.799305 \nL 69.163125 17.124904 \nL 88.693125 16.183553 \nL 108.223125 14.666151 \nL 127.753125 18.417506 \n\" clip-path=\"url(#p97814a1710)\" style=\"fill: none; stroke-dasharray: 9.6,2.4,1.5,2.4; stroke-dashoffset: 0; stroke: #2ca02c; stroke-width: 1.5\"/>\n   </g>\n   <g id=\"line2d_74\">\n    <path d=\"M 34.954394 62.706221 \nL 44.698573 92.527103 \nL 54.442752 103.762323 \nL 64.186931 104.911815 \nL 73.93111 112.400078 \nL 83.675289 112.919978 \nL 93.419468 119.646976 \nL 103.163647 118.710815 \nL 112.907826 124.432682 \nL 122.652006 123.612083 \nL 132.396185 129.09707 \nL 142.140364 128.276518 \n\" clip-path=\"url(#p97814a1710)\" style=\"fill: none; stroke: #1f77b4; stroke-width: 1.5; stroke-linecap: square\"/>\n   </g>\n   <g id=\"line2d_75\">\n    <path d=\"M 49.633125 95.273406 \nL 69.163125 97.985168 \nL 88.693125 100.64559 \nL 108.223125 104.001351 \nL 127.753125 88.717105 \nL 147.283125 105.044692 \n\" clip-path=\"url(#p97814a1710)\" style=\"fill: none; stroke-dasharray: 5.55,2.4; stroke-dashoffset: 0; stroke: #ff7f0e; stroke-width: 1.5\"/>\n   </g>\n   <g id=\"line2d_76\">\n    <path d=\"M 49.633125 17.799305 \nL 69.163125 17.124904 \nL 88.693125 16.183553 \nL 108.223125 14.666151 \nL 127.753125 18.417506 \n\" clip-path=\"url(#p97814a1710)\" style=\"fill: none; stroke-dasharray: 9.6,2.4,1.5,2.4; stroke-dashoffset: 0; stroke: #2ca02c; stroke-width: 1.5\"/>\n   </g>\n   <g id=\"line2d_77\">\n    <path d=\"M 34.954394 62.706221 \nL 44.698573 92.527103 \nL 54.442752 103.762323 \nL 64.186931 104.911815 \nL 73.93111 112.400078 \nL 83.675289 112.919978 \nL 93.419468 119.646976 \nL 103.163647 118.710815 \nL 112.907826 124.432682 \nL 122.652006 123.612083 \nL 132.396185 129.09707 \nL 142.140364 128.276518 \n\" clip-path=\"url(#p97814a1710)\" style=\"fill: none; stroke: #1f77b4; stroke-width: 1.5; stroke-linecap: square\"/>\n   </g>\n   <g id=\"line2d_78\">\n    <path d=\"M 49.633125 95.273406 \nL 69.163125 97.985168 \nL 88.693125 100.64559 \nL 108.223125 104.001351 \nL 127.753125 88.717105 \nL 147.283125 105.044692 \n\" clip-path=\"url(#p97814a1710)\" style=\"fill: none; stroke-dasharray: 5.55,2.4; stroke-dashoffset: 0; stroke: #ff7f0e; stroke-width: 1.5\"/>\n   </g>\n   <g id=\"line2d_79\">\n    <path d=\"M 49.633125 17.799305 \nL 69.163125 17.124904 \nL 88.693125 16.183553 \nL 108.223125 14.666151 \nL 127.753125 18.417506 \nL 147.283125 13.59835 \n\" clip-path=\"url(#p97814a1710)\" style=\"fill: none; stroke-dasharray: 9.6,2.4,1.5,2.4; stroke-dashoffset: 0; stroke: #2ca02c; stroke-width: 1.5\"/>\n   </g>\n   <g id=\"line2d_80\">\n    <path d=\"M 34.954394 62.706221 \nL 44.698573 92.527103 \nL 54.442752 103.762323 \nL 64.186931 104.911815 \nL 73.93111 112.400078 \nL 83.675289 112.919978 \nL 93.419468 119.646976 \nL 103.163647 118.710815 \nL 112.907826 124.432682 \nL 122.652006 123.612083 \nL 132.396185 129.09707 \nL 142.140364 128.276518 \nL 151.884543 133.318723 \n\" clip-path=\"url(#p97814a1710)\" style=\"fill: none; stroke: #1f77b4; stroke-width: 1.5; stroke-linecap: square\"/>\n   </g>\n   <g id=\"line2d_81\">\n    <path d=\"M 49.633125 95.273406 \nL 69.163125 97.985168 \nL 88.693125 100.64559 \nL 108.223125 104.001351 \nL 127.753125 88.717105 \nL 147.283125 105.044692 \n\" clip-path=\"url(#p97814a1710)\" style=\"fill: none; stroke-dasharray: 5.55,2.4; stroke-dashoffset: 0; stroke: #ff7f0e; stroke-width: 1.5\"/>\n   </g>\n   <g id=\"line2d_82\">\n    <path d=\"M 49.633125 17.799305 \nL 69.163125 17.124904 \nL 88.693125 16.183553 \nL 108.223125 14.666151 \nL 127.753125 18.417506 \nL 147.283125 13.59835 \n\" clip-path=\"url(#p97814a1710)\" style=\"fill: none; stroke-dasharray: 9.6,2.4,1.5,2.4; stroke-dashoffset: 0; stroke: #2ca02c; stroke-width: 1.5\"/>\n   </g>\n   <g id=\"line2d_83\">\n    <path d=\"M 34.954394 62.706221 \nL 44.698573 92.527103 \nL 54.442752 103.762323 \nL 64.186931 104.911815 \nL 73.93111 112.400078 \nL 83.675289 112.919978 \nL 93.419468 119.646976 \nL 103.163647 118.710815 \nL 112.907826 124.432682 \nL 122.652006 123.612083 \nL 132.396185 129.09707 \nL 142.140364 128.276518 \nL 151.884543 133.318723 \nL 161.628722 131.55693 \n\" clip-path=\"url(#p97814a1710)\" style=\"fill: none; stroke: #1f77b4; stroke-width: 1.5; stroke-linecap: square\"/>\n   </g>\n   <g id=\"line2d_84\">\n    <path d=\"M 49.633125 95.273406 \nL 69.163125 97.985168 \nL 88.693125 100.64559 \nL 108.223125 104.001351 \nL 127.753125 88.717105 \nL 147.283125 105.044692 \n\" clip-path=\"url(#p97814a1710)\" style=\"fill: none; stroke-dasharray: 5.55,2.4; stroke-dashoffset: 0; stroke: #ff7f0e; stroke-width: 1.5\"/>\n   </g>\n   <g id=\"line2d_85\">\n    <path d=\"M 49.633125 17.799305 \nL 69.163125 17.124904 \nL 88.693125 16.183553 \nL 108.223125 14.666151 \nL 127.753125 18.417506 \nL 147.283125 13.59835 \n\" clip-path=\"url(#p97814a1710)\" style=\"fill: none; stroke-dasharray: 9.6,2.4,1.5,2.4; stroke-dashoffset: 0; stroke: #2ca02c; stroke-width: 1.5\"/>\n   </g>\n   <g id=\"line2d_86\">\n    <path d=\"M 34.954394 62.706221 \nL 44.698573 92.527103 \nL 54.442752 103.762323 \nL 64.186931 104.911815 \nL 73.93111 112.400078 \nL 83.675289 112.919978 \nL 93.419468 119.646976 \nL 103.163647 118.710815 \nL 112.907826 124.432682 \nL 122.652006 123.612083 \nL 132.396185 129.09707 \nL 142.140364 128.276518 \nL 151.884543 133.318723 \nL 161.628722 131.55693 \n\" clip-path=\"url(#p97814a1710)\" style=\"fill: none; stroke: #1f77b4; stroke-width: 1.5; stroke-linecap: square\"/>\n   </g>\n   <g id=\"line2d_87\">\n    <path d=\"M 49.633125 95.273406 \nL 69.163125 97.985168 \nL 88.693125 100.64559 \nL 108.223125 104.001351 \nL 127.753125 88.717105 \nL 147.283125 105.044692 \nL 166.813125 102.192096 \n\" clip-path=\"url(#p97814a1710)\" style=\"fill: none; stroke-dasharray: 5.55,2.4; stroke-dashoffset: 0; stroke: #ff7f0e; stroke-width: 1.5\"/>\n   </g>\n   <g id=\"line2d_88\">\n    <path d=\"M 49.633125 17.799305 \nL 69.163125 17.124904 \nL 88.693125 16.183553 \nL 108.223125 14.666151 \nL 127.753125 18.417506 \nL 147.283125 13.59835 \n\" clip-path=\"url(#p97814a1710)\" style=\"fill: none; stroke-dasharray: 9.6,2.4,1.5,2.4; stroke-dashoffset: 0; stroke: #2ca02c; stroke-width: 1.5\"/>\n   </g>\n   <g id=\"line2d_89\">\n    <path d=\"M 34.954394 62.706221 \nL 44.698573 92.527103 \nL 54.442752 103.762323 \nL 64.186931 104.911815 \nL 73.93111 112.400078 \nL 83.675289 112.919978 \nL 93.419468 119.646976 \nL 103.163647 118.710815 \nL 112.907826 124.432682 \nL 122.652006 123.612083 \nL 132.396185 129.09707 \nL 142.140364 128.276518 \nL 151.884543 133.318723 \nL 161.628722 131.55693 \n\" clip-path=\"url(#p97814a1710)\" style=\"fill: none; stroke: #1f77b4; stroke-width: 1.5; stroke-linecap: square\"/>\n   </g>\n   <g id=\"line2d_90\">\n    <path d=\"M 49.633125 95.273406 \nL 69.163125 97.985168 \nL 88.693125 100.64559 \nL 108.223125 104.001351 \nL 127.753125 88.717105 \nL 147.283125 105.044692 \nL 166.813125 102.192096 \n\" clip-path=\"url(#p97814a1710)\" style=\"fill: none; stroke-dasharray: 5.55,2.4; stroke-dashoffset: 0; stroke: #ff7f0e; stroke-width: 1.5\"/>\n   </g>\n   <g id=\"line2d_91\">\n    <path d=\"M 49.633125 17.799305 \nL 69.163125 17.124904 \nL 88.693125 16.183553 \nL 108.223125 14.666151 \nL 127.753125 18.417506 \nL 147.283125 13.59835 \nL 166.813125 13.6405 \n\" clip-path=\"url(#p97814a1710)\" style=\"fill: none; stroke-dasharray: 9.6,2.4,1.5,2.4; stroke-dashoffset: 0; stroke: #2ca02c; stroke-width: 1.5\"/>\n   </g>\n   <g id=\"line2d_92\">\n    <path d=\"M 34.954394 62.706221 \nL 44.698573 92.527103 \nL 54.442752 103.762323 \nL 64.186931 104.911815 \nL 73.93111 112.400078 \nL 83.675289 112.919978 \nL 93.419468 119.646976 \nL 103.163647 118.710815 \nL 112.907826 124.432682 \nL 122.652006 123.612083 \nL 132.396185 129.09707 \nL 142.140364 128.276518 \nL 151.884543 133.318723 \nL 161.628722 131.55693 \nL 171.372901 136.060468 \n\" clip-path=\"url(#p97814a1710)\" style=\"fill: none; stroke: #1f77b4; stroke-width: 1.5; stroke-linecap: square\"/>\n   </g>\n   <g id=\"line2d_93\">\n    <path d=\"M 49.633125 95.273406 \nL 69.163125 97.985168 \nL 88.693125 100.64559 \nL 108.223125 104.001351 \nL 127.753125 88.717105 \nL 147.283125 105.044692 \nL 166.813125 102.192096 \n\" clip-path=\"url(#p97814a1710)\" style=\"fill: none; stroke-dasharray: 5.55,2.4; stroke-dashoffset: 0; stroke: #ff7f0e; stroke-width: 1.5\"/>\n   </g>\n   <g id=\"line2d_94\">\n    <path d=\"M 49.633125 17.799305 \nL 69.163125 17.124904 \nL 88.693125 16.183553 \nL 108.223125 14.666151 \nL 127.753125 18.417506 \nL 147.283125 13.59835 \nL 166.813125 13.6405 \n\" clip-path=\"url(#p97814a1710)\" style=\"fill: none; stroke-dasharray: 9.6,2.4,1.5,2.4; stroke-dashoffset: 0; stroke: #2ca02c; stroke-width: 1.5\"/>\n   </g>\n   <g id=\"line2d_95\">\n    <path d=\"M 34.954394 62.706221 \nL 44.698573 92.527103 \nL 54.442752 103.762323 \nL 64.186931 104.911815 \nL 73.93111 112.400078 \nL 83.675289 112.919978 \nL 93.419468 119.646976 \nL 103.163647 118.710815 \nL 112.907826 124.432682 \nL 122.652006 123.612083 \nL 132.396185 129.09707 \nL 142.140364 128.276518 \nL 151.884543 133.318723 \nL 161.628722 131.55693 \nL 171.372901 136.060468 \nL 181.11708 134.744895 \n\" clip-path=\"url(#p97814a1710)\" style=\"fill: none; stroke: #1f77b4; stroke-width: 1.5; stroke-linecap: square\"/>\n   </g>\n   <g id=\"line2d_96\">\n    <path d=\"M 49.633125 95.273406 \nL 69.163125 97.985168 \nL 88.693125 100.64559 \nL 108.223125 104.001351 \nL 127.753125 88.717105 \nL 147.283125 105.044692 \nL 166.813125 102.192096 \n\" clip-path=\"url(#p97814a1710)\" style=\"fill: none; stroke-dasharray: 5.55,2.4; stroke-dashoffset: 0; stroke: #ff7f0e; stroke-width: 1.5\"/>\n   </g>\n   <g id=\"line2d_97\">\n    <path d=\"M 49.633125 17.799305 \nL 69.163125 17.124904 \nL 88.693125 16.183553 \nL 108.223125 14.666151 \nL 127.753125 18.417506 \nL 147.283125 13.59835 \nL 166.813125 13.6405 \n\" clip-path=\"url(#p97814a1710)\" style=\"fill: none; stroke-dasharray: 9.6,2.4,1.5,2.4; stroke-dashoffset: 0; stroke: #2ca02c; stroke-width: 1.5\"/>\n   </g>\n   <g id=\"line2d_98\">\n    <path d=\"M 34.954394 62.706221 \nL 44.698573 92.527103 \nL 54.442752 103.762323 \nL 64.186931 104.911815 \nL 73.93111 112.400078 \nL 83.675289 112.919978 \nL 93.419468 119.646976 \nL 103.163647 118.710815 \nL 112.907826 124.432682 \nL 122.652006 123.612083 \nL 132.396185 129.09707 \nL 142.140364 128.276518 \nL 151.884543 133.318723 \nL 161.628722 131.55693 \nL 171.372901 136.060468 \nL 181.11708 134.744895 \n\" clip-path=\"url(#p97814a1710)\" style=\"fill: none; stroke: #1f77b4; stroke-width: 1.5; stroke-linecap: square\"/>\n   </g>\n   <g id=\"line2d_99\">\n    <path d=\"M 49.633125 95.273406 \nL 69.163125 97.985168 \nL 88.693125 100.64559 \nL 108.223125 104.001351 \nL 127.753125 88.717105 \nL 147.283125 105.044692 \nL 166.813125 102.192096 \nL 186.343125 103.048876 \n\" clip-path=\"url(#p97814a1710)\" style=\"fill: none; stroke-dasharray: 5.55,2.4; stroke-dashoffset: 0; stroke: #ff7f0e; stroke-width: 1.5\"/>\n   </g>\n   <g id=\"line2d_100\">\n    <path d=\"M 49.633125 17.799305 \nL 69.163125 17.124904 \nL 88.693125 16.183553 \nL 108.223125 14.666151 \nL 127.753125 18.417506 \nL 147.283125 13.59835 \nL 166.813125 13.6405 \n\" clip-path=\"url(#p97814a1710)\" style=\"fill: none; stroke-dasharray: 9.6,2.4,1.5,2.4; stroke-dashoffset: 0; stroke: #2ca02c; stroke-width: 1.5\"/>\n   </g>\n   <g id=\"line2d_101\">\n    <path d=\"M 34.954394 62.706221 \nL 44.698573 92.527103 \nL 54.442752 103.762323 \nL 64.186931 104.911815 \nL 73.93111 112.400078 \nL 83.675289 112.919978 \nL 93.419468 119.646976 \nL 103.163647 118.710815 \nL 112.907826 124.432682 \nL 122.652006 123.612083 \nL 132.396185 129.09707 \nL 142.140364 128.276518 \nL 151.884543 133.318723 \nL 161.628722 131.55693 \nL 171.372901 136.060468 \nL 181.11708 134.744895 \n\" clip-path=\"url(#p97814a1710)\" style=\"fill: none; stroke: #1f77b4; stroke-width: 1.5; stroke-linecap: square\"/>\n   </g>\n   <g id=\"line2d_102\">\n    <path d=\"M 49.633125 95.273406 \nL 69.163125 97.985168 \nL 88.693125 100.64559 \nL 108.223125 104.001351 \nL 127.753125 88.717105 \nL 147.283125 105.044692 \nL 166.813125 102.192096 \nL 186.343125 103.048876 \n\" clip-path=\"url(#p97814a1710)\" style=\"fill: none; stroke-dasharray: 5.55,2.4; stroke-dashoffset: 0; stroke: #ff7f0e; stroke-width: 1.5\"/>\n   </g>\n   <g id=\"line2d_103\">\n    <path d=\"M 49.633125 17.799305 \nL 69.163125 17.124904 \nL 88.693125 16.183553 \nL 108.223125 14.666151 \nL 127.753125 18.417506 \nL 147.283125 13.59835 \nL 166.813125 13.6405 \nL 186.343125 13.5 \n\" clip-path=\"url(#p97814a1710)\" style=\"fill: none; stroke-dasharray: 9.6,2.4,1.5,2.4; stroke-dashoffset: 0; stroke: #2ca02c; stroke-width: 1.5\"/>\n   </g>\n   <g id=\"line2d_104\">\n    <path d=\"M 34.954394 62.706221 \nL 44.698573 92.527103 \nL 54.442752 103.762323 \nL 64.186931 104.911815 \nL 73.93111 112.400078 \nL 83.675289 112.919978 \nL 93.419468 119.646976 \nL 103.163647 118.710815 \nL 112.907826 124.432682 \nL 122.652006 123.612083 \nL 132.396185 129.09707 \nL 142.140364 128.276518 \nL 151.884543 133.318723 \nL 161.628722 131.55693 \nL 171.372901 136.060468 \nL 181.11708 134.744895 \nL 190.861259 137.499367 \n\" clip-path=\"url(#p97814a1710)\" style=\"fill: none; stroke: #1f77b4; stroke-width: 1.5; stroke-linecap: square\"/>\n   </g>\n   <g id=\"line2d_105\">\n    <path d=\"M 49.633125 95.273406 \nL 69.163125 97.985168 \nL 88.693125 100.64559 \nL 108.223125 104.001351 \nL 127.753125 88.717105 \nL 147.283125 105.044692 \nL 166.813125 102.192096 \nL 186.343125 103.048876 \n\" clip-path=\"url(#p97814a1710)\" style=\"fill: none; stroke-dasharray: 5.55,2.4; stroke-dashoffset: 0; stroke: #ff7f0e; stroke-width: 1.5\"/>\n   </g>\n   <g id=\"line2d_106\">\n    <path d=\"M 49.633125 17.799305 \nL 69.163125 17.124904 \nL 88.693125 16.183553 \nL 108.223125 14.666151 \nL 127.753125 18.417506 \nL 147.283125 13.59835 \nL 166.813125 13.6405 \nL 186.343125 13.5 \n\" clip-path=\"url(#p97814a1710)\" style=\"fill: none; stroke-dasharray: 9.6,2.4,1.5,2.4; stroke-dashoffset: 0; stroke: #2ca02c; stroke-width: 1.5\"/>\n   </g>\n   <g id=\"line2d_107\">\n    <path d=\"M 34.954394 62.706221 \nL 44.698573 92.527103 \nL 54.442752 103.762323 \nL 64.186931 104.911815 \nL 73.93111 112.400078 \nL 83.675289 112.919978 \nL 93.419468 119.646976 \nL 103.163647 118.710815 \nL 112.907826 124.432682 \nL 122.652006 123.612083 \nL 132.396185 129.09707 \nL 142.140364 128.276518 \nL 151.884543 133.318723 \nL 161.628722 131.55693 \nL 171.372901 136.060468 \nL 181.11708 134.744895 \nL 190.861259 137.499367 \nL 200.605438 136.89674 \n\" clip-path=\"url(#p97814a1710)\" style=\"fill: none; stroke: #1f77b4; stroke-width: 1.5; stroke-linecap: square\"/>\n   </g>\n   <g id=\"line2d_108\">\n    <path d=\"M 49.633125 95.273406 \nL 69.163125 97.985168 \nL 88.693125 100.64559 \nL 108.223125 104.001351 \nL 127.753125 88.717105 \nL 147.283125 105.044692 \nL 166.813125 102.192096 \nL 186.343125 103.048876 \n\" clip-path=\"url(#p97814a1710)\" style=\"fill: none; stroke-dasharray: 5.55,2.4; stroke-dashoffset: 0; stroke: #ff7f0e; stroke-width: 1.5\"/>\n   </g>\n   <g id=\"line2d_109\">\n    <path d=\"M 49.633125 17.799305 \nL 69.163125 17.124904 \nL 88.693125 16.183553 \nL 108.223125 14.666151 \nL 127.753125 18.417506 \nL 147.283125 13.59835 \nL 166.813125 13.6405 \nL 186.343125 13.5 \n\" clip-path=\"url(#p97814a1710)\" style=\"fill: none; stroke-dasharray: 9.6,2.4,1.5,2.4; stroke-dashoffset: 0; stroke: #2ca02c; stroke-width: 1.5\"/>\n   </g>\n   <g id=\"line2d_110\">\n    <path d=\"M 34.954394 62.706221 \nL 44.698573 92.527103 \nL 54.442752 103.762323 \nL 64.186931 104.911815 \nL 73.93111 112.400078 \nL 83.675289 112.919978 \nL 93.419468 119.646976 \nL 103.163647 118.710815 \nL 112.907826 124.432682 \nL 122.652006 123.612083 \nL 132.396185 129.09707 \nL 142.140364 128.276518 \nL 151.884543 133.318723 \nL 161.628722 131.55693 \nL 171.372901 136.060468 \nL 181.11708 134.744895 \nL 190.861259 137.499367 \nL 200.605438 136.89674 \n\" clip-path=\"url(#p97814a1710)\" style=\"fill: none; stroke: #1f77b4; stroke-width: 1.5; stroke-linecap: square\"/>\n   </g>\n   <g id=\"line2d_111\">\n    <path d=\"M 49.633125 95.273406 \nL 69.163125 97.985168 \nL 88.693125 100.64559 \nL 108.223125 104.001351 \nL 127.753125 88.717105 \nL 147.283125 105.044692 \nL 166.813125 102.192096 \nL 186.343125 103.048876 \nL 205.873125 98.371908 \n\" clip-path=\"url(#p97814a1710)\" style=\"fill: none; stroke-dasharray: 5.55,2.4; stroke-dashoffset: 0; stroke: #ff7f0e; stroke-width: 1.5\"/>\n   </g>\n   <g id=\"line2d_112\">\n    <path d=\"M 49.633125 17.799305 \nL 69.163125 17.124904 \nL 88.693125 16.183553 \nL 108.223125 14.666151 \nL 127.753125 18.417506 \nL 147.283125 13.59835 \nL 166.813125 13.6405 \nL 186.343125 13.5 \n\" clip-path=\"url(#p97814a1710)\" style=\"fill: none; stroke-dasharray: 9.6,2.4,1.5,2.4; stroke-dashoffset: 0; stroke: #2ca02c; stroke-width: 1.5\"/>\n   </g>\n   <g id=\"line2d_113\">\n    <path d=\"M 34.954394 62.706221 \nL 44.698573 92.527103 \nL 54.442752 103.762323 \nL 64.186931 104.911815 \nL 73.93111 112.400078 \nL 83.675289 112.919978 \nL 93.419468 119.646976 \nL 103.163647 118.710815 \nL 112.907826 124.432682 \nL 122.652006 123.612083 \nL 132.396185 129.09707 \nL 142.140364 128.276518 \nL 151.884543 133.318723 \nL 161.628722 131.55693 \nL 171.372901 136.060468 \nL 181.11708 134.744895 \nL 190.861259 137.499367 \nL 200.605438 136.89674 \n\" clip-path=\"url(#p97814a1710)\" style=\"fill: none; stroke: #1f77b4; stroke-width: 1.5; stroke-linecap: square\"/>\n   </g>\n   <g id=\"line2d_114\">\n    <path d=\"M 49.633125 95.273406 \nL 69.163125 97.985168 \nL 88.693125 100.64559 \nL 108.223125 104.001351 \nL 127.753125 88.717105 \nL 147.283125 105.044692 \nL 166.813125 102.192096 \nL 186.343125 103.048876 \nL 205.873125 98.371908 \n\" clip-path=\"url(#p97814a1710)\" style=\"fill: none; stroke-dasharray: 5.55,2.4; stroke-dashoffset: 0; stroke: #ff7f0e; stroke-width: 1.5\"/>\n   </g>\n   <g id=\"line2d_115\">\n    <path d=\"M 49.633125 17.799305 \nL 69.163125 17.124904 \nL 88.693125 16.183553 \nL 108.223125 14.666151 \nL 127.753125 18.417506 \nL 147.283125 13.59835 \nL 166.813125 13.6405 \nL 186.343125 13.5 \nL 205.873125 13.76695 \n\" clip-path=\"url(#p97814a1710)\" style=\"fill: none; stroke-dasharray: 9.6,2.4,1.5,2.4; stroke-dashoffset: 0; stroke: #2ca02c; stroke-width: 1.5\"/>\n   </g>\n   <g id=\"line2d_116\">\n    <path d=\"M 34.954394 62.706221 \nL 44.698573 92.527103 \nL 54.442752 103.762323 \nL 64.186931 104.911815 \nL 73.93111 112.400078 \nL 83.675289 112.919978 \nL 93.419468 119.646976 \nL 103.163647 118.710815 \nL 112.907826 124.432682 \nL 122.652006 123.612083 \nL 132.396185 129.09707 \nL 142.140364 128.276518 \nL 151.884543 133.318723 \nL 161.628722 131.55693 \nL 171.372901 136.060468 \nL 181.11708 134.744895 \nL 190.861259 137.499367 \nL 200.605438 136.89674 \nL 210.349618 139.5 \n\" clip-path=\"url(#p97814a1710)\" style=\"fill: none; stroke: #1f77b4; stroke-width: 1.5; stroke-linecap: square\"/>\n   </g>\n   <g id=\"line2d_117\">\n    <path d=\"M 49.633125 95.273406 \nL 69.163125 97.985168 \nL 88.693125 100.64559 \nL 108.223125 104.001351 \nL 127.753125 88.717105 \nL 147.283125 105.044692 \nL 166.813125 102.192096 \nL 186.343125 103.048876 \nL 205.873125 98.371908 \n\" clip-path=\"url(#p97814a1710)\" style=\"fill: none; stroke-dasharray: 5.55,2.4; stroke-dashoffset: 0; stroke: #ff7f0e; stroke-width: 1.5\"/>\n   </g>\n   <g id=\"line2d_118\">\n    <path d=\"M 49.633125 17.799305 \nL 69.163125 17.124904 \nL 88.693125 16.183553 \nL 108.223125 14.666151 \nL 127.753125 18.417506 \nL 147.283125 13.59835 \nL 166.813125 13.6405 \nL 186.343125 13.5 \nL 205.873125 13.76695 \n\" clip-path=\"url(#p97814a1710)\" style=\"fill: none; stroke-dasharray: 9.6,2.4,1.5,2.4; stroke-dashoffset: 0; stroke: #2ca02c; stroke-width: 1.5\"/>\n   </g>\n   <g id=\"line2d_119\">\n    <path d=\"M 34.954394 62.706221 \nL 44.698573 92.527103 \nL 54.442752 103.762323 \nL 64.186931 104.911815 \nL 73.93111 112.400078 \nL 83.675289 112.919978 \nL 93.419468 119.646976 \nL 103.163647 118.710815 \nL 112.907826 124.432682 \nL 122.652006 123.612083 \nL 132.396185 129.09707 \nL 142.140364 128.276518 \nL 151.884543 133.318723 \nL 161.628722 131.55693 \nL 171.372901 136.060468 \nL 181.11708 134.744895 \nL 190.861259 137.499367 \nL 200.605438 136.89674 \nL 210.349618 139.5 \nL 220.093797 139.033577 \n\" clip-path=\"url(#p97814a1710)\" style=\"fill: none; stroke: #1f77b4; stroke-width: 1.5; stroke-linecap: square\"/>\n   </g>\n   <g id=\"line2d_120\">\n    <path d=\"M 49.633125 95.273406 \nL 69.163125 97.985168 \nL 88.693125 100.64559 \nL 108.223125 104.001351 \nL 127.753125 88.717105 \nL 147.283125 105.044692 \nL 166.813125 102.192096 \nL 186.343125 103.048876 \nL 205.873125 98.371908 \n\" clip-path=\"url(#p97814a1710)\" style=\"fill: none; stroke-dasharray: 5.55,2.4; stroke-dashoffset: 0; stroke: #ff7f0e; stroke-width: 1.5\"/>\n   </g>\n   <g id=\"line2d_121\">\n    <path d=\"M 49.633125 17.799305 \nL 69.163125 17.124904 \nL 88.693125 16.183553 \nL 108.223125 14.666151 \nL 127.753125 18.417506 \nL 147.283125 13.59835 \nL 166.813125 13.6405 \nL 186.343125 13.5 \nL 205.873125 13.76695 \n\" clip-path=\"url(#p97814a1710)\" style=\"fill: none; stroke-dasharray: 9.6,2.4,1.5,2.4; stroke-dashoffset: 0; stroke: #2ca02c; stroke-width: 1.5\"/>\n   </g>\n   <g id=\"line2d_122\">\n    <path d=\"M 34.954394 62.706221 \nL 44.698573 92.527103 \nL 54.442752 103.762323 \nL 64.186931 104.911815 \nL 73.93111 112.400078 \nL 83.675289 112.919978 \nL 93.419468 119.646976 \nL 103.163647 118.710815 \nL 112.907826 124.432682 \nL 122.652006 123.612083 \nL 132.396185 129.09707 \nL 142.140364 128.276518 \nL 151.884543 133.318723 \nL 161.628722 131.55693 \nL 171.372901 136.060468 \nL 181.11708 134.744895 \nL 190.861259 137.499367 \nL 200.605438 136.89674 \nL 210.349618 139.5 \nL 220.093797 139.033577 \n\" clip-path=\"url(#p97814a1710)\" style=\"fill: none; stroke: #1f77b4; stroke-width: 1.5; stroke-linecap: square\"/>\n   </g>\n   <g id=\"line2d_123\">\n    <path d=\"M 49.633125 95.273406 \nL 69.163125 97.985168 \nL 88.693125 100.64559 \nL 108.223125 104.001351 \nL 127.753125 88.717105 \nL 147.283125 105.044692 \nL 166.813125 102.192096 \nL 186.343125 103.048876 \nL 205.873125 98.371908 \nL 225.403125 92.730865 \n\" clip-path=\"url(#p97814a1710)\" style=\"fill: none; stroke-dasharray: 5.55,2.4; stroke-dashoffset: 0; stroke: #ff7f0e; stroke-width: 1.5\"/>\n   </g>\n   <g id=\"line2d_124\">\n    <path d=\"M 49.633125 17.799305 \nL 69.163125 17.124904 \nL 88.693125 16.183553 \nL 108.223125 14.666151 \nL 127.753125 18.417506 \nL 147.283125 13.59835 \nL 166.813125 13.6405 \nL 186.343125 13.5 \nL 205.873125 13.76695 \n\" clip-path=\"url(#p97814a1710)\" style=\"fill: none; stroke-dasharray: 9.6,2.4,1.5,2.4; stroke-dashoffset: 0; stroke: #2ca02c; stroke-width: 1.5\"/>\n   </g>\n   <g id=\"line2d_125\">\n    <path d=\"M 34.954394 62.706221 \nL 44.698573 92.527103 \nL 54.442752 103.762323 \nL 64.186931 104.911815 \nL 73.93111 112.400078 \nL 83.675289 112.919978 \nL 93.419468 119.646976 \nL 103.163647 118.710815 \nL 112.907826 124.432682 \nL 122.652006 123.612083 \nL 132.396185 129.09707 \nL 142.140364 128.276518 \nL 151.884543 133.318723 \nL 161.628722 131.55693 \nL 171.372901 136.060468 \nL 181.11708 134.744895 \nL 190.861259 137.499367 \nL 200.605438 136.89674 \nL 210.349618 139.5 \nL 220.093797 139.033577 \n\" clip-path=\"url(#p97814a1710)\" style=\"fill: none; stroke: #1f77b4; stroke-width: 1.5; stroke-linecap: square\"/>\n   </g>\n   <g id=\"line2d_126\">\n    <path d=\"M 49.633125 95.273406 \nL 69.163125 97.985168 \nL 88.693125 100.64559 \nL 108.223125 104.001351 \nL 127.753125 88.717105 \nL 147.283125 105.044692 \nL 166.813125 102.192096 \nL 186.343125 103.048876 \nL 205.873125 98.371908 \nL 225.403125 92.730865 \n\" clip-path=\"url(#p97814a1710)\" style=\"fill: none; stroke-dasharray: 5.55,2.4; stroke-dashoffset: 0; stroke: #ff7f0e; stroke-width: 1.5\"/>\n   </g>\n   <g id=\"line2d_127\">\n    <path d=\"M 49.633125 17.799305 \nL 69.163125 17.124904 \nL 88.693125 16.183553 \nL 108.223125 14.666151 \nL 127.753125 18.417506 \nL 147.283125 13.59835 \nL 166.813125 13.6405 \nL 186.343125 13.5 \nL 205.873125 13.76695 \nL 225.403125 14.413251 \n\" clip-path=\"url(#p97814a1710)\" style=\"fill: none; stroke-dasharray: 9.6,2.4,1.5,2.4; stroke-dashoffset: 0; stroke: #2ca02c; stroke-width: 1.5\"/>\n   </g>\n   <g id=\"patch_3\">\n    <path d=\"M 30.103125 145.8 \nL 30.103125 7.2 \n\" style=\"fill: none; stroke: #000000; stroke-width: 0.8; stroke-linejoin: miter; stroke-linecap: square\"/>\n   </g>\n   <g id=\"patch_4\">\n    <path d=\"M 225.403125 145.8 \nL 225.403125 7.2 \n\" style=\"fill: none; stroke: #000000; stroke-width: 0.8; stroke-linejoin: miter; stroke-linecap: square\"/>\n   </g>\n   <g id=\"patch_5\">\n    <path d=\"M 30.103125 145.8 \nL 225.403125 145.8 \n\" style=\"fill: none; stroke: #000000; stroke-width: 0.8; stroke-linejoin: miter; stroke-linecap: square\"/>\n   </g>\n   <g id=\"patch_6\">\n    <path d=\"M 30.103125 7.2 \nL 225.403125 7.2 \n\" style=\"fill: none; stroke: #000000; stroke-width: 0.8; stroke-linejoin: miter; stroke-linecap: square\"/>\n   </g>\n   <g id=\"legend_1\">\n    <g id=\"patch_7\">\n     <path d=\"M 138.8125 100.434375 \nL 218.403125 100.434375 \nQ 220.403125 100.434375 220.403125 98.434375 \nL 220.403125 54.565625 \nQ 220.403125 52.565625 218.403125 52.565625 \nL 138.8125 52.565625 \nQ 136.8125 52.565625 136.8125 54.565625 \nL 136.8125 98.434375 \nQ 136.8125 100.434375 138.8125 100.434375 \nz\n\" style=\"fill: #ffffff; opacity: 0.8; stroke: #cccccc; stroke-linejoin: miter\"/>\n    </g>\n    <g id=\"line2d_128\">\n     <path d=\"M 140.8125 60.664063 \nL 150.8125 60.664063 \nL 160.8125 60.664063 \n\" style=\"fill: none; stroke: #1f77b4; stroke-width: 1.5; stroke-linecap: square\"/>\n    </g>\n    <g id=\"text_13\">\n     <!-- train_loss -->\n     <g transform=\"translate(168.8125 64.164063) scale(0.1 -0.1)\">\n      <defs>\n       <path id=\"DejaVuSans-74\" d=\"M 1172 4494 \nL 1172 3500 \nL 2356 3500 \nL 2356 3053 \nL 1172 3053 \nL 1172 1153 \nQ 1172 725 1289 603 \nQ 1406 481 1766 481 \nL 2356 481 \nL 2356 0 \nL 1766 0 \nQ 1100 0 847 248 \nQ 594 497 594 1153 \nL 594 3053 \nL 172 3053 \nL 172 3500 \nL 594 3500 \nL 594 4494 \nL 1172 4494 \nz\n\" transform=\"scale(0.015625)\"/>\n       <path id=\"DejaVuSans-72\" d=\"M 2631 2963 \nQ 2534 3019 2420 3045 \nQ 2306 3072 2169 3072 \nQ 1681 3072 1420 2755 \nQ 1159 2438 1159 1844 \nL 1159 0 \nL 581 0 \nL 581 3500 \nL 1159 3500 \nL 1159 2956 \nQ 1341 3275 1631 3429 \nQ 1922 3584 2338 3584 \nQ 2397 3584 2469 3576 \nQ 2541 3569 2628 3553 \nL 2631 2963 \nz\n\" transform=\"scale(0.015625)\"/>\n       <path id=\"DejaVuSans-61\" d=\"M 2194 1759 \nQ 1497 1759 1228 1600 \nQ 959 1441 959 1056 \nQ 959 750 1161 570 \nQ 1363 391 1709 391 \nQ 2188 391 2477 730 \nQ 2766 1069 2766 1631 \nL 2766 1759 \nL 2194 1759 \nz\nM 3341 1997 \nL 3341 0 \nL 2766 0 \nL 2766 531 \nQ 2569 213 2275 61 \nQ 1981 -91 1556 -91 \nQ 1019 -91 701 211 \nQ 384 513 384 1019 \nQ 384 1609 779 1909 \nQ 1175 2209 1959 2209 \nL 2766 2209 \nL 2766 2266 \nQ 2766 2663 2505 2880 \nQ 2244 3097 1772 3097 \nQ 1472 3097 1187 3025 \nQ 903 2953 641 2809 \nL 641 3341 \nQ 956 3463 1253 3523 \nQ 1550 3584 1831 3584 \nQ 2591 3584 2966 3190 \nQ 3341 2797 3341 1997 \nz\n\" transform=\"scale(0.015625)\"/>\n       <path id=\"DejaVuSans-69\" d=\"M 603 3500 \nL 1178 3500 \nL 1178 0 \nL 603 0 \nL 603 3500 \nz\nM 603 4863 \nL 1178 4863 \nL 1178 4134 \nL 603 4134 \nL 603 4863 \nz\n\" transform=\"scale(0.015625)\"/>\n       <path id=\"DejaVuSans-6e\" d=\"M 3513 2113 \nL 3513 0 \nL 2938 0 \nL 2938 2094 \nQ 2938 2591 2744 2837 \nQ 2550 3084 2163 3084 \nQ 1697 3084 1428 2787 \nQ 1159 2491 1159 1978 \nL 1159 0 \nL 581 0 \nL 581 3500 \nL 1159 3500 \nL 1159 2956 \nQ 1366 3272 1645 3428 \nQ 1925 3584 2291 3584 \nQ 2894 3584 3203 3211 \nQ 3513 2838 3513 2113 \nz\n\" transform=\"scale(0.015625)\"/>\n       <path id=\"DejaVuSans-5f\" d=\"M 3263 -1063 \nL 3263 -1509 \nL -63 -1509 \nL -63 -1063 \nL 3263 -1063 \nz\n\" transform=\"scale(0.015625)\"/>\n       <path id=\"DejaVuSans-6c\" d=\"M 603 4863 \nL 1178 4863 \nL 1178 0 \nL 603 0 \nL 603 4863 \nz\n\" transform=\"scale(0.015625)\"/>\n       <path id=\"DejaVuSans-73\" d=\"M 2834 3397 \nL 2834 2853 \nQ 2591 2978 2328 3040 \nQ 2066 3103 1784 3103 \nQ 1356 3103 1142 2972 \nQ 928 2841 928 2578 \nQ 928 2378 1081 2264 \nQ 1234 2150 1697 2047 \nL 1894 2003 \nQ 2506 1872 2764 1633 \nQ 3022 1394 3022 966 \nQ 3022 478 2636 193 \nQ 2250 -91 1575 -91 \nQ 1294 -91 989 -36 \nQ 684 19 347 128 \nL 347 722 \nQ 666 556 975 473 \nQ 1284 391 1588 391 \nQ 1994 391 2212 530 \nQ 2431 669 2431 922 \nQ 2431 1156 2273 1281 \nQ 2116 1406 1581 1522 \nL 1381 1569 \nQ 847 1681 609 1914 \nQ 372 2147 372 2553 \nQ 372 3047 722 3315 \nQ 1072 3584 1716 3584 \nQ 2034 3584 2315 3537 \nQ 2597 3491 2834 3397 \nz\n\" transform=\"scale(0.015625)\"/>\n      </defs>\n      <use xlink:href=\"#DejaVuSans-74\"/>\n      <use xlink:href=\"#DejaVuSans-72\" x=\"39.208984\"/>\n      <use xlink:href=\"#DejaVuSans-61\" x=\"80.322266\"/>\n      <use xlink:href=\"#DejaVuSans-69\" x=\"141.601562\"/>\n      <use xlink:href=\"#DejaVuSans-6e\" x=\"169.384766\"/>\n      <use xlink:href=\"#DejaVuSans-5f\" x=\"232.763672\"/>\n      <use xlink:href=\"#DejaVuSans-6c\" x=\"282.763672\"/>\n      <use xlink:href=\"#DejaVuSans-6f\" x=\"310.546875\"/>\n      <use xlink:href=\"#DejaVuSans-73\" x=\"371.728516\"/>\n      <use xlink:href=\"#DejaVuSans-73\" x=\"423.828125\"/>\n     </g>\n    </g>\n    <g id=\"line2d_129\">\n     <path d=\"M 140.8125 75.620313 \nL 150.8125 75.620313 \nL 160.8125 75.620313 \n\" style=\"fill: none; stroke-dasharray: 5.55,2.4; stroke-dashoffset: 0; stroke: #ff7f0e; stroke-width: 1.5\"/>\n    </g>\n    <g id=\"text_14\">\n     <!-- val_loss -->\n     <g transform=\"translate(168.8125 79.120313) scale(0.1 -0.1)\">\n      <defs>\n       <path id=\"DejaVuSans-76\" d=\"M 191 3500 \nL 800 3500 \nL 1894 563 \nL 2988 3500 \nL 3597 3500 \nL 2284 0 \nL 1503 0 \nL 191 3500 \nz\n\" transform=\"scale(0.015625)\"/>\n      </defs>\n      <use xlink:href=\"#DejaVuSans-76\"/>\n      <use xlink:href=\"#DejaVuSans-61\" x=\"59.179688\"/>\n      <use xlink:href=\"#DejaVuSans-6c\" x=\"120.458984\"/>\n      <use xlink:href=\"#DejaVuSans-5f\" x=\"148.242188\"/>\n      <use xlink:href=\"#DejaVuSans-6c\" x=\"198.242188\"/>\n      <use xlink:href=\"#DejaVuSans-6f\" x=\"226.025391\"/>\n      <use xlink:href=\"#DejaVuSans-73\" x=\"287.207031\"/>\n      <use xlink:href=\"#DejaVuSans-73\" x=\"339.306641\"/>\n     </g>\n    </g>\n    <g id=\"line2d_130\">\n     <path d=\"M 140.8125 90.576563 \nL 150.8125 90.576563 \nL 160.8125 90.576563 \n\" style=\"fill: none; stroke-dasharray: 9.6,2.4,1.5,2.4; stroke-dashoffset: 0; stroke: #2ca02c; stroke-width: 1.5\"/>\n    </g>\n    <g id=\"text_15\">\n     <!-- val_acc -->\n     <g transform=\"translate(168.8125 94.076563) scale(0.1 -0.1)\">\n      <use xlink:href=\"#DejaVuSans-76\"/>\n      <use xlink:href=\"#DejaVuSans-61\" x=\"59.179688\"/>\n      <use xlink:href=\"#DejaVuSans-6c\" x=\"120.458984\"/>\n      <use xlink:href=\"#DejaVuSans-5f\" x=\"148.242188\"/>\n      <use xlink:href=\"#DejaVuSans-61\" x=\"198.242188\"/>\n      <use xlink:href=\"#DejaVuSans-63\" x=\"259.521484\"/>\n      <use xlink:href=\"#DejaVuSans-63\" x=\"314.501953\"/>\n     </g>\n    </g>\n   </g>\n  </g>\n </g>\n <defs>\n  <clipPath id=\"p97814a1710\">\n   <rect x=\"30.103125\" y=\"7.2\" width=\"195.3\" height=\"138.6\"/>\n  </clipPath>\n </defs>\n</svg>\n"
          },
          "metadata": {}
        }
      ]
    },
    {
      "cell_type": "markdown",
      "source": [
        "**8.6 key takeaways**\n",
        "\n",
        "*   Deeper neural networks can be more expressive, but training them becomes harder. Adding layers doesn't guarantee better results. To ensure improvement with added layers, the new network architecture should encompass the capabilities of the previous one (think of them as nested sets).\n",
        "\n",
        "*  Question: What is the difference between a regular block and a residual block?\n",
        "answer: A regular block directly learns the desired mapping, while a residual block learns the difference between the desired mapping and the input (easier to learn).\n",
        "\n",
        "*  Question: When is a 1x1 convolution used in a residual block?\n",
        "Answer : It's used when we need to adjust the number of channels in the\n",
        "input to match the output before adding them together."
      ],
      "metadata": {
        "id": "yEz0k7f-5mDS"
      }
    }
  ]
}